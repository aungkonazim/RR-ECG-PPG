{
 "cells": [
  {
   "cell_type": "code",
   "execution_count": 2,
   "metadata": {},
   "outputs": [],
   "source": [
    "import pandas as pd\n",
    "import pickle\n",
    "import os\n",
    "import numpy as np\n",
    "# data = pickle.load(open('../data/leftppgecg.p','rb'))\n",
    "directory = '../data_users1/'"
   ]
  },
  {
   "cell_type": "code",
   "execution_count": 3,
   "metadata": {},
   "outputs": [],
   "source": [
    "import zipfile\n",
    "with zipfile.ZipFile(directory+'ecg_ppg_25_left.zip', 'r') as zip_ref:\n",
    "    zip_ref.extractall(directory+'ecg_ppg/')"
   ]
  },
  {
   "cell_type": "code",
   "execution_count": null,
   "metadata": {},
   "outputs": [],
   "source": [
    "import pandas as pd\n",
    "import pickle\n",
    "import os\n",
    "import numpy as np\n",
    "# data = pickle.load(open('../data/leftppgecg.p','rb'))\n",
    "directory = '../data_users/ecg_ppg/'\n",
    "dfs = []\n",
    "for f in os.listdir(directory)[:20]:\n",
    "    if f[-1]!='p':\n",
    "        continue\n",
    "    a = pickle.load(open(directory+f,'rb'))\n",
    "    print(a.shape)\n",
    "    dfs.append(a)\n",
    "data1 = pd.concat(dfs)"
   ]
  },
  {
   "cell_type": "code",
   "execution_count": null,
   "metadata": {},
   "outputs": [],
   "source": [
    "data_filtered = data1.dropna()\n",
    "data = data1.dropna()"
   ]
  },
  {
   "cell_type": "code",
   "execution_count": null,
   "metadata": {},
   "outputs": [],
   "source": [
    "import warnings\n",
    "warnings.filterwarnings('ignore')\n",
    "data_filtered['red_rr'] = data['ppg_rr'].apply(lambda x:x[0])\n",
    "data_filtered['ir_rr'] = data['ppg_rr'].apply(lambda x:x[1])\n",
    "data_filtered['green_rr'] = data['ppg_rr'].apply(lambda x:x[2])\n",
    "data_filtered['red_qual'] = data['likelihood'].apply(lambda x:x[0])\n",
    "data_filtered['ir_qual'] = data['likelihood'].apply(lambda x:x[1])\n",
    "data_filtered['green_qual'] = data['likelihood'].apply(lambda x:x[2])"
   ]
  },
  {
   "cell_type": "code",
   "execution_count": null,
   "metadata": {},
   "outputs": [],
   "source": [
    "columns = ['red','ir','green']\n",
    "X = []\n",
    "for c in columns:\n",
    "    temp = data_filtered[[c+'_rr',c+'_qual','ecg_rr']].values\n",
    "    X.append(temp)\n",
    "X = np.concatenate(X,axis=0)"
   ]
  },
  {
   "cell_type": "code",
   "execution_count": null,
   "metadata": {},
   "outputs": [],
   "source": [
    "X = X[X[:,0]>0]"
   ]
  },
  {
   "cell_type": "code",
   "execution_count": null,
   "metadata": {},
   "outputs": [],
   "source": [
    "import matplotlib.pyplot as plt\n",
    "%matplotlib notebook"
   ]
  },
  {
   "cell_type": "code",
   "execution_count": null,
   "metadata": {},
   "outputs": [],
   "source": [
    "\n",
    "plt.figure()\n",
    "plt.hist(X[:,1],50,normed=True)\n",
    "plt.show()\n",
    "# X"
   ]
  },
  {
   "cell_type": "code",
   "execution_count": null,
   "metadata": {},
   "outputs": [],
   "source": [
    "l_range = np.arange(0,1,.05)\n",
    "x = []\n",
    "y = []\n",
    "for l in l_range:\n",
    "    index = np.where((X[:,1]>=l)&(X[:,1]<l+.05))[0]\n",
    "    temp = X[index]\n",
    "    x.append(str(np.round(l*100)/100)+'-'+str(np.round((l+.05)*100)/100))\n",
    "    y.append(list(np.abs(temp[:,0]-temp[:,2])))\n",
    "#     print(np.mean(np.abs(temp[:,0]-temp[:,2])),np.std(np.abs(temp[:,0]-temp[:,2])),len(index))\n",
    "plt.figure(figsize=(10,8))\n",
    "plt.rcParams.update({'font.size':20})\n",
    "plt.boxplot(y,showfliers=False)\n",
    "plt.xticks(range(1,len(x)+1),x,rotation=60)\n",
    "plt.ylabel('Absolute Difference in Milliseconds')\n",
    "plt.xlabel('Range of Signal Quality')\n",
    "plt.tight_layout()\n",
    "plt.show()   "
   ]
  },
  {
   "cell_type": "code",
   "execution_count": null,
   "metadata": {},
   "outputs": [],
   "source": [
    "import warnings\n",
    "warnings.filterwarnings('ignore')\n",
    "from joblib import Parallel,delayed\n",
    "from copy import deepcopy\n",
    "data_all = deepcopy(data1)\n",
    "data_all['red_rr'] = data_all['ppg_rr'].apply(lambda x:x[0])\n",
    "data_all['ir_rr'] = data_all['ppg_rr'].apply(lambda x:x[1])\n",
    "data_all['green_rr'] = data_all['ppg_rr'].apply(lambda x:x[2])\n",
    "data_all['red_qual'] = data_all['likelihood'].apply(lambda x:x[0])\n",
    "data_all['ir_qual'] = data_all['likelihood'].apply(lambda x:x[1])\n",
    "data_all['green_qual'] = data_all['likelihood'].apply(lambda x:x[2])\n",
    "data_all['index'] = data_all['likelihood'].apply(lambda x:np.argmax(np.array(x)))\n",
    "values = data_all[['ppg_rr','index']].values\n",
    "values = [a[b] for a,b in values]\n",
    "data_all['ppg_rr_best'] = values\n",
    "data_all['likelihood_best'] = data_all['likelihood'].apply(lambda x:max(x))"
   ]
  },
  {
   "cell_type": "code",
   "execution_count": null,
   "metadata": {},
   "outputs": [],
   "source": [
    "data_all.dropna().shape,data_all.shape"
   ]
  },
  {
   "cell_type": "code",
   "execution_count": null,
   "metadata": {
    "scrolled": false
   },
   "outputs": [],
   "source": [
    "unique_users = data_all['user'].unique()\n",
    "\n",
    "def get_data(name,df):\n",
    "#     df = df.fillna(df.mean())\n",
    "    df = df[['time','activity','red_qual','ir_qual','green_qual','likelihood_best',\n",
    "             'red_rr','ir_rr','green_rr','ppg_rr_best','ecg_rr']].values\n",
    "    return df.reshape(-1,60,11)\n",
    "all_X = []\n",
    "for user in unique_users:\n",
    "    data_user = data_all[data_all.user.isin([user])]\n",
    "    data_user.set_index('timestamp',inplace=True)\n",
    "    convert_dict = {'ecg_rr': float}\n",
    "    data_user = data_user.astype(convert_dict) \n",
    "    data_resampled = data_user.resample('1S').mean()\n",
    "    if 'ecg_rr' not in np.array(data_resampled.columns.values):\n",
    "        continue\n",
    "    df_col = Parallel(n_jobs=20,verbose=1)(delayed(get_data)(group_name, df_group) for group_name, df_group\n",
    "                                           in data_resampled.groupby(pd.Grouper(freq='60S')) if df_group.shape[0]==60)\n",
    "#     df_col = [get_data(group_name, df_group) for group_name, df_group\n",
    "#                                            in data_resampled.groupby(pd.Grouper(freq='60S')) if df_group.shape[0]==60]\n",
    "    all_X.append(np.concatenate(df_col))\n",
    "        "
   ]
  },
  {
   "cell_type": "code",
   "execution_count": null,
   "metadata": {},
   "outputs": [],
   "source": [
    "print(data_all.columns.values)"
   ]
  },
  {
   "cell_type": "code",
   "execution_count": null,
   "metadata": {},
   "outputs": [],
   "source": [
    "X = np.concatenate(all_X)"
   ]
  },
  {
   "cell_type": "code",
   "execution_count": null,
   "metadata": {},
   "outputs": [],
   "source": [
    "X.shape"
   ]
  },
  {
   "cell_type": "code",
   "execution_count": null,
   "metadata": {},
   "outputs": [],
   "source": [
    "import pickle\n",
    "pickle.dump(X,open('../data/60_second_data1.p','wb'))"
   ]
  },
  {
   "cell_type": "code",
   "execution_count": null,
   "metadata": {},
   "outputs": [],
   "source": [
    "data_resampled['activity'].shape"
   ]
  },
  {
   "cell_type": "code",
   "execution_count": null,
   "metadata": {},
   "outputs": [],
   "source": [
    "data_resampled['activity'].dropna().shape"
   ]
  },
  {
   "cell_type": "code",
   "execution_count": null,
   "metadata": {},
   "outputs": [],
   "source": [
    "X.shape"
   ]
  },
  {
   "cell_type": "code",
   "execution_count": null,
   "metadata": {},
   "outputs": [],
   "source": [
    "!conda install statsmodels"
   ]
  },
  {
   "cell_type": "code",
   "execution_count": null,
   "metadata": {},
   "outputs": [],
   "source": []
  }
 ],
 "metadata": {
  "kernelspec": {
   "display_name": "Python 3",
   "language": "python",
   "name": "python3"
  },
  "language_info": {
   "codemirror_mode": {
    "name": "ipython",
    "version": 3
   },
   "file_extension": ".py",
   "mimetype": "text/x-python",
   "name": "python",
   "nbconvert_exporter": "python",
   "pygments_lexer": "ipython3",
   "version": "3.7.6"
  }
 },
 "nbformat": 4,
 "nbformat_minor": 4
}
