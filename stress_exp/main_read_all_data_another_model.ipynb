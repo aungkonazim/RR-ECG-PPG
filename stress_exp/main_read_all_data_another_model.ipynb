{
 "cells": [
  {
   "cell_type": "code",
   "execution_count": 1,
   "metadata": {},
   "outputs": [
    {
     "name": "stderr",
     "output_type": "stream",
     "text": [
      "/cerebralcortex/kessel_jupyter_virtualenv/cc3_high_performance/lib/python3.6/site-packages/sklearn/externals/joblib/__init__.py:15: FutureWarning: sklearn.externals.joblib is deprecated in 0.21 and will be removed in 0.23. Please import this functionality directly from joblib, which can be installed with: pip install joblib. If this warning is raised when loading pickled models, you may need to re-serialize those models with scikit-learn 0.21+.\n",
      "  warnings.warn(msg, category=FutureWarning)\n",
      "[Parallel(n_jobs=25)]: Using backend LokyBackend with 25 concurrent workers.\n",
      "[Parallel(n_jobs=25)]: Done   3 out of  10 | elapsed:    9.0s remaining:   21.1s\n",
      "[Parallel(n_jobs=25)]: Done   6 out of  10 | elapsed:    9.7s remaining:    6.5s\n",
      "[Parallel(n_jobs=25)]: Done  10 out of  10 | elapsed:   15.7s finished\n",
      "[Parallel(n_jobs=25)]: Using backend LokyBackend with 25 concurrent workers.\n",
      "[Parallel(n_jobs=25)]: Done   4 out of  11 | elapsed:    7.3s remaining:   12.7s\n",
      "[Parallel(n_jobs=25)]: Done   7 out of  11 | elapsed:    8.3s remaining:    4.8s\n",
      "[Parallel(n_jobs=25)]: Done  11 out of  11 | elapsed:   12.7s finished\n"
     ]
    },
    {
     "name": "stdout",
     "output_type": "stream",
     "text": [
      "(3896, 32) (3321, 32) (7217, 32) Index(['window', 'ltime', 'likelihood_max_array', 'power', 'activity',\n",
      "       'rr_array', 'time', 'timestamp', 'localtime', 'ecg_rr_array', 'day',\n",
      "       'version', 'user', 'quality_features', 'activity_features',\n",
      "       'likelihood', 'likelihood_ind', 'length', 'rr', 'rr_col', 'length1',\n",
      "       'indicator', 'rr_col1', 'rr_features', 'rr_weighted_features',\n",
      "       'quality_mag', 'ecg_rr_array_final', 'ecg_features',\n",
      "       'stress_likelihood_ecg', 'stress_likelihood_ppg',\n",
      "       'stress_likelihood_ppg_qual', 'hand'],\n",
      "      dtype='object')\n",
      "saved ------------------------------\n"
     ]
    },
    {
     "name": "stderr",
     "output_type": "stream",
     "text": [
      "[Parallel(n_jobs=25)]: Using backend LokyBackend with 25 concurrent workers.\n",
      "[Parallel(n_jobs=25)]: Done   3 out of  12 | elapsed:   11.5s remaining:   34.6s\n",
      "[Parallel(n_jobs=25)]: Done   7 out of  12 | elapsed:   25.2s remaining:   18.0s\n",
      "[Parallel(n_jobs=25)]: Done  12 out of  12 | elapsed:   33.4s finished\n",
      "[Parallel(n_jobs=25)]: Using backend LokyBackend with 25 concurrent workers.\n",
      "[Parallel(n_jobs=25)]: Done   4 out of  13 | elapsed:   17.2s remaining:   38.6s\n",
      "[Parallel(n_jobs=25)]: Done   8 out of  13 | elapsed:   28.9s remaining:   18.0s\n",
      "[Parallel(n_jobs=25)]: Done  13 out of  13 | elapsed:   33.2s finished\n"
     ]
    },
    {
     "name": "stdout",
     "output_type": "stream",
     "text": [
      "(4819, 32) (5663, 32) (10482, 32) Index(['window', 'ltime', 'likelihood_max_array', 'power', 'activity',\n",
      "       'rr_array', 'time', 'timestamp', 'localtime', 'ecg_rr_array', 'day',\n",
      "       'version', 'user', 'quality_features', 'activity_features',\n",
      "       'likelihood', 'likelihood_ind', 'length', 'rr', 'rr_col', 'length1',\n",
      "       'indicator', 'rr_col1', 'rr_features', 'rr_weighted_features',\n",
      "       'quality_mag', 'ecg_rr_array_final', 'ecg_features',\n",
      "       'stress_likelihood_ecg', 'stress_likelihood_ppg',\n",
      "       'stress_likelihood_ppg_qual', 'hand'],\n",
      "      dtype='object')\n",
      "saved ------------------------------\n"
     ]
    },
    {
     "name": "stderr",
     "output_type": "stream",
     "text": [
      "[Parallel(n_jobs=25)]: Using backend LokyBackend with 25 concurrent workers.\n",
      "[Parallel(n_jobs=25)]: Done   2 out of   2 | elapsed:    6.8s remaining:    0.0s\n",
      "[Parallel(n_jobs=25)]: Done   2 out of   2 | elapsed:    6.8s finished\n",
      "[Parallel(n_jobs=25)]: Using backend LokyBackend with 25 concurrent workers.\n",
      "[Parallel(n_jobs=25)]: Done   2 out of   2 | elapsed:    8.7s remaining:    0.0s\n",
      "[Parallel(n_jobs=25)]: Done   2 out of   2 | elapsed:    8.7s finished\n"
     ]
    },
    {
     "name": "stdout",
     "output_type": "stream",
     "text": [
      "(776, 32) (1061, 32) (1837, 32) Index(['window', 'ltime', 'likelihood_max_array', 'power', 'activity',\n",
      "       'rr_array', 'time', 'timestamp', 'localtime', 'ecg_rr_array', 'day',\n",
      "       'version', 'user', 'quality_features', 'activity_features',\n",
      "       'likelihood', 'likelihood_ind', 'length', 'rr', 'rr_col', 'length1',\n",
      "       'indicator', 'rr_col1', 'rr_features', 'rr_weighted_features',\n",
      "       'quality_mag', 'ecg_rr_array_final', 'ecg_features',\n",
      "       'stress_likelihood_ecg', 'stress_likelihood_ppg',\n",
      "       'stress_likelihood_ppg_qual', 'hand'],\n",
      "      dtype='object')\n",
      "saved ------------------------------\n"
     ]
    },
    {
     "name": "stderr",
     "output_type": "stream",
     "text": [
      "[Parallel(n_jobs=25)]: Using backend LokyBackend with 25 concurrent workers.\n",
      "[Parallel(n_jobs=25)]: Done   5 out of  14 | elapsed:   14.8s remaining:   26.6s\n",
      "[Parallel(n_jobs=25)]: Done   9 out of  14 | elapsed:   27.2s remaining:   15.1s\n",
      "[Parallel(n_jobs=25)]: Done  14 out of  14 | elapsed:   31.7s finished\n",
      "[Parallel(n_jobs=25)]: Using backend LokyBackend with 25 concurrent workers.\n",
      "[Parallel(n_jobs=25)]: Done   5 out of  14 | elapsed:   11.4s remaining:   20.4s\n",
      "[Parallel(n_jobs=25)]: Done   9 out of  14 | elapsed:   25.0s remaining:   13.9s\n",
      "[Parallel(n_jobs=25)]: Done  14 out of  14 | elapsed:   31.9s finished\n"
     ]
    },
    {
     "name": "stdout",
     "output_type": "stream",
     "text": [
      "(5325, 32) (5040, 32) (10365, 32) Index(['window', 'ltime', 'likelihood_max_array', 'power', 'activity',\n",
      "       'rr_array', 'time', 'timestamp', 'localtime', 'ecg_rr_array', 'day',\n",
      "       'version', 'user', 'quality_features', 'activity_features',\n",
      "       'likelihood', 'likelihood_ind', 'length', 'rr', 'rr_col', 'length1',\n",
      "       'indicator', 'rr_col1', 'rr_features', 'rr_weighted_features',\n",
      "       'quality_mag', 'ecg_rr_array_final', 'ecg_features',\n",
      "       'stress_likelihood_ecg', 'stress_likelihood_ppg',\n",
      "       'stress_likelihood_ppg_qual', 'hand'],\n",
      "      dtype='object')\n",
      "saved ------------------------------\n"
     ]
    },
    {
     "name": "stderr",
     "output_type": "stream",
     "text": [
      "[Parallel(n_jobs=25)]: Using backend LokyBackend with 25 concurrent workers.\n",
      "[Parallel(n_jobs=25)]: Done   3 out of   3 | elapsed:    8.0s remaining:    0.0s\n",
      "[Parallel(n_jobs=25)]: Done   3 out of   3 | elapsed:    8.0s finished\n",
      "[Parallel(n_jobs=25)]: Using backend LokyBackend with 25 concurrent workers.\n",
      "[Parallel(n_jobs=25)]: Done   4 out of   8 | elapsed:   11.7s remaining:   11.7s\n",
      "[Parallel(n_jobs=25)]: Done   8 out of   8 | elapsed:   33.3s finished\n"
     ]
    },
    {
     "name": "stdout",
     "output_type": "stream",
     "text": [
      "(444, 32) (2120, 32) (2564, 32) Index(['window', 'ltime', 'likelihood_max_array', 'power', 'activity',\n",
      "       'rr_array', 'time', 'timestamp', 'localtime', 'ecg_rr_array', 'day',\n",
      "       'version', 'user', 'quality_features', 'activity_features',\n",
      "       'likelihood', 'likelihood_ind', 'length', 'rr', 'rr_col', 'length1',\n",
      "       'indicator', 'rr_col1', 'rr_features', 'rr_weighted_features',\n",
      "       'quality_mag', 'ecg_rr_array_final', 'ecg_features',\n",
      "       'stress_likelihood_ecg', 'stress_likelihood_ppg',\n",
      "       'stress_likelihood_ppg_qual', 'hand'],\n",
      "      dtype='object')\n",
      "saved ------------------------------\n"
     ]
    },
    {
     "name": "stderr",
     "output_type": "stream",
     "text": [
      "[Parallel(n_jobs=25)]: Using backend LokyBackend with 25 concurrent workers.\n",
      "[Parallel(n_jobs=25)]: Done   3 out of   3 | elapsed:   17.5s remaining:    0.0s\n",
      "[Parallel(n_jobs=25)]: Done   3 out of   3 | elapsed:   17.5s finished\n",
      "[Parallel(n_jobs=25)]: Using backend LokyBackend with 25 concurrent workers.\n",
      "[Parallel(n_jobs=25)]: Done   3 out of   3 | elapsed:   16.9s remaining:    0.0s\n",
      "[Parallel(n_jobs=25)]: Done   3 out of   3 | elapsed:   16.9s finished\n"
     ]
    },
    {
     "name": "stdout",
     "output_type": "stream",
     "text": [
      "(669, 32) (707, 32) (1376, 32) Index(['window', 'ltime', 'likelihood_max_array', 'power', 'activity',\n",
      "       'rr_array', 'time', 'timestamp', 'localtime', 'ecg_rr_array', 'day',\n",
      "       'version', 'user', 'quality_features', 'activity_features',\n",
      "       'likelihood', 'likelihood_ind', 'length', 'rr', 'rr_col', 'length1',\n",
      "       'indicator', 'rr_col1', 'rr_features', 'rr_weighted_features',\n",
      "       'quality_mag', 'ecg_rr_array_final', 'ecg_features',\n",
      "       'stress_likelihood_ecg', 'stress_likelihood_ppg',\n",
      "       'stress_likelihood_ppg_qual', 'hand'],\n",
      "      dtype='object')\n",
      "saved ------------------------------\n"
     ]
    },
    {
     "name": "stderr",
     "output_type": "stream",
     "text": [
      "[Parallel(n_jobs=25)]: Using backend LokyBackend with 25 concurrent workers.\n",
      "[Parallel(n_jobs=25)]: Done   3 out of   6 | elapsed:   19.5s remaining:   19.5s\n",
      "[Parallel(n_jobs=25)]: Done   6 out of   6 | elapsed:   31.2s finished\n",
      "[Parallel(n_jobs=25)]: Using backend LokyBackend with 25 concurrent workers.\n",
      "[Parallel(n_jobs=25)]: Done   3 out of   6 | elapsed:   18.7s remaining:   18.7s\n",
      "[Parallel(n_jobs=25)]: Done   6 out of   6 | elapsed:   25.9s finished\n"
     ]
    },
    {
     "name": "stdout",
     "output_type": "stream",
     "text": [
      "(3962, 32) (3807, 32) (7769, 32) Index(['window', 'ltime', 'likelihood_max_array', 'power', 'activity',\n",
      "       'rr_array', 'time', 'timestamp', 'localtime', 'ecg_rr_array', 'day',\n",
      "       'version', 'user', 'quality_features', 'activity_features',\n",
      "       'likelihood', 'likelihood_ind', 'length', 'rr', 'rr_col', 'length1',\n",
      "       'indicator', 'rr_col1', 'rr_features', 'rr_weighted_features',\n",
      "       'quality_mag', 'ecg_rr_array_final', 'ecg_features',\n",
      "       'stress_likelihood_ecg', 'stress_likelihood_ppg',\n",
      "       'stress_likelihood_ppg_qual', 'hand'],\n",
      "      dtype='object')\n",
      "saved ------------------------------\n"
     ]
    },
    {
     "name": "stderr",
     "output_type": "stream",
     "text": [
      "[Parallel(n_jobs=25)]: Using backend LokyBackend with 25 concurrent workers.\n",
      "[Parallel(n_jobs=25)]: Done   2 out of   9 | elapsed:    2.4s remaining:    8.3s\n",
      "[Parallel(n_jobs=25)]: Done   5 out of   9 | elapsed:    6.0s remaining:    4.8s\n",
      "[Parallel(n_jobs=25)]: Done   9 out of   9 | elapsed:    8.8s finished\n",
      "[Parallel(n_jobs=25)]: Using backend LokyBackend with 25 concurrent workers.\n",
      "[Parallel(n_jobs=25)]: Done   2 out of   9 | elapsed:    4.4s remaining:   15.3s\n",
      "[Parallel(n_jobs=25)]: Done   5 out of   9 | elapsed:    7.6s remaining:    6.1s\n",
      "[Parallel(n_jobs=25)]: Done   9 out of   9 | elapsed:   10.4s finished\n"
     ]
    },
    {
     "name": "stdout",
     "output_type": "stream",
     "text": [
      "(2666, 32) (2608, 32) (5274, 32) Index(['window', 'ltime', 'likelihood_max_array', 'power', 'activity',\n",
      "       'rr_array', 'time', 'timestamp', 'localtime', 'ecg_rr_array', 'day',\n",
      "       'version', 'user', 'quality_features', 'activity_features',\n",
      "       'likelihood', 'likelihood_ind', 'length', 'rr', 'rr_col', 'length1',\n",
      "       'indicator', 'rr_col1', 'rr_features', 'rr_weighted_features',\n",
      "       'quality_mag', 'ecg_rr_array_final', 'ecg_features',\n",
      "       'stress_likelihood_ecg', 'stress_likelihood_ppg',\n",
      "       'stress_likelihood_ppg_qual', 'hand'],\n",
      "      dtype='object')\n",
      "saved ------------------------------\n"
     ]
    },
    {
     "name": "stderr",
     "output_type": "stream",
     "text": [
      "[Parallel(n_jobs=25)]: Using backend LokyBackend with 25 concurrent workers.\n",
      "[Parallel(n_jobs=25)]: Done   2 out of   5 | elapsed:   12.6s remaining:   18.9s\n",
      "[Parallel(n_jobs=25)]: Done   5 out of   5 | elapsed:   25.1s finished\n",
      "[Parallel(n_jobs=25)]: Using backend LokyBackend with 25 concurrent workers.\n",
      "[Parallel(n_jobs=25)]: Done   2 out of   5 | elapsed:   10.3s remaining:   15.5s\n",
      "[Parallel(n_jobs=25)]: Done   5 out of   5 | elapsed:   24.2s finished\n"
     ]
    },
    {
     "name": "stdout",
     "output_type": "stream",
     "text": [
      "(2543, 32) (3259, 32) (5802, 32) Index(['window', 'ltime', 'likelihood_max_array', 'power', 'activity',\n",
      "       'rr_array', 'time', 'timestamp', 'localtime', 'ecg_rr_array', 'day',\n",
      "       'version', 'user', 'quality_features', 'activity_features',\n",
      "       'likelihood', 'likelihood_ind', 'length', 'rr', 'rr_col', 'length1',\n",
      "       'indicator', 'rr_col1', 'rr_features', 'rr_weighted_features',\n",
      "       'quality_mag', 'ecg_rr_array_final', 'ecg_features',\n",
      "       'stress_likelihood_ecg', 'stress_likelihood_ppg',\n",
      "       'stress_likelihood_ppg_qual', 'hand'],\n",
      "      dtype='object')\n",
      "saved ------------------------------\n"
     ]
    },
    {
     "name": "stderr",
     "output_type": "stream",
     "text": [
      "[Parallel(n_jobs=25)]: Using backend LokyBackend with 25 concurrent workers.\n",
      "[Parallel(n_jobs=25)]: Done   2 out of   5 | elapsed:    4.4s remaining:    6.6s\n",
      "[Parallel(n_jobs=25)]: Done   5 out of   5 | elapsed:   24.5s finished\n",
      "[Parallel(n_jobs=25)]: Using backend LokyBackend with 25 concurrent workers.\n",
      "[Parallel(n_jobs=25)]: Done   2 out of   5 | elapsed:    5.1s remaining:    7.7s\n",
      "[Parallel(n_jobs=25)]: Done   5 out of   5 | elapsed:   23.1s finished\n"
     ]
    },
    {
     "name": "stdout",
     "output_type": "stream",
     "text": [
      "(2436, 32) (2217, 32) (4653, 32) Index(['window', 'ltime', 'likelihood_max_array', 'power', 'activity',\n",
      "       'rr_array', 'time', 'timestamp', 'localtime', 'ecg_rr_array', 'day',\n",
      "       'version', 'user', 'quality_features', 'activity_features',\n",
      "       'likelihood', 'likelihood_ind', 'length', 'rr', 'rr_col', 'length1',\n",
      "       'indicator', 'rr_col1', 'rr_features', 'rr_weighted_features',\n",
      "       'quality_mag', 'ecg_rr_array_final', 'ecg_features',\n",
      "       'stress_likelihood_ecg', 'stress_likelihood_ppg',\n",
      "       'stress_likelihood_ppg_qual', 'hand'],\n",
      "      dtype='object')\n",
      "saved ------------------------------\n"
     ]
    },
    {
     "name": "stderr",
     "output_type": "stream",
     "text": [
      "[Parallel(n_jobs=25)]: Using backend LokyBackend with 25 concurrent workers.\n",
      "[Parallel(n_jobs=25)]: Done   5 out of  14 | elapsed:   10.0s remaining:   18.0s\n",
      "[Parallel(n_jobs=25)]: Done   9 out of  14 | elapsed:   11.9s remaining:    6.6s\n",
      "[Parallel(n_jobs=25)]: Done  14 out of  14 | elapsed:   16.6s finished\n",
      "[Parallel(n_jobs=25)]: Using backend LokyBackend with 25 concurrent workers.\n",
      "[Parallel(n_jobs=25)]: Done   4 out of  13 | elapsed:    7.6s remaining:   17.1s\n",
      "[Parallel(n_jobs=25)]: Done   8 out of  13 | elapsed:   11.3s remaining:    7.1s\n",
      "[Parallel(n_jobs=25)]: Done  13 out of  13 | elapsed:   16.2s finished\n"
     ]
    },
    {
     "name": "stdout",
     "output_type": "stream",
     "text": [
      "(8151, 32) (7425, 32) (15576, 32) Index(['window', 'ltime', 'likelihood_max_array', 'power', 'activity',\n",
      "       'rr_array', 'time', 'timestamp', 'localtime', 'ecg_rr_array', 'day',\n",
      "       'version', 'user', 'quality_features', 'activity_features',\n",
      "       'likelihood', 'likelihood_ind', 'length', 'rr', 'rr_col', 'length1',\n",
      "       'indicator', 'rr_col1', 'rr_features', 'rr_weighted_features',\n",
      "       'quality_mag', 'ecg_rr_array_final', 'ecg_features',\n",
      "       'stress_likelihood_ecg', 'stress_likelihood_ppg',\n",
      "       'stress_likelihood_ppg_qual', 'hand'],\n",
      "      dtype='object')\n",
      "saved ------------------------------\n"
     ]
    },
    {
     "name": "stderr",
     "output_type": "stream",
     "text": [
      "[Parallel(n_jobs=25)]: Using backend LokyBackend with 25 concurrent workers.\n",
      "[Parallel(n_jobs=25)]: Done   4 out of  11 | elapsed:    6.7s remaining:   11.7s\n",
      "[Parallel(n_jobs=25)]: Done   7 out of  11 | elapsed:   11.1s remaining:    6.3s\n",
      "[Parallel(n_jobs=25)]: Done  11 out of  11 | elapsed:   35.6s finished\n",
      "[Parallel(n_jobs=25)]: Using backend LokyBackend with 25 concurrent workers.\n",
      "[Parallel(n_jobs=25)]: Done   4 out of  11 | elapsed:    6.9s remaining:   12.1s\n",
      "[Parallel(n_jobs=25)]: Done   7 out of  11 | elapsed:    9.6s remaining:    5.5s\n",
      "[Parallel(n_jobs=25)]: Done  11 out of  11 | elapsed:   29.0s finished\n"
     ]
    },
    {
     "name": "stdout",
     "output_type": "stream",
     "text": [
      "(4548, 32) (3191, 32) (7739, 32) Index(['window', 'ltime', 'likelihood_max_array', 'power', 'activity',\n",
      "       'rr_array', 'time', 'timestamp', 'localtime', 'ecg_rr_array', 'day',\n",
      "       'version', 'user', 'quality_features', 'activity_features',\n",
      "       'likelihood', 'likelihood_ind', 'length', 'rr', 'rr_col', 'length1',\n",
      "       'indicator', 'rr_col1', 'rr_features', 'rr_weighted_features',\n",
      "       'quality_mag', 'ecg_rr_array_final', 'ecg_features',\n",
      "       'stress_likelihood_ecg', 'stress_likelihood_ppg',\n",
      "       'stress_likelihood_ppg_qual', 'hand'],\n",
      "      dtype='object')\n",
      "saved ------------------------------\n"
     ]
    },
    {
     "name": "stderr",
     "output_type": "stream",
     "text": [
      "[Parallel(n_jobs=25)]: Using backend LokyBackend with 25 concurrent workers.\n",
      "[Parallel(n_jobs=25)]: Done   4 out of   4 | elapsed:   24.4s finished\n",
      "[Parallel(n_jobs=25)]: Using backend LokyBackend with 25 concurrent workers.\n",
      "[Parallel(n_jobs=25)]: Done   4 out of   4 | elapsed:   28.9s finished\n"
     ]
    },
    {
     "name": "stdout",
     "output_type": "stream",
     "text": [
      "(1418, 32) (1738, 32) (3156, 32) Index(['window', 'ltime', 'likelihood_max_array', 'power', 'activity',\n",
      "       'rr_array', 'time', 'timestamp', 'localtime', 'ecg_rr_array', 'day',\n",
      "       'version', 'user', 'quality_features', 'activity_features',\n",
      "       'likelihood', 'likelihood_ind', 'length', 'rr', 'rr_col', 'length1',\n",
      "       'indicator', 'rr_col1', 'rr_features', 'rr_weighted_features',\n",
      "       'quality_mag', 'ecg_rr_array_final', 'ecg_features',\n",
      "       'stress_likelihood_ecg', 'stress_likelihood_ppg',\n",
      "       'stress_likelihood_ppg_qual', 'hand'],\n",
      "      dtype='object')\n",
      "saved ------------------------------\n"
     ]
    },
    {
     "name": "stderr",
     "output_type": "stream",
     "text": [
      "[Parallel(n_jobs=25)]: Using backend LokyBackend with 25 concurrent workers.\n",
      "[Parallel(n_jobs=25)]: Done   5 out of  14 | elapsed:   11.4s remaining:   20.5s\n",
      "[Parallel(n_jobs=25)]: Done   9 out of  14 | elapsed:   14.5s remaining:    8.1s\n",
      "[Parallel(n_jobs=25)]: Done  14 out of  14 | elapsed:   17.9s finished\n",
      "[Parallel(n_jobs=25)]: Using backend LokyBackend with 25 concurrent workers.\n",
      "[Parallel(n_jobs=25)]: Done   5 out of  14 | elapsed:   12.6s remaining:   22.7s\n",
      "[Parallel(n_jobs=25)]: Done   9 out of  14 | elapsed:   14.5s remaining:    8.0s\n",
      "[Parallel(n_jobs=25)]: Done  14 out of  14 | elapsed:   16.0s finished\n"
     ]
    },
    {
     "name": "stdout",
     "output_type": "stream",
     "text": [
      "(6992, 32) (8383, 32) (15375, 32) Index(['window', 'ltime', 'likelihood_max_array', 'power', 'activity',\n",
      "       'rr_array', 'time', 'timestamp', 'localtime', 'ecg_rr_array', 'day',\n",
      "       'version', 'user', 'quality_features', 'activity_features',\n",
      "       'likelihood', 'likelihood_ind', 'length', 'rr', 'rr_col', 'length1',\n",
      "       'indicator', 'rr_col1', 'rr_features', 'rr_weighted_features',\n",
      "       'quality_mag', 'ecg_rr_array_final', 'ecg_features',\n",
      "       'stress_likelihood_ecg', 'stress_likelihood_ppg',\n",
      "       'stress_likelihood_ppg_qual', 'hand'],\n",
      "      dtype='object')\n",
      "saved ------------------------------\n"
     ]
    },
    {
     "name": "stderr",
     "output_type": "stream",
     "text": [
      "[Parallel(n_jobs=25)]: Using backend LokyBackend with 25 concurrent workers.\n",
      "[Parallel(n_jobs=25)]: Done   2 out of   9 | elapsed:    3.9s remaining:   13.7s\n",
      "[Parallel(n_jobs=25)]: Done   5 out of   9 | elapsed:    5.3s remaining:    4.2s\n",
      "[Parallel(n_jobs=25)]: Done   9 out of   9 | elapsed:   10.8s finished\n",
      "[Parallel(n_jobs=25)]: Using backend LokyBackend with 25 concurrent workers.\n",
      "[Parallel(n_jobs=25)]: Done   2 out of   9 | elapsed:    2.4s remaining:    8.4s\n",
      "[Parallel(n_jobs=25)]: Done   5 out of   9 | elapsed:    4.9s remaining:    4.0s\n",
      "[Parallel(n_jobs=25)]: Done   9 out of   9 | elapsed:   11.5s finished\n"
     ]
    },
    {
     "name": "stdout",
     "output_type": "stream",
     "text": [
      "(3339, 32) (2908, 32) (6247, 32) Index(['window', 'ltime', 'likelihood_max_array', 'power', 'activity',\n",
      "       'rr_array', 'time', 'timestamp', 'localtime', 'ecg_rr_array', 'day',\n",
      "       'version', 'user', 'quality_features', 'activity_features',\n",
      "       'likelihood', 'likelihood_ind', 'length', 'rr', 'rr_col', 'length1',\n",
      "       'indicator', 'rr_col1', 'rr_features', 'rr_weighted_features',\n",
      "       'quality_mag', 'ecg_rr_array_final', 'ecg_features',\n",
      "       'stress_likelihood_ecg', 'stress_likelihood_ppg',\n",
      "       'stress_likelihood_ppg_qual', 'hand'],\n",
      "      dtype='object')\n",
      "saved ------------------------------\n"
     ]
    },
    {
     "name": "stderr",
     "output_type": "stream",
     "text": [
      "[Parallel(n_jobs=25)]: Using backend LokyBackend with 25 concurrent workers.\n",
      "[Parallel(n_jobs=25)]: Done   2 out of  15 | elapsed:   14.3s remaining:  1.6min\n",
      "[Parallel(n_jobs=25)]: Done   6 out of  15 | elapsed:   26.3s remaining:   39.4s\n",
      "[Parallel(n_jobs=25)]: Done  10 out of  15 | elapsed:   30.2s remaining:   15.1s\n",
      "[Parallel(n_jobs=25)]: Done  15 out of  15 | elapsed:   38.0s finished\n",
      "[Parallel(n_jobs=25)]: Using backend LokyBackend with 25 concurrent workers.\n",
      "[Parallel(n_jobs=25)]: Done   2 out of  15 | elapsed:   13.8s remaining:  1.5min\n",
      "[Parallel(n_jobs=25)]: Done   6 out of  15 | elapsed:   24.7s remaining:   37.0s\n",
      "[Parallel(n_jobs=25)]: Done  10 out of  15 | elapsed:   33.6s remaining:   16.8s\n",
      "[Parallel(n_jobs=25)]: Done  15 out of  15 | elapsed:   37.5s finished\n"
     ]
    },
    {
     "name": "stdout",
     "output_type": "stream",
     "text": [
      "(5029, 32) (5810, 32) (10839, 32) Index(['window', 'ltime', 'likelihood_max_array', 'power', 'activity',\n",
      "       'rr_array', 'time', 'timestamp', 'localtime', 'ecg_rr_array', 'day',\n",
      "       'version', 'user', 'quality_features', 'activity_features',\n",
      "       'likelihood', 'likelihood_ind', 'length', 'rr', 'rr_col', 'length1',\n",
      "       'indicator', 'rr_col1', 'rr_features', 'rr_weighted_features',\n",
      "       'quality_mag', 'ecg_rr_array_final', 'ecg_features',\n",
      "       'stress_likelihood_ecg', 'stress_likelihood_ppg',\n",
      "       'stress_likelihood_ppg_qual', 'hand'],\n",
      "      dtype='object')\n",
      "saved ------------------------------\n"
     ]
    },
    {
     "name": "stderr",
     "output_type": "stream",
     "text": [
      "[Parallel(n_jobs=25)]: Using backend LokyBackend with 25 concurrent workers.\n",
      "[Parallel(n_jobs=25)]: Done   4 out of  11 | elapsed:   22.4s remaining:   39.2s\n",
      "[Parallel(n_jobs=25)]: Done   7 out of  11 | elapsed:   29.0s remaining:   16.6s\n",
      "[Parallel(n_jobs=25)]: Done  11 out of  11 | elapsed:   33.2s finished\n",
      "[Parallel(n_jobs=25)]: Using backend LokyBackend with 25 concurrent workers.\n",
      "[Parallel(n_jobs=25)]: Done   4 out of   8 | elapsed:   20.6s remaining:   20.6s\n",
      "[Parallel(n_jobs=25)]: Done   8 out of   8 | elapsed:   33.3s finished\n"
     ]
    },
    {
     "name": "stdout",
     "output_type": "stream",
     "text": [
      "(4706, 32) (3048, 32) (7754, 32) Index(['window', 'ltime', 'likelihood_max_array', 'power', 'activity',\n",
      "       'rr_array', 'time', 'timestamp', 'localtime', 'ecg_rr_array', 'day',\n",
      "       'version', 'user', 'quality_features', 'activity_features',\n",
      "       'likelihood', 'likelihood_ind', 'length', 'rr', 'rr_col', 'length1',\n",
      "       'indicator', 'rr_col1', 'rr_features', 'rr_weighted_features',\n",
      "       'quality_mag', 'ecg_rr_array_final', 'ecg_features',\n",
      "       'stress_likelihood_ecg', 'stress_likelihood_ppg',\n",
      "       'stress_likelihood_ppg_qual', 'hand'],\n",
      "      dtype='object')\n",
      "saved ------------------------------\n"
     ]
    },
    {
     "name": "stderr",
     "output_type": "stream",
     "text": [
      "[Parallel(n_jobs=25)]: Using backend LokyBackend with 25 concurrent workers.\n",
      "[Parallel(n_jobs=25)]: Done   2 out of   5 | elapsed:    2.5s remaining:    3.7s\n",
      "[Parallel(n_jobs=25)]: Done   5 out of   5 | elapsed:    5.4s finished\n",
      "[Parallel(n_jobs=25)]: Using backend LokyBackend with 25 concurrent workers.\n",
      "[Parallel(n_jobs=25)]: Done   2 out of   5 | elapsed:    2.3s remaining:    3.4s\n",
      "[Parallel(n_jobs=25)]: Done   5 out of   5 | elapsed:    7.8s finished\n"
     ]
    },
    {
     "name": "stdout",
     "output_type": "stream",
     "text": [
      "(1116, 32) (1099, 32) (2215, 32) Index(['window', 'ltime', 'likelihood_max_array', 'power', 'activity',\n",
      "       'rr_array', 'time', 'timestamp', 'localtime', 'ecg_rr_array', 'day',\n",
      "       'version', 'user', 'quality_features', 'activity_features',\n",
      "       'likelihood', 'likelihood_ind', 'length', 'rr', 'rr_col', 'length1',\n",
      "       'indicator', 'rr_col1', 'rr_features', 'rr_weighted_features',\n",
      "       'quality_mag', 'ecg_rr_array_final', 'ecg_features',\n",
      "       'stress_likelihood_ecg', 'stress_likelihood_ppg',\n",
      "       'stress_likelihood_ppg_qual', 'hand'],\n",
      "      dtype='object')\n",
      "saved ------------------------------\n"
     ]
    },
    {
     "name": "stderr",
     "output_type": "stream",
     "text": [
      "[Parallel(n_jobs=25)]: Using backend LokyBackend with 25 concurrent workers.\n",
      "[Parallel(n_jobs=25)]: Done   2 out of   9 | elapsed:    4.4s remaining:   15.4s\n",
      "[Parallel(n_jobs=25)]: Done   5 out of   9 | elapsed:   11.1s remaining:    8.8s\n",
      "[Parallel(n_jobs=25)]: Done   9 out of   9 | elapsed:   29.6s finished\n",
      "[Parallel(n_jobs=25)]: Using backend LokyBackend with 25 concurrent workers.\n",
      "[Parallel(n_jobs=25)]: Done   2 out of   9 | elapsed:    4.1s remaining:   14.3s\n",
      "[Parallel(n_jobs=25)]: Done   5 out of   9 | elapsed:   14.2s remaining:   11.4s\n",
      "[Parallel(n_jobs=25)]: Done   9 out of   9 | elapsed:   37.2s finished\n"
     ]
    },
    {
     "name": "stdout",
     "output_type": "stream",
     "text": [
      "(2580, 32) (3307, 32) (5887, 32) Index(['window', 'ltime', 'likelihood_max_array', 'power', 'activity',\n",
      "       'rr_array', 'time', 'timestamp', 'localtime', 'ecg_rr_array', 'day',\n",
      "       'version', 'user', 'quality_features', 'activity_features',\n",
      "       'likelihood', 'likelihood_ind', 'length', 'rr', 'rr_col', 'length1',\n",
      "       'indicator', 'rr_col1', 'rr_features', 'rr_weighted_features',\n",
      "       'quality_mag', 'ecg_rr_array_final', 'ecg_features',\n",
      "       'stress_likelihood_ecg', 'stress_likelihood_ppg',\n",
      "       'stress_likelihood_ppg_qual', 'hand'],\n",
      "      dtype='object')\n",
      "saved ------------------------------\n"
     ]
    },
    {
     "name": "stderr",
     "output_type": "stream",
     "text": [
      "[Parallel(n_jobs=25)]: Using backend LokyBackend with 25 concurrent workers.\n",
      "[Parallel(n_jobs=25)]: Done   3 out of  12 | elapsed:    5.2s remaining:   15.5s\n",
      "[Parallel(n_jobs=25)]: Done   7 out of  12 | elapsed:    7.3s remaining:    5.2s\n",
      "[Parallel(n_jobs=25)]: Done  12 out of  12 | elapsed:   19.1s finished\n",
      "[Parallel(n_jobs=25)]: Using backend LokyBackend with 25 concurrent workers.\n",
      "[Parallel(n_jobs=25)]: Done   3 out of  12 | elapsed:    4.4s remaining:   13.1s\n",
      "[Parallel(n_jobs=25)]: Done   7 out of  12 | elapsed:    7.3s remaining:    5.2s\n",
      "[Parallel(n_jobs=25)]: Done  12 out of  12 | elapsed:   19.2s finished\n"
     ]
    },
    {
     "name": "stdout",
     "output_type": "stream",
     "text": [
      "(4367, 32) (4026, 32) (8393, 32) Index(['window', 'ltime', 'likelihood_max_array', 'power', 'activity',\n",
      "       'rr_array', 'time', 'timestamp', 'localtime', 'ecg_rr_array', 'day',\n",
      "       'version', 'user', 'quality_features', 'activity_features',\n",
      "       'likelihood', 'likelihood_ind', 'length', 'rr', 'rr_col', 'length1',\n",
      "       'indicator', 'rr_col1', 'rr_features', 'rr_weighted_features',\n",
      "       'quality_mag', 'ecg_rr_array_final', 'ecg_features',\n",
      "       'stress_likelihood_ecg', 'stress_likelihood_ppg',\n",
      "       'stress_likelihood_ppg_qual', 'hand'],\n",
      "      dtype='object')\n",
      "saved ------------------------------\n"
     ]
    },
    {
     "name": "stderr",
     "output_type": "stream",
     "text": [
      "[Parallel(n_jobs=25)]: Using backend LokyBackend with 25 concurrent workers.\n",
      "[Parallel(n_jobs=25)]: Done   3 out of   3 | elapsed:   11.6s remaining:    0.0s\n",
      "[Parallel(n_jobs=25)]: Done   3 out of   3 | elapsed:   11.6s finished\n",
      "[Parallel(n_jobs=25)]: Using backend LokyBackend with 25 concurrent workers.\n",
      "[Parallel(n_jobs=25)]: Done   3 out of   3 | elapsed:   12.5s remaining:    0.0s\n",
      "[Parallel(n_jobs=25)]: Done   3 out of   3 | elapsed:   12.5s finished\n"
     ]
    },
    {
     "name": "stdout",
     "output_type": "stream",
     "text": [
      "(1600, 32) (1208, 32) (2808, 32) Index(['window', 'ltime', 'likelihood_max_array', 'power', 'activity',\n",
      "       'rr_array', 'time', 'timestamp', 'localtime', 'ecg_rr_array', 'day',\n",
      "       'version', 'user', 'quality_features', 'activity_features',\n",
      "       'likelihood', 'likelihood_ind', 'length', 'rr', 'rr_col', 'length1',\n",
      "       'indicator', 'rr_col1', 'rr_features', 'rr_weighted_features',\n",
      "       'quality_mag', 'ecg_rr_array_final', 'ecg_features',\n",
      "       'stress_likelihood_ecg', 'stress_likelihood_ppg',\n",
      "       'stress_likelihood_ppg_qual', 'hand'],\n",
      "      dtype='object')\n",
      "saved ------------------------------\n"
     ]
    },
    {
     "name": "stderr",
     "output_type": "stream",
     "text": [
      "[Parallel(n_jobs=25)]: Using backend LokyBackend with 25 concurrent workers.\n",
      "[Parallel(n_jobs=25)]: Done   2 out of   2 | elapsed:    8.0s remaining:    0.0s\n",
      "[Parallel(n_jobs=25)]: Done   2 out of   2 | elapsed:    8.0s finished\n",
      "[Parallel(n_jobs=25)]: Using backend LokyBackend with 25 concurrent workers.\n",
      "[Parallel(n_jobs=25)]: Done   2 out of   2 | elapsed:   10.1s remaining:    0.0s\n",
      "[Parallel(n_jobs=25)]: Done   2 out of   2 | elapsed:   10.1s finished\n"
     ]
    },
    {
     "name": "stdout",
     "output_type": "stream",
     "text": [
      "(768, 32) (755, 32) (1523, 32) Index(['window', 'ltime', 'likelihood_max_array', 'power', 'activity',\n",
      "       'rr_array', 'time', 'timestamp', 'localtime', 'ecg_rr_array', 'day',\n",
      "       'version', 'user', 'quality_features', 'activity_features',\n",
      "       'likelihood', 'likelihood_ind', 'length', 'rr', 'rr_col', 'length1',\n",
      "       'indicator', 'rr_col1', 'rr_features', 'rr_weighted_features',\n",
      "       'quality_mag', 'ecg_rr_array_final', 'ecg_features',\n",
      "       'stress_likelihood_ecg', 'stress_likelihood_ppg',\n",
      "       'stress_likelihood_ppg_qual', 'hand'],\n",
      "      dtype='object')\n",
      "saved ------------------------------\n"
     ]
    },
    {
     "name": "stderr",
     "output_type": "stream",
     "text": [
      "[Parallel(n_jobs=25)]: Using backend LokyBackend with 25 concurrent workers.\n",
      "[Parallel(n_jobs=25)]: Done   3 out of  12 | elapsed:   10.6s remaining:   31.7s\n",
      "[Parallel(n_jobs=25)]: Done   7 out of  12 | elapsed:   20.6s remaining:   14.7s\n",
      "[Parallel(n_jobs=25)]: Done  12 out of  12 | elapsed:   30.2s finished\n",
      "[Parallel(n_jobs=25)]: Using backend LokyBackend with 25 concurrent workers.\n",
      "[Parallel(n_jobs=25)]: Done   4 out of  11 | elapsed:   12.4s remaining:   21.7s\n",
      "[Parallel(n_jobs=25)]: Done   7 out of  11 | elapsed:   21.2s remaining:   12.1s\n",
      "[Parallel(n_jobs=25)]: Done  11 out of  11 | elapsed:   27.4s finished\n"
     ]
    },
    {
     "name": "stdout",
     "output_type": "stream",
     "text": [
      "(2101, 32) (1723, 32) (3824, 32) Index(['window', 'ltime', 'likelihood_max_array', 'power', 'activity',\n",
      "       'rr_array', 'time', 'timestamp', 'localtime', 'ecg_rr_array', 'day',\n",
      "       'version', 'user', 'quality_features', 'activity_features',\n",
      "       'likelihood', 'likelihood_ind', 'length', 'rr', 'rr_col', 'length1',\n",
      "       'indicator', 'rr_col1', 'rr_features', 'rr_weighted_features',\n",
      "       'quality_mag', 'ecg_rr_array_final', 'ecg_features',\n",
      "       'stress_likelihood_ecg', 'stress_likelihood_ppg',\n",
      "       'stress_likelihood_ppg_qual', 'hand'],\n",
      "      dtype='object')\n",
      "saved ------------------------------\n"
     ]
    },
    {
     "name": "stderr",
     "output_type": "stream",
     "text": [
      "[Parallel(n_jobs=25)]: Using backend LokyBackend with 25 concurrent workers.\n",
      "[Parallel(n_jobs=25)]: Done   3 out of  10 | elapsed:    4.2s remaining:    9.7s\n",
      "[Parallel(n_jobs=25)]: Done   6 out of  10 | elapsed:    8.5s remaining:    5.6s\n",
      "[Parallel(n_jobs=25)]: Done  10 out of  10 | elapsed:   13.1s finished\n",
      "[Parallel(n_jobs=25)]: Using backend LokyBackend with 25 concurrent workers.\n",
      "[Parallel(n_jobs=25)]: Done   3 out of  10 | elapsed:    5.3s remaining:   12.5s\n",
      "[Parallel(n_jobs=25)]: Done   6 out of  10 | elapsed:    9.5s remaining:    6.4s\n",
      "[Parallel(n_jobs=25)]: Done  10 out of  10 | elapsed:   15.5s finished\n"
     ]
    },
    {
     "name": "stdout",
     "output_type": "stream",
     "text": [
      "(2394, 32) (3126, 32) (5520, 32) Index(['window', 'ltime', 'likelihood_max_array', 'power', 'activity',\n",
      "       'rr_array', 'time', 'timestamp', 'localtime', 'ecg_rr_array', 'day',\n",
      "       'version', 'user', 'quality_features', 'activity_features',\n",
      "       'likelihood', 'likelihood_ind', 'length', 'rr', 'rr_col', 'length1',\n",
      "       'indicator', 'rr_col1', 'rr_features', 'rr_weighted_features',\n",
      "       'quality_mag', 'ecg_rr_array_final', 'ecg_features',\n",
      "       'stress_likelihood_ecg', 'stress_likelihood_ppg',\n",
      "       'stress_likelihood_ppg_qual', 'hand'],\n",
      "      dtype='object')\n",
      "saved ------------------------------\n"
     ]
    },
    {
     "name": "stderr",
     "output_type": "stream",
     "text": [
      "[Parallel(n_jobs=25)]: Using backend LokyBackend with 25 concurrent workers.\n",
      "[Parallel(n_jobs=25)]: Done   3 out of  12 | elapsed:    9.0s remaining:   27.1s\n",
      "[Parallel(n_jobs=25)]: Done   7 out of  12 | elapsed:   30.2s remaining:   21.5s\n",
      "[Parallel(n_jobs=25)]: Done  12 out of  12 | elapsed:   42.3s finished\n",
      "[Parallel(n_jobs=25)]: Using backend LokyBackend with 25 concurrent workers.\n",
      "[Parallel(n_jobs=25)]: Done   5 out of  14 | elapsed:   12.0s remaining:   21.7s\n",
      "[Parallel(n_jobs=25)]: Done   9 out of  14 | elapsed:   29.4s remaining:   16.3s\n",
      "[Parallel(n_jobs=25)]: Done  14 out of  14 | elapsed:   43.4s finished\n"
     ]
    },
    {
     "name": "stdout",
     "output_type": "stream",
     "text": [
      "(5597, 32) (8573, 32) (14170, 32) Index(['window', 'ltime', 'likelihood_max_array', 'power', 'activity',\n",
      "       'rr_array', 'time', 'timestamp', 'localtime', 'ecg_rr_array', 'day',\n",
      "       'version', 'user', 'quality_features', 'activity_features',\n",
      "       'likelihood', 'likelihood_ind', 'length', 'rr', 'rr_col', 'length1',\n",
      "       'indicator', 'rr_col1', 'rr_features', 'rr_weighted_features',\n",
      "       'quality_mag', 'ecg_rr_array_final', 'ecg_features',\n",
      "       'stress_likelihood_ecg', 'stress_likelihood_ppg',\n",
      "       'stress_likelihood_ppg_qual', 'hand'],\n",
      "      dtype='object')\n",
      "saved ------------------------------\n"
     ]
    },
    {
     "name": "stderr",
     "output_type": "stream",
     "text": [
      "[Parallel(n_jobs=25)]: Using backend LokyBackend with 25 concurrent workers.\n",
      "[Parallel(n_jobs=25)]: Done   4 out of  11 | elapsed:    8.7s remaining:   15.3s\n",
      "[Parallel(n_jobs=25)]: Done   7 out of  11 | elapsed:   11.0s remaining:    6.3s\n",
      "[Parallel(n_jobs=25)]: Done  11 out of  11 | elapsed:   13.2s finished\n",
      "[Parallel(n_jobs=25)]: Using backend LokyBackend with 25 concurrent workers.\n",
      "[Parallel(n_jobs=25)]: Done   4 out of  11 | elapsed:    8.0s remaining:   14.0s\n",
      "[Parallel(n_jobs=25)]: Done   7 out of  11 | elapsed:    9.7s remaining:    5.5s\n",
      "[Parallel(n_jobs=25)]: Done  11 out of  11 | elapsed:   14.6s finished\n"
     ]
    },
    {
     "name": "stdout",
     "output_type": "stream",
     "text": [
      "(5997, 32) (5137, 32) (11134, 32) Index(['window', 'ltime', 'likelihood_max_array', 'power', 'activity',\n",
      "       'rr_array', 'time', 'timestamp', 'localtime', 'ecg_rr_array', 'day',\n",
      "       'version', 'user', 'quality_features', 'activity_features',\n",
      "       'likelihood', 'likelihood_ind', 'length', 'rr', 'rr_col', 'length1',\n",
      "       'indicator', 'rr_col1', 'rr_features', 'rr_weighted_features',\n",
      "       'quality_mag', 'ecg_rr_array_final', 'ecg_features',\n",
      "       'stress_likelihood_ecg', 'stress_likelihood_ppg',\n",
      "       'stress_likelihood_ppg_qual', 'hand'],\n",
      "      dtype='object')\n",
      "saved ------------------------------\n"
     ]
    },
    {
     "name": "stderr",
     "output_type": "stream",
     "text": [
      "[Parallel(n_jobs=25)]: Using backend LokyBackend with 25 concurrent workers.\n",
      "[Parallel(n_jobs=25)]: Done   2 out of   5 | elapsed:    2.9s remaining:    4.4s\n",
      "[Parallel(n_jobs=25)]: Done   5 out of   5 | elapsed:    9.1s finished\n",
      "[Parallel(n_jobs=25)]: Using backend LokyBackend with 25 concurrent workers.\n",
      "[Parallel(n_jobs=25)]: Done   2 out of   5 | elapsed:    1.6s remaining:    2.4s\n",
      "[Parallel(n_jobs=25)]: Done   5 out of   5 | elapsed:    6.7s finished\n"
     ]
    },
    {
     "name": "stdout",
     "output_type": "stream",
     "text": [
      "(1404, 32) (598, 32) (2002, 32) Index(['window', 'ltime', 'likelihood_max_array', 'power', 'activity',\n",
      "       'rr_array', 'time', 'timestamp', 'localtime', 'ecg_rr_array', 'day',\n",
      "       'version', 'user', 'quality_features', 'activity_features',\n",
      "       'likelihood', 'likelihood_ind', 'length', 'rr', 'rr_col', 'length1',\n",
      "       'indicator', 'rr_col1', 'rr_features', 'rr_weighted_features',\n",
      "       'quality_mag', 'ecg_rr_array_final', 'ecg_features',\n",
      "       'stress_likelihood_ecg', 'stress_likelihood_ppg',\n",
      "       'stress_likelihood_ppg_qual', 'hand'],\n",
      "      dtype='object')\n",
      "saved ------------------------------\n"
     ]
    },
    {
     "name": "stderr",
     "output_type": "stream",
     "text": [
      "[Parallel(n_jobs=25)]: Using backend LokyBackend with 25 concurrent workers.\n",
      "[Parallel(n_jobs=25)]: Done   4 out of  11 | elapsed:   13.7s remaining:   24.0s\n",
      "[Parallel(n_jobs=25)]: Done   7 out of  11 | elapsed:   15.9s remaining:    9.1s\n",
      "[Parallel(n_jobs=25)]: Done  11 out of  11 | elapsed:   25.4s finished\n",
      "[Parallel(n_jobs=25)]: Using backend LokyBackend with 25 concurrent workers.\n",
      "[Parallel(n_jobs=25)]: Done   3 out of  12 | elapsed:   10.3s remaining:   30.8s\n",
      "[Parallel(n_jobs=25)]: Done   7 out of  12 | elapsed:   16.0s remaining:   11.5s\n",
      "[Parallel(n_jobs=25)]: Done  12 out of  12 | elapsed:   29.1s finished\n"
     ]
    },
    {
     "name": "stdout",
     "output_type": "stream",
     "text": [
      "(5429, 32) (7013, 32) (12442, 32) Index(['window', 'ltime', 'likelihood_max_array', 'power', 'activity',\n",
      "       'rr_array', 'time', 'timestamp', 'localtime', 'ecg_rr_array', 'day',\n",
      "       'version', 'user', 'quality_features', 'activity_features',\n",
      "       'likelihood', 'likelihood_ind', 'length', 'rr', 'rr_col', 'length1',\n",
      "       'indicator', 'rr_col1', 'rr_features', 'rr_weighted_features',\n",
      "       'quality_mag', 'ecg_rr_array_final', 'ecg_features',\n",
      "       'stress_likelihood_ecg', 'stress_likelihood_ppg',\n",
      "       'stress_likelihood_ppg_qual', 'hand'],\n",
      "      dtype='object')\n",
      "saved ------------------------------\n"
     ]
    },
    {
     "name": "stderr",
     "output_type": "stream",
     "text": [
      "[Parallel(n_jobs=25)]: Using backend LokyBackend with 25 concurrent workers.\n",
      "[Parallel(n_jobs=25)]: Done   2 out of  15 | elapsed:    7.0s remaining:   45.6s\n",
      "[Parallel(n_jobs=25)]: Done   6 out of  15 | elapsed:    9.0s remaining:   13.6s\n",
      "[Parallel(n_jobs=25)]: Done  10 out of  15 | elapsed:   10.9s remaining:    5.4s\n",
      "[Parallel(n_jobs=25)]: Done  15 out of  15 | elapsed:   18.1s finished\n",
      "[Parallel(n_jobs=25)]: Using backend LokyBackend with 25 concurrent workers.\n",
      "[Parallel(n_jobs=25)]: Done   2 out of  15 | elapsed:    7.1s remaining:   46.3s\n",
      "[Parallel(n_jobs=25)]: Done   6 out of  15 | elapsed:   10.3s remaining:   15.5s\n",
      "[Parallel(n_jobs=25)]: Done  10 out of  15 | elapsed:   12.2s remaining:    6.1s\n",
      "[Parallel(n_jobs=25)]: Done  15 out of  15 | elapsed:   18.6s finished\n"
     ]
    },
    {
     "name": "stdout",
     "output_type": "stream",
     "text": [
      "(7731, 32) (7738, 32) (15469, 32) Index(['window', 'ltime', 'likelihood_max_array', 'power', 'activity',\n",
      "       'rr_array', 'time', 'timestamp', 'localtime', 'ecg_rr_array', 'day',\n",
      "       'version', 'user', 'quality_features', 'activity_features',\n",
      "       'likelihood', 'likelihood_ind', 'length', 'rr', 'rr_col', 'length1',\n",
      "       'indicator', 'rr_col1', 'rr_features', 'rr_weighted_features',\n",
      "       'quality_mag', 'ecg_rr_array_final', 'ecg_features',\n",
      "       'stress_likelihood_ecg', 'stress_likelihood_ppg',\n",
      "       'stress_likelihood_ppg_qual', 'hand'],\n",
      "      dtype='object')\n",
      "saved ------------------------------\n"
     ]
    },
    {
     "name": "stderr",
     "output_type": "stream",
     "text": [
      "[Parallel(n_jobs=25)]: Using backend LokyBackend with 25 concurrent workers.\n",
      "[Parallel(n_jobs=25)]: Done   4 out of   4 | elapsed:   25.8s finished\n",
      "[Parallel(n_jobs=25)]: Using backend LokyBackend with 25 concurrent workers.\n",
      "[Parallel(n_jobs=25)]: Done   3 out of   3 | elapsed:   24.5s remaining:    0.0s\n",
      "[Parallel(n_jobs=25)]: Done   3 out of   3 | elapsed:   24.5s finished\n"
     ]
    },
    {
     "name": "stdout",
     "output_type": "stream",
     "text": [
      "(990, 32) (803, 32) (1793, 32) Index(['window', 'ltime', 'likelihood_max_array', 'power', 'activity',\n",
      "       'rr_array', 'time', 'timestamp', 'localtime', 'ecg_rr_array', 'day',\n",
      "       'version', 'user', 'quality_features', 'activity_features',\n",
      "       'likelihood', 'likelihood_ind', 'length', 'rr', 'rr_col', 'length1',\n",
      "       'indicator', 'rr_col1', 'rr_features', 'rr_weighted_features',\n",
      "       'quality_mag', 'ecg_rr_array_final', 'ecg_features',\n",
      "       'stress_likelihood_ecg', 'stress_likelihood_ppg',\n",
      "       'stress_likelihood_ppg_qual', 'hand'],\n",
      "      dtype='object')\n",
      "saved ------------------------------\n"
     ]
    },
    {
     "name": "stderr",
     "output_type": "stream",
     "text": [
      "[Parallel(n_jobs=25)]: Using backend LokyBackend with 25 concurrent workers.\n",
      "[Parallel(n_jobs=25)]: Done   2 out of   7 | elapsed:   10.2s remaining:   25.4s\n",
      "[Parallel(n_jobs=25)]: Done   4 out of   7 | elapsed:   14.0s remaining:   10.5s\n",
      "[Parallel(n_jobs=25)]: Done   7 out of   7 | elapsed:   29.0s finished\n",
      "[Parallel(n_jobs=25)]: Using backend LokyBackend with 25 concurrent workers.\n",
      "[Parallel(n_jobs=25)]: Done   3 out of   6 | elapsed:   13.8s remaining:   13.8s\n",
      "[Parallel(n_jobs=25)]: Done   6 out of   6 | elapsed:   22.6s finished\n"
     ]
    },
    {
     "name": "stdout",
     "output_type": "stream",
     "text": [
      "(4346, 32) (3969, 32) (8315, 32) Index(['window', 'ltime', 'likelihood_max_array', 'power', 'activity',\n",
      "       'rr_array', 'time', 'timestamp', 'localtime', 'ecg_rr_array', 'day',\n",
      "       'version', 'user', 'quality_features', 'activity_features',\n",
      "       'likelihood', 'likelihood_ind', 'length', 'rr', 'rr_col', 'length1',\n",
      "       'indicator', 'rr_col1', 'rr_features', 'rr_weighted_features',\n",
      "       'quality_mag', 'ecg_rr_array_final', 'ecg_features',\n",
      "       'stress_likelihood_ecg', 'stress_likelihood_ppg',\n",
      "       'stress_likelihood_ppg_qual', 'hand'],\n",
      "      dtype='object')\n",
      "saved ------------------------------\n"
     ]
    },
    {
     "name": "stderr",
     "output_type": "stream",
     "text": [
      "[Parallel(n_jobs=25)]: Using backend LokyBackend with 25 concurrent workers.\n",
      "[Parallel(n_jobs=25)]: Done   3 out of  12 | elapsed:   13.0s remaining:   39.0s\n",
      "[Parallel(n_jobs=25)]: Done   7 out of  12 | elapsed:   22.0s remaining:   15.7s\n",
      "[Parallel(n_jobs=25)]: Done  12 out of  12 | elapsed:   40.4s finished\n",
      "[Parallel(n_jobs=25)]: Using backend LokyBackend with 25 concurrent workers.\n",
      "[Parallel(n_jobs=25)]: Done   3 out of  12 | elapsed:   12.6s remaining:   37.9s\n",
      "[Parallel(n_jobs=25)]: Done   7 out of  12 | elapsed:   29.2s remaining:   20.8s\n",
      "[Parallel(n_jobs=25)]: Done  12 out of  12 | elapsed:   42.5s finished\n"
     ]
    },
    {
     "name": "stdout",
     "output_type": "stream",
     "text": [
      "(5399, 32) (7164, 32) (12563, 32) Index(['window', 'ltime', 'likelihood_max_array', 'power', 'activity',\n",
      "       'rr_array', 'time', 'timestamp', 'localtime', 'ecg_rr_array', 'day',\n",
      "       'version', 'user', 'quality_features', 'activity_features',\n",
      "       'likelihood', 'likelihood_ind', 'length', 'rr', 'rr_col', 'length1',\n",
      "       'indicator', 'rr_col1', 'rr_features', 'rr_weighted_features',\n",
      "       'quality_mag', 'ecg_rr_array_final', 'ecg_features',\n",
      "       'stress_likelihood_ecg', 'stress_likelihood_ppg',\n",
      "       'stress_likelihood_ppg_qual', 'hand'],\n",
      "      dtype='object')\n",
      "saved ------------------------------\n"
     ]
    },
    {
     "name": "stderr",
     "output_type": "stream",
     "text": [
      "[Parallel(n_jobs=25)]: Using backend LokyBackend with 25 concurrent workers.\n",
      "[Parallel(n_jobs=25)]: Done   2 out of   2 | elapsed:   18.0s remaining:    0.0s\n",
      "[Parallel(n_jobs=25)]: Done   2 out of   2 | elapsed:   18.0s finished\n",
      "[Parallel(n_jobs=25)]: Using backend LokyBackend with 25 concurrent workers.\n",
      "[Parallel(n_jobs=25)]: Done   2 out of   2 | elapsed:   17.6s remaining:    0.0s\n",
      "[Parallel(n_jobs=25)]: Done   2 out of   2 | elapsed:   17.6s finished\n"
     ]
    },
    {
     "name": "stdout",
     "output_type": "stream",
     "text": [
      "(921, 32) (954, 32) (1875, 32) Index(['window', 'ltime', 'likelihood_max_array', 'power', 'activity',\n",
      "       'rr_array', 'time', 'timestamp', 'localtime', 'ecg_rr_array', 'day',\n",
      "       'version', 'user', 'quality_features', 'activity_features',\n",
      "       'likelihood', 'likelihood_ind', 'length', 'rr', 'rr_col', 'length1',\n",
      "       'indicator', 'rr_col1', 'rr_features', 'rr_weighted_features',\n",
      "       'quality_mag', 'ecg_rr_array_final', 'ecg_features',\n",
      "       'stress_likelihood_ecg', 'stress_likelihood_ppg',\n",
      "       'stress_likelihood_ppg_qual', 'hand'],\n",
      "      dtype='object')\n",
      "saved ------------------------------\n"
     ]
    },
    {
     "name": "stderr",
     "output_type": "stream",
     "text": [
      "[Parallel(n_jobs=25)]: Using backend LokyBackend with 25 concurrent workers.\n",
      "[Parallel(n_jobs=25)]: Done   4 out of  13 | elapsed:    7.1s remaining:   15.9s\n",
      "[Parallel(n_jobs=25)]: Done   8 out of  13 | elapsed:   20.3s remaining:   12.7s\n",
      "[Parallel(n_jobs=25)]: Done  13 out of  13 | elapsed:   44.0s finished\n",
      "[Parallel(n_jobs=25)]: Using backend LokyBackend with 25 concurrent workers.\n",
      "[Parallel(n_jobs=25)]: Done   4 out of  11 | elapsed:   16.6s remaining:   29.1s\n",
      "[Parallel(n_jobs=25)]: Done   7 out of  11 | elapsed:   21.5s remaining:   12.3s\n",
      "[Parallel(n_jobs=25)]: Done  11 out of  11 | elapsed:   45.5s finished\n"
     ]
    },
    {
     "name": "stdout",
     "output_type": "stream",
     "text": [
      "(6019, 32) (3822, 32) (9841, 32) Index(['window', 'ltime', 'likelihood_max_array', 'power', 'activity',\n",
      "       'rr_array', 'time', 'timestamp', 'localtime', 'ecg_rr_array', 'day',\n",
      "       'version', 'user', 'quality_features', 'activity_features',\n",
      "       'likelihood', 'likelihood_ind', 'length', 'rr', 'rr_col', 'length1',\n",
      "       'indicator', 'rr_col1', 'rr_features', 'rr_weighted_features',\n",
      "       'quality_mag', 'ecg_rr_array_final', 'ecg_features',\n",
      "       'stress_likelihood_ecg', 'stress_likelihood_ppg',\n",
      "       'stress_likelihood_ppg_qual', 'hand'],\n",
      "      dtype='object')\n",
      "saved ------------------------------\n"
     ]
    },
    {
     "name": "stderr",
     "output_type": "stream",
     "text": [
      "[Parallel(n_jobs=25)]: Using backend LokyBackend with 25 concurrent workers.\n",
      "[Parallel(n_jobs=25)]: Done   2 out of   7 | elapsed:    3.3s remaining:    8.2s\n",
      "[Parallel(n_jobs=25)]: Done   4 out of   7 | elapsed:   10.4s remaining:    7.8s\n",
      "[Parallel(n_jobs=25)]: Done   7 out of   7 | elapsed:   15.1s finished\n",
      "[Parallel(n_jobs=25)]: Using backend LokyBackend with 25 concurrent workers.\n",
      "[Parallel(n_jobs=25)]: Done   2 out of   7 | elapsed:    4.0s remaining:   10.0s\n",
      "[Parallel(n_jobs=25)]: Done   4 out of   7 | elapsed:    9.9s remaining:    7.5s\n",
      "[Parallel(n_jobs=25)]: Done   7 out of   7 | elapsed:   10.9s finished\n"
     ]
    },
    {
     "name": "stdout",
     "output_type": "stream",
     "text": [
      "(3546, 32) (3682, 32) (7228, 32) Index(['window', 'ltime', 'likelihood_max_array', 'power', 'activity',\n",
      "       'rr_array', 'time', 'timestamp', 'localtime', 'ecg_rr_array', 'day',\n",
      "       'version', 'user', 'quality_features', 'activity_features',\n",
      "       'likelihood', 'likelihood_ind', 'length', 'rr', 'rr_col', 'length1',\n",
      "       'indicator', 'rr_col1', 'rr_features', 'rr_weighted_features',\n",
      "       'quality_mag', 'ecg_rr_array_final', 'ecg_features',\n",
      "       'stress_likelihood_ecg', 'stress_likelihood_ppg',\n",
      "       'stress_likelihood_ppg_qual', 'hand'],\n",
      "      dtype='object')\n",
      "saved ------------------------------\n"
     ]
    },
    {
     "name": "stderr",
     "output_type": "stream",
     "text": [
      "[Parallel(n_jobs=25)]: Using backend LokyBackend with 25 concurrent workers.\n",
      "[Parallel(n_jobs=25)]: Done   4 out of  11 | elapsed:    5.6s remaining:    9.8s\n",
      "[Parallel(n_jobs=25)]: Done   7 out of  11 | elapsed:   11.2s remaining:    6.4s\n",
      "[Parallel(n_jobs=25)]: Done  11 out of  11 | elapsed:   21.9s finished\n",
      "[Parallel(n_jobs=25)]: Using backend LokyBackend with 25 concurrent workers.\n",
      "[Parallel(n_jobs=25)]: Done   4 out of  11 | elapsed:    9.2s remaining:   16.2s\n",
      "[Parallel(n_jobs=25)]: Done   7 out of  11 | elapsed:   10.9s remaining:    6.2s\n",
      "[Parallel(n_jobs=25)]: Done  11 out of  11 | elapsed:   22.1s finished\n"
     ]
    },
    {
     "name": "stdout",
     "output_type": "stream",
     "text": [
      "(4505, 32) (4946, 32) (9451, 32) Index(['window', 'ltime', 'likelihood_max_array', 'power', 'activity',\n",
      "       'rr_array', 'time', 'timestamp', 'localtime', 'ecg_rr_array', 'day',\n",
      "       'version', 'user', 'quality_features', 'activity_features',\n",
      "       'likelihood', 'likelihood_ind', 'length', 'rr', 'rr_col', 'length1',\n",
      "       'indicator', 'rr_col1', 'rr_features', 'rr_weighted_features',\n",
      "       'quality_mag', 'ecg_rr_array_final', 'ecg_features',\n",
      "       'stress_likelihood_ecg', 'stress_likelihood_ppg',\n",
      "       'stress_likelihood_ppg_qual', 'hand'],\n",
      "      dtype='object')\n",
      "saved ------------------------------\n"
     ]
    },
    {
     "name": "stderr",
     "output_type": "stream",
     "text": [
      "[Parallel(n_jobs=25)]: Using backend LokyBackend with 25 concurrent workers.\n",
      "[Parallel(n_jobs=25)]: Done   4 out of  13 | elapsed:   15.1s remaining:   34.1s\n",
      "[Parallel(n_jobs=25)]: Done   8 out of  13 | elapsed:   17.5s remaining:   10.9s\n",
      "[Parallel(n_jobs=25)]: Done  13 out of  13 | elapsed:   18.5s finished\n",
      "[Parallel(n_jobs=25)]: Using backend LokyBackend with 25 concurrent workers.\n",
      "[Parallel(n_jobs=25)]: Done   3 out of  12 | elapsed:   11.5s remaining:   34.6s\n",
      "[Parallel(n_jobs=25)]: Done   7 out of  12 | elapsed:   15.4s remaining:   11.0s\n",
      "[Parallel(n_jobs=25)]: Done  12 out of  12 | elapsed:   16.8s finished\n"
     ]
    },
    {
     "name": "stdout",
     "output_type": "stream",
     "text": [
      "(8545, 32) (7811, 32) (16356, 32) Index(['window', 'ltime', 'likelihood_max_array', 'power', 'activity',\n",
      "       'rr_array', 'time', 'timestamp', 'localtime', 'ecg_rr_array', 'day',\n",
      "       'version', 'user', 'quality_features', 'activity_features',\n",
      "       'likelihood', 'likelihood_ind', 'length', 'rr', 'rr_col', 'length1',\n",
      "       'indicator', 'rr_col1', 'rr_features', 'rr_weighted_features',\n",
      "       'quality_mag', 'ecg_rr_array_final', 'ecg_features',\n",
      "       'stress_likelihood_ecg', 'stress_likelihood_ppg',\n",
      "       'stress_likelihood_ppg_qual', 'hand'],\n",
      "      dtype='object')\n",
      "saved ------------------------------\n"
     ]
    },
    {
     "name": "stderr",
     "output_type": "stream",
     "text": [
      "[Parallel(n_jobs=25)]: Using backend LokyBackend with 25 concurrent workers.\n",
      "[Parallel(n_jobs=25)]: Done   4 out of  11 | elapsed:    4.9s remaining:    8.6s\n",
      "[Parallel(n_jobs=25)]: Done   7 out of  11 | elapsed:    6.5s remaining:    3.7s\n",
      "[Parallel(n_jobs=25)]: Done  11 out of  11 | elapsed:   21.9s finished\n",
      "[Parallel(n_jobs=25)]: Using backend LokyBackend with 25 concurrent workers.\n",
      "[Parallel(n_jobs=25)]: Done   2 out of   7 | elapsed:    2.1s remaining:    5.1s\n",
      "[Parallel(n_jobs=25)]: Done   4 out of   7 | elapsed:    2.8s remaining:    2.1s\n",
      "[Parallel(n_jobs=25)]: Done   7 out of   7 | elapsed:   20.1s finished\n"
     ]
    },
    {
     "name": "stdout",
     "output_type": "stream",
     "text": [
      "(3505, 32) (938, 32) (4443, 32) Index(['window', 'ltime', 'likelihood_max_array', 'power', 'activity',\n",
      "       'rr_array', 'time', 'timestamp', 'localtime', 'ecg_rr_array', 'day',\n",
      "       'version', 'user', 'quality_features', 'activity_features',\n",
      "       'likelihood', 'likelihood_ind', 'length', 'rr', 'rr_col', 'length1',\n",
      "       'indicator', 'rr_col1', 'rr_features', 'rr_weighted_features',\n",
      "       'quality_mag', 'ecg_rr_array_final', 'ecg_features',\n",
      "       'stress_likelihood_ecg', 'stress_likelihood_ppg',\n",
      "       'stress_likelihood_ppg_qual', 'hand'],\n",
      "      dtype='object')\n",
      "saved ------------------------------\n"
     ]
    },
    {
     "name": "stderr",
     "output_type": "stream",
     "text": [
      "[Parallel(n_jobs=25)]: Using backend LokyBackend with 25 concurrent workers.\n",
      "[Parallel(n_jobs=25)]: Done   3 out of   3 | elapsed:    2.3s remaining:    0.0s\n",
      "[Parallel(n_jobs=25)]: Done   3 out of   3 | elapsed:    2.3s finished\n",
      "[Parallel(n_jobs=25)]: Using backend LokyBackend with 25 concurrent workers.\n",
      "[Parallel(n_jobs=25)]: Done   2 out of   5 | elapsed:    2.1s remaining:    3.2s\n",
      "[Parallel(n_jobs=25)]: Done   5 out of   5 | elapsed:    6.5s finished\n"
     ]
    },
    {
     "name": "stdout",
     "output_type": "stream",
     "text": [
      "(103, 32) (997, 32) (1100, 32) Index(['window', 'ltime', 'likelihood_max_array', 'power', 'activity',\n",
      "       'rr_array', 'time', 'timestamp', 'localtime', 'ecg_rr_array', 'day',\n",
      "       'version', 'user', 'quality_features', 'activity_features',\n",
      "       'likelihood', 'likelihood_ind', 'length', 'rr', 'rr_col', 'length1',\n",
      "       'indicator', 'rr_col1', 'rr_features', 'rr_weighted_features',\n",
      "       'quality_mag', 'ecg_rr_array_final', 'ecg_features',\n",
      "       'stress_likelihood_ecg', 'stress_likelihood_ppg',\n",
      "       'stress_likelihood_ppg_qual', 'hand'],\n",
      "      dtype='object')\n",
      "saved ------------------------------\n"
     ]
    },
    {
     "name": "stderr",
     "output_type": "stream",
     "text": [
      "[Parallel(n_jobs=25)]: Using backend LokyBackend with 25 concurrent workers.\n",
      "[Parallel(n_jobs=25)]: Done   2 out of  15 | elapsed:    6.2s remaining:   40.1s\n",
      "[Parallel(n_jobs=25)]: Done   6 out of  15 | elapsed:   12.2s remaining:   18.3s\n",
      "[Parallel(n_jobs=25)]: Done  10 out of  15 | elapsed:   15.0s remaining:    7.5s\n",
      "[Parallel(n_jobs=25)]: Done  15 out of  15 | elapsed:   18.4s finished\n",
      "[Parallel(n_jobs=25)]: Using backend LokyBackend with 25 concurrent workers.\n",
      "[Parallel(n_jobs=25)]: Done   2 out of  15 | elapsed:    5.6s remaining:   36.6s\n",
      "[Parallel(n_jobs=25)]: Done   6 out of  15 | elapsed:   11.2s remaining:   16.8s\n",
      "[Parallel(n_jobs=25)]: Done  10 out of  15 | elapsed:   13.4s remaining:    6.7s\n",
      "[Parallel(n_jobs=25)]: Done  15 out of  15 | elapsed:   17.7s finished\n"
     ]
    },
    {
     "name": "stdout",
     "output_type": "stream",
     "text": [
      "(8864, 32) (8242, 32) (17106, 32) Index(['window', 'ltime', 'likelihood_max_array', 'power', 'activity',\n",
      "       'rr_array', 'time', 'timestamp', 'localtime', 'ecg_rr_array', 'day',\n",
      "       'version', 'user', 'quality_features', 'activity_features',\n",
      "       'likelihood', 'likelihood_ind', 'length', 'rr', 'rr_col', 'length1',\n",
      "       'indicator', 'rr_col1', 'rr_features', 'rr_weighted_features',\n",
      "       'quality_mag', 'ecg_rr_array_final', 'ecg_features',\n",
      "       'stress_likelihood_ecg', 'stress_likelihood_ppg',\n",
      "       'stress_likelihood_ppg_qual', 'hand'],\n",
      "      dtype='object')\n",
      "saved ------------------------------\n"
     ]
    },
    {
     "name": "stderr",
     "output_type": "stream",
     "text": [
      "[Parallel(n_jobs=25)]: Using backend LokyBackend with 25 concurrent workers.\n",
      "[Parallel(n_jobs=25)]: Done   2 out of  16 | elapsed:    6.2s remaining:   43.4s\n",
      "[Parallel(n_jobs=25)]: Done   7 out of  16 | elapsed:    8.1s remaining:   10.5s\n",
      "[Parallel(n_jobs=25)]: Done  12 out of  16 | elapsed:   10.2s remaining:    3.4s\n",
      "[Parallel(n_jobs=25)]: Done  16 out of  16 | elapsed:   15.5s finished\n",
      "[Parallel(n_jobs=25)]: Using backend LokyBackend with 25 concurrent workers.\n",
      "[Parallel(n_jobs=25)]: Done   2 out of  16 | elapsed:    6.9s remaining:   48.1s\n",
      "[Parallel(n_jobs=25)]: Done   7 out of  16 | elapsed:    9.2s remaining:   11.8s\n",
      "[Parallel(n_jobs=25)]: Done  12 out of  16 | elapsed:   11.0s remaining:    3.7s\n",
      "[Parallel(n_jobs=25)]: Done  16 out of  16 | elapsed:   14.8s finished\n"
     ]
    },
    {
     "name": "stdout",
     "output_type": "stream",
     "text": [
      "(6719, 32) (7022, 32) (13741, 32) Index(['window', 'ltime', 'likelihood_max_array', 'power', 'activity',\n",
      "       'rr_array', 'time', 'timestamp', 'localtime', 'ecg_rr_array', 'day',\n",
      "       'version', 'user', 'quality_features', 'activity_features',\n",
      "       'likelihood', 'likelihood_ind', 'length', 'rr', 'rr_col', 'length1',\n",
      "       'indicator', 'rr_col1', 'rr_features', 'rr_weighted_features',\n",
      "       'quality_mag', 'ecg_rr_array_final', 'ecg_features',\n",
      "       'stress_likelihood_ecg', 'stress_likelihood_ppg',\n",
      "       'stress_likelihood_ppg_qual', 'hand'],\n",
      "      dtype='object')\n",
      "saved ------------------------------\n"
     ]
    },
    {
     "name": "stderr",
     "output_type": "stream",
     "text": [
      "[Parallel(n_jobs=25)]: Using backend LokyBackend with 25 concurrent workers.\n",
      "[Parallel(n_jobs=25)]: Done   5 out of  14 | elapsed:   11.3s remaining:   20.4s\n",
      "[Parallel(n_jobs=25)]: Done   9 out of  14 | elapsed:   12.8s remaining:    7.1s\n",
      "[Parallel(n_jobs=25)]: Done  14 out of  14 | elapsed:   22.1s finished\n",
      "[Parallel(n_jobs=25)]: Using backend LokyBackend with 25 concurrent workers.\n",
      "[Parallel(n_jobs=25)]: Done   5 out of  14 | elapsed:   10.9s remaining:   19.7s\n",
      "[Parallel(n_jobs=25)]: Done   9 out of  14 | elapsed:   12.2s remaining:    6.8s\n",
      "[Parallel(n_jobs=25)]: Done  14 out of  14 | elapsed:   22.0s finished\n"
     ]
    },
    {
     "name": "stdout",
     "output_type": "stream",
     "text": [
      "(8388, 32) (6677, 32) (15065, 32) Index(['window', 'ltime', 'likelihood_max_array', 'power', 'activity',\n",
      "       'rr_array', 'time', 'timestamp', 'localtime', 'ecg_rr_array', 'day',\n",
      "       'version', 'user', 'quality_features', 'activity_features',\n",
      "       'likelihood', 'likelihood_ind', 'length', 'rr', 'rr_col', 'length1',\n",
      "       'indicator', 'rr_col1', 'rr_features', 'rr_weighted_features',\n",
      "       'quality_mag', 'ecg_rr_array_final', 'ecg_features',\n",
      "       'stress_likelihood_ecg', 'stress_likelihood_ppg',\n",
      "       'stress_likelihood_ppg_qual', 'hand'],\n",
      "      dtype='object')\n",
      "saved ------------------------------\n"
     ]
    },
    {
     "name": "stderr",
     "output_type": "stream",
     "text": [
      "[Parallel(n_jobs=25)]: Using backend LokyBackend with 25 concurrent workers.\n",
      "[Parallel(n_jobs=25)]: Done   4 out of   4 | elapsed:   40.4s finished\n",
      "[Parallel(n_jobs=25)]: Using backend LokyBackend with 25 concurrent workers.\n",
      "[Parallel(n_jobs=25)]: Done   4 out of   4 | elapsed:   37.0s finished\n"
     ]
    },
    {
     "name": "stdout",
     "output_type": "stream",
     "text": [
      "(1832, 32) (1626, 32) (3458, 32) Index(['window', 'ltime', 'likelihood_max_array', 'power', 'activity',\n",
      "       'rr_array', 'time', 'timestamp', 'localtime', 'ecg_rr_array', 'day',\n",
      "       'version', 'user', 'quality_features', 'activity_features',\n",
      "       'likelihood', 'likelihood_ind', 'length', 'rr', 'rr_col', 'length1',\n",
      "       'indicator', 'rr_col1', 'rr_features', 'rr_weighted_features',\n",
      "       'quality_mag', 'ecg_rr_array_final', 'ecg_features',\n",
      "       'stress_likelihood_ecg', 'stress_likelihood_ppg',\n",
      "       'stress_likelihood_ppg_qual', 'hand'],\n",
      "      dtype='object')\n",
      "saved ------------------------------\n"
     ]
    },
    {
     "name": "stderr",
     "output_type": "stream",
     "text": [
      "[Parallel(n_jobs=25)]: Using backend LokyBackend with 25 concurrent workers.\n",
      "[Parallel(n_jobs=25)]: Done   3 out of   3 | elapsed:   15.8s remaining:    0.0s\n",
      "[Parallel(n_jobs=25)]: Done   3 out of   3 | elapsed:   15.8s finished\n",
      "[Parallel(n_jobs=25)]: Using backend LokyBackend with 25 concurrent workers.\n",
      "[Parallel(n_jobs=25)]: Done   3 out of   3 | elapsed:   16.4s remaining:    0.0s\n",
      "[Parallel(n_jobs=25)]: Done   3 out of   3 | elapsed:   16.4s finished\n"
     ]
    },
    {
     "name": "stdout",
     "output_type": "stream",
     "text": [
      "(1876, 32) (1879, 32) (3755, 32) Index(['window', 'ltime', 'likelihood_max_array', 'power', 'activity',\n",
      "       'rr_array', 'time', 'timestamp', 'localtime', 'ecg_rr_array', 'day',\n",
      "       'version', 'user', 'quality_features', 'activity_features',\n",
      "       'likelihood', 'likelihood_ind', 'length', 'rr', 'rr_col', 'length1',\n",
      "       'indicator', 'rr_col1', 'rr_features', 'rr_weighted_features',\n",
      "       'quality_mag', 'ecg_rr_array_final', 'ecg_features',\n",
      "       'stress_likelihood_ecg', 'stress_likelihood_ppg',\n",
      "       'stress_likelihood_ppg_qual', 'hand'],\n",
      "      dtype='object')\n",
      "saved ------------------------------\n"
     ]
    },
    {
     "name": "stderr",
     "output_type": "stream",
     "text": [
      "[Parallel(n_jobs=25)]: Using backend LokyBackend with 25 concurrent workers.\n",
      "[Parallel(n_jobs=25)]: Done   3 out of  12 | elapsed:    5.7s remaining:   17.2s\n",
      "[Parallel(n_jobs=25)]: Done   7 out of  12 | elapsed:   10.9s remaining:    7.8s\n",
      "[Parallel(n_jobs=25)]: Done  12 out of  12 | elapsed:   22.8s finished\n",
      "[Parallel(n_jobs=25)]: Using backend LokyBackend with 25 concurrent workers.\n",
      "[Parallel(n_jobs=25)]: Done   4 out of  11 | elapsed:    7.6s remaining:   13.3s\n",
      "[Parallel(n_jobs=25)]: Done   7 out of  11 | elapsed:   11.0s remaining:    6.3s\n",
      "[Parallel(n_jobs=25)]: Done  11 out of  11 | elapsed:   20.7s finished\n"
     ]
    },
    {
     "name": "stdout",
     "output_type": "stream",
     "text": [
      "(5113, 32) (4385, 32) (9498, 32) Index(['window', 'ltime', 'likelihood_max_array', 'power', 'activity',\n",
      "       'rr_array', 'time', 'timestamp', 'localtime', 'ecg_rr_array', 'day',\n",
      "       'version', 'user', 'quality_features', 'activity_features',\n",
      "       'likelihood', 'likelihood_ind', 'length', 'rr', 'rr_col', 'length1',\n",
      "       'indicator', 'rr_col1', 'rr_features', 'rr_weighted_features',\n",
      "       'quality_mag', 'ecg_rr_array_final', 'ecg_features',\n",
      "       'stress_likelihood_ecg', 'stress_likelihood_ppg',\n",
      "       'stress_likelihood_ppg_qual', 'hand'],\n",
      "      dtype='object')\n",
      "saved ------------------------------\n"
     ]
    },
    {
     "name": "stderr",
     "output_type": "stream",
     "text": [
      "[Parallel(n_jobs=25)]: Using backend LokyBackend with 25 concurrent workers.\n",
      "[Parallel(n_jobs=25)]: Done   3 out of  12 | elapsed:    4.0s remaining:   11.9s\n",
      "[Parallel(n_jobs=25)]: Done   7 out of  12 | elapsed:   14.3s remaining:   10.2s\n",
      "[Parallel(n_jobs=25)]: Done  12 out of  12 | elapsed:   26.5s finished\n",
      "[Parallel(n_jobs=25)]: Using backend LokyBackend with 25 concurrent workers.\n",
      "[Parallel(n_jobs=25)]: Done   3 out of  12 | elapsed:    7.9s remaining:   23.6s\n",
      "[Parallel(n_jobs=25)]: Done   7 out of  12 | elapsed:   18.2s remaining:   13.0s\n",
      "[Parallel(n_jobs=25)]: Done  12 out of  12 | elapsed:   25.7s finished\n"
     ]
    },
    {
     "name": "stdout",
     "output_type": "stream",
     "text": [
      "(4549, 32) (5929, 32) (10478, 32) Index(['window', 'ltime', 'likelihood_max_array', 'power', 'activity',\n",
      "       'rr_array', 'time', 'timestamp', 'localtime', 'ecg_rr_array', 'day',\n",
      "       'version', 'user', 'quality_features', 'activity_features',\n",
      "       'likelihood', 'likelihood_ind', 'length', 'rr', 'rr_col', 'length1',\n",
      "       'indicator', 'rr_col1', 'rr_features', 'rr_weighted_features',\n",
      "       'quality_mag', 'ecg_rr_array_final', 'ecg_features',\n",
      "       'stress_likelihood_ecg', 'stress_likelihood_ppg',\n",
      "       'stress_likelihood_ppg_qual', 'hand'],\n",
      "      dtype='object')\n",
      "saved ------------------------------\n"
     ]
    },
    {
     "name": "stderr",
     "output_type": "stream",
     "text": [
      "[Parallel(n_jobs=25)]: Using backend LokyBackend with 25 concurrent workers.\n",
      "[Parallel(n_jobs=25)]: Done   2 out of   7 | elapsed:    8.7s remaining:   21.9s\n",
      "[Parallel(n_jobs=25)]: Done   4 out of   7 | elapsed:   13.6s remaining:   10.2s\n",
      "[Parallel(n_jobs=25)]: Done   7 out of   7 | elapsed:   17.9s finished\n",
      "[Parallel(n_jobs=25)]: Using backend LokyBackend with 25 concurrent workers.\n",
      "[Parallel(n_jobs=25)]: Done   2 out of   7 | elapsed:    3.4s remaining:    8.5s\n",
      "[Parallel(n_jobs=25)]: Done   4 out of   7 | elapsed:    8.5s remaining:    6.4s\n",
      "[Parallel(n_jobs=25)]: Done   7 out of   7 | elapsed:   21.5s finished\n"
     ]
    },
    {
     "name": "stdout",
     "output_type": "stream",
     "text": [
      "(1519, 32) (1582, 32) (3101, 32) Index(['window', 'ltime', 'likelihood_max_array', 'power', 'activity',\n",
      "       'rr_array', 'time', 'timestamp', 'localtime', 'ecg_rr_array', 'day',\n",
      "       'version', 'user', 'quality_features', 'activity_features',\n",
      "       'likelihood', 'likelihood_ind', 'length', 'rr', 'rr_col', 'length1',\n",
      "       'indicator', 'rr_col1', 'rr_features', 'rr_weighted_features',\n",
      "       'quality_mag', 'ecg_rr_array_final', 'ecg_features',\n",
      "       'stress_likelihood_ecg', 'stress_likelihood_ppg',\n",
      "       'stress_likelihood_ppg_qual', 'hand'],\n",
      "      dtype='object')\n",
      "saved ------------------------------\n"
     ]
    },
    {
     "name": "stderr",
     "output_type": "stream",
     "text": [
      "[Parallel(n_jobs=25)]: Using backend LokyBackend with 25 concurrent workers.\n",
      "[Parallel(n_jobs=25)]: Done   4 out of   8 | elapsed:   16.3s remaining:   16.3s\n",
      "[Parallel(n_jobs=25)]: Done   8 out of   8 | elapsed:   23.0s finished\n",
      "[Parallel(n_jobs=25)]: Using backend LokyBackend with 25 concurrent workers.\n",
      "[Parallel(n_jobs=25)]: Done   4 out of   8 | elapsed:   13.3s remaining:   13.3s\n",
      "[Parallel(n_jobs=25)]: Done   8 out of   8 | elapsed:   28.9s finished\n"
     ]
    },
    {
     "name": "stdout",
     "output_type": "stream",
     "text": [
      "(2891, 32) (2602, 32) (5493, 32) Index(['window', 'ltime', 'likelihood_max_array', 'power', 'activity',\n",
      "       'rr_array', 'time', 'timestamp', 'localtime', 'ecg_rr_array', 'day',\n",
      "       'version', 'user', 'quality_features', 'activity_features',\n",
      "       'likelihood', 'likelihood_ind', 'length', 'rr', 'rr_col', 'length1',\n",
      "       'indicator', 'rr_col1', 'rr_features', 'rr_weighted_features',\n",
      "       'quality_mag', 'ecg_rr_array_final', 'ecg_features',\n",
      "       'stress_likelihood_ecg', 'stress_likelihood_ppg',\n",
      "       'stress_likelihood_ppg_qual', 'hand'],\n",
      "      dtype='object')\n",
      "saved ------------------------------\n"
     ]
    },
    {
     "name": "stderr",
     "output_type": "stream",
     "text": [
      "[Parallel(n_jobs=25)]: Using backend LokyBackend with 25 concurrent workers.\n",
      "[Parallel(n_jobs=25)]: Done   2 out of   7 | elapsed:    5.2s remaining:   13.0s\n",
      "[Parallel(n_jobs=25)]: Done   4 out of   7 | elapsed:   17.7s remaining:   13.3s\n",
      "[Parallel(n_jobs=25)]: Done   7 out of   7 | elapsed:   25.6s finished\n",
      "[Parallel(n_jobs=25)]: Using backend LokyBackend with 25 concurrent workers.\n",
      "[Parallel(n_jobs=25)]: Done   4 out of   8 | elapsed:    9.4s remaining:    9.4s\n",
      "[Parallel(n_jobs=25)]: Done   8 out of   8 | elapsed:   28.7s finished\n"
     ]
    },
    {
     "name": "stdout",
     "output_type": "stream",
     "text": [
      "(2135, 32) (2044, 32) (4179, 32) Index(['window', 'ltime', 'likelihood_max_array', 'power', 'activity',\n",
      "       'rr_array', 'time', 'timestamp', 'localtime', 'ecg_rr_array', 'day',\n",
      "       'version', 'user', 'quality_features', 'activity_features',\n",
      "       'likelihood', 'likelihood_ind', 'length', 'rr', 'rr_col', 'length1',\n",
      "       'indicator', 'rr_col1', 'rr_features', 'rr_weighted_features',\n",
      "       'quality_mag', 'ecg_rr_array_final', 'ecg_features',\n",
      "       'stress_likelihood_ecg', 'stress_likelihood_ppg',\n",
      "       'stress_likelihood_ppg_qual', 'hand'],\n",
      "      dtype='object')\n",
      "saved ------------------------------\n"
     ]
    },
    {
     "name": "stderr",
     "output_type": "stream",
     "text": [
      "[Parallel(n_jobs=25)]: Using backend LokyBackend with 25 concurrent workers.\n",
      "[Parallel(n_jobs=25)]: Done   4 out of  11 | elapsed:   21.2s remaining:   37.1s\n",
      "[Parallel(n_jobs=25)]: Done   7 out of  11 | elapsed:   29.7s remaining:   17.0s\n",
      "[Parallel(n_jobs=25)]: Done  11 out of  11 | elapsed:   40.3s finished\n",
      "[Parallel(n_jobs=25)]: Using backend LokyBackend with 25 concurrent workers.\n",
      "[Parallel(n_jobs=25)]: Done   3 out of  12 | elapsed:   14.2s remaining:   42.7s\n",
      "[Parallel(n_jobs=25)]: Done   7 out of  12 | elapsed:   24.5s remaining:   17.5s\n",
      "[Parallel(n_jobs=25)]: Done  12 out of  12 | elapsed:   31.7s finished\n"
     ]
    },
    {
     "name": "stdout",
     "output_type": "stream",
     "text": [
      "(3661, 32) (2906, 32) (6567, 32) Index(['window', 'ltime', 'likelihood_max_array', 'power', 'activity',\n",
      "       'rr_array', 'time', 'timestamp', 'localtime', 'ecg_rr_array', 'day',\n",
      "       'version', 'user', 'quality_features', 'activity_features',\n",
      "       'likelihood', 'likelihood_ind', 'length', 'rr', 'rr_col', 'length1',\n",
      "       'indicator', 'rr_col1', 'rr_features', 'rr_weighted_features',\n",
      "       'quality_mag', 'ecg_rr_array_final', 'ecg_features',\n",
      "       'stress_likelihood_ecg', 'stress_likelihood_ppg',\n",
      "       'stress_likelihood_ppg_qual', 'hand'],\n",
      "      dtype='object')\n",
      "saved ------------------------------\n"
     ]
    },
    {
     "name": "stderr",
     "output_type": "stream",
     "text": [
      "[Parallel(n_jobs=25)]: Using backend LokyBackend with 25 concurrent workers.\n",
      "[Parallel(n_jobs=25)]: Done   4 out of  11 | elapsed:   22.8s remaining:   39.8s\n",
      "[Parallel(n_jobs=25)]: Done   7 out of  11 | elapsed:   30.3s remaining:   17.3s\n",
      "[Parallel(n_jobs=25)]: Done  11 out of  11 | elapsed:   47.1s finished\n",
      "[Parallel(n_jobs=25)]: Using backend LokyBackend with 25 concurrent workers.\n",
      "[Parallel(n_jobs=25)]: Done   4 out of  11 | elapsed:   23.2s remaining:   40.6s\n",
      "[Parallel(n_jobs=25)]: Done   7 out of  11 | elapsed:   34.5s remaining:   19.7s\n",
      "[Parallel(n_jobs=25)]: Done  11 out of  11 | elapsed:   44.1s finished\n"
     ]
    },
    {
     "name": "stdout",
     "output_type": "stream",
     "text": [
      "(5257, 32) (4947, 32) (10204, 32) Index(['window', 'ltime', 'likelihood_max_array', 'power', 'activity',\n",
      "       'rr_array', 'time', 'timestamp', 'localtime', 'ecg_rr_array', 'day',\n",
      "       'version', 'user', 'quality_features', 'activity_features',\n",
      "       'likelihood', 'likelihood_ind', 'length', 'rr', 'rr_col', 'length1',\n",
      "       'indicator', 'rr_col1', 'rr_features', 'rr_weighted_features',\n",
      "       'quality_mag', 'ecg_rr_array_final', 'ecg_features',\n",
      "       'stress_likelihood_ecg', 'stress_likelihood_ppg',\n",
      "       'stress_likelihood_ppg_qual', 'hand'],\n",
      "      dtype='object')\n",
      "saved ------------------------------\n"
     ]
    },
    {
     "name": "stderr",
     "output_type": "stream",
     "text": [
      "[Parallel(n_jobs=25)]: Using backend LokyBackend with 25 concurrent workers.\n",
      "[Parallel(n_jobs=25)]: Done   4 out of   4 | elapsed:   16.3s finished\n",
      "[Parallel(n_jobs=25)]: Using backend LokyBackend with 25 concurrent workers.\n",
      "[Parallel(n_jobs=25)]: Done   4 out of   4 | elapsed:   15.7s finished\n"
     ]
    },
    {
     "name": "stdout",
     "output_type": "stream",
     "text": [
      "(1551, 32) (1231, 32) (2782, 32) Index(['window', 'ltime', 'likelihood_max_array', 'power', 'activity',\n",
      "       'rr_array', 'time', 'timestamp', 'localtime', 'ecg_rr_array', 'day',\n",
      "       'version', 'user', 'quality_features', 'activity_features',\n",
      "       'likelihood', 'likelihood_ind', 'length', 'rr', 'rr_col', 'length1',\n",
      "       'indicator', 'rr_col1', 'rr_features', 'rr_weighted_features',\n",
      "       'quality_mag', 'ecg_rr_array_final', 'ecg_features',\n",
      "       'stress_likelihood_ecg', 'stress_likelihood_ppg',\n",
      "       'stress_likelihood_ppg_qual', 'hand'],\n",
      "      dtype='object')\n",
      "saved ------------------------------\n"
     ]
    },
    {
     "name": "stderr",
     "output_type": "stream",
     "text": [
      "[Parallel(n_jobs=25)]: Using backend LokyBackend with 25 concurrent workers.\n",
      "[Parallel(n_jobs=25)]: Done   5 out of  14 | elapsed:    9.4s remaining:   16.9s\n",
      "[Parallel(n_jobs=25)]: Done   9 out of  14 | elapsed:   10.9s remaining:    6.1s\n",
      "[Parallel(n_jobs=25)]: Done  14 out of  14 | elapsed:   13.0s finished\n",
      "[Parallel(n_jobs=25)]: Using backend LokyBackend with 25 concurrent workers.\n",
      "[Parallel(n_jobs=25)]: Done   2 out of  15 | elapsed:    5.3s remaining:   34.7s\n",
      "[Parallel(n_jobs=25)]: Done   6 out of  15 | elapsed:    9.2s remaining:   13.8s\n",
      "[Parallel(n_jobs=25)]: Done  10 out of  15 | elapsed:   11.1s remaining:    5.5s\n",
      "[Parallel(n_jobs=25)]: Done  15 out of  15 | elapsed:   13.6s finished\n"
     ]
    },
    {
     "name": "stdout",
     "output_type": "stream",
     "text": [
      "(8404, 32) (8443, 32) (16847, 32) Index(['window', 'ltime', 'likelihood_max_array', 'power', 'activity',\n",
      "       'rr_array', 'time', 'timestamp', 'localtime', 'ecg_rr_array', 'day',\n",
      "       'version', 'user', 'quality_features', 'activity_features',\n",
      "       'likelihood', 'likelihood_ind', 'length', 'rr', 'rr_col', 'length1',\n",
      "       'indicator', 'rr_col1', 'rr_features', 'rr_weighted_features',\n",
      "       'quality_mag', 'ecg_rr_array_final', 'ecg_features',\n",
      "       'stress_likelihood_ecg', 'stress_likelihood_ppg',\n",
      "       'stress_likelihood_ppg_qual', 'hand'],\n",
      "      dtype='object')\n",
      "saved ------------------------------\n"
     ]
    },
    {
     "name": "stderr",
     "output_type": "stream",
     "text": [
      "[Parallel(n_jobs=25)]: Using backend LokyBackend with 25 concurrent workers.\n",
      "[Parallel(n_jobs=25)]: Done   2 out of   7 | elapsed:    2.4s remaining:    6.0s\n",
      "[Parallel(n_jobs=25)]: Done   4 out of   7 | elapsed:    6.1s remaining:    4.5s\n",
      "[Parallel(n_jobs=25)]: Done   7 out of   7 | elapsed:   12.0s finished\n",
      "[Parallel(n_jobs=25)]: Using backend LokyBackend with 25 concurrent workers.\n",
      "[Parallel(n_jobs=25)]: Done   2 out of   7 | elapsed:    2.5s remaining:    6.1s\n",
      "[Parallel(n_jobs=25)]: Done   4 out of   7 | elapsed:    6.8s remaining:    5.1s\n",
      "[Parallel(n_jobs=25)]: Done   7 out of   7 | elapsed:   10.6s finished\n"
     ]
    },
    {
     "name": "stdout",
     "output_type": "stream",
     "text": [
      "(2732, 32) (2650, 32) (5382, 32) Index(['window', 'ltime', 'likelihood_max_array', 'power', 'activity',\n",
      "       'rr_array', 'time', 'timestamp', 'localtime', 'ecg_rr_array', 'day',\n",
      "       'version', 'user', 'quality_features', 'activity_features',\n",
      "       'likelihood', 'likelihood_ind', 'length', 'rr', 'rr_col', 'length1',\n",
      "       'indicator', 'rr_col1', 'rr_features', 'rr_weighted_features',\n",
      "       'quality_mag', 'ecg_rr_array_final', 'ecg_features',\n",
      "       'stress_likelihood_ecg', 'stress_likelihood_ppg',\n",
      "       'stress_likelihood_ppg_qual', 'hand'],\n",
      "      dtype='object')\n",
      "saved ------------------------------\n"
     ]
    },
    {
     "name": "stderr",
     "output_type": "stream",
     "text": [
      "[Parallel(n_jobs=25)]: Using backend LokyBackend with 25 concurrent workers.\n",
      "[Parallel(n_jobs=25)]: Done   3 out of   3 | elapsed:   13.7s remaining:    0.0s\n",
      "[Parallel(n_jobs=25)]: Done   3 out of   3 | elapsed:   13.7s finished\n",
      "[Parallel(n_jobs=25)]: Using backend LokyBackend with 25 concurrent workers.\n",
      "[Parallel(n_jobs=25)]: Done   4 out of   4 | elapsed:   11.6s finished\n"
     ]
    },
    {
     "name": "stdout",
     "output_type": "stream",
     "text": [
      "(2016, 32) (2118, 32) (4134, 32) Index(['window', 'ltime', 'likelihood_max_array', 'power', 'activity',\n",
      "       'rr_array', 'time', 'timestamp', 'localtime', 'ecg_rr_array', 'day',\n",
      "       'version', 'user', 'quality_features', 'activity_features',\n",
      "       'likelihood', 'likelihood_ind', 'length', 'rr', 'rr_col', 'length1',\n",
      "       'indicator', 'rr_col1', 'rr_features', 'rr_weighted_features',\n",
      "       'quality_mag', 'ecg_rr_array_final', 'ecg_features',\n",
      "       'stress_likelihood_ecg', 'stress_likelihood_ppg',\n",
      "       'stress_likelihood_ppg_qual', 'hand'],\n",
      "      dtype='object')\n",
      "saved ------------------------------\n"
     ]
    },
    {
     "name": "stderr",
     "output_type": "stream",
     "text": [
      "[Parallel(n_jobs=25)]: Using backend LokyBackend with 25 concurrent workers.\n",
      "[Parallel(n_jobs=25)]: Done   2 out of   9 | elapsed:    7.1s remaining:   24.8s\n",
      "[Parallel(n_jobs=25)]: Done   5 out of   9 | elapsed:   14.6s remaining:   11.7s\n",
      "[Parallel(n_jobs=25)]: Done   9 out of   9 | elapsed:   24.7s finished\n",
      "[Parallel(n_jobs=25)]: Using backend LokyBackend with 25 concurrent workers.\n",
      "[Parallel(n_jobs=25)]: Done   3 out of  10 | elapsed:    7.3s remaining:   16.9s\n",
      "[Parallel(n_jobs=25)]: Done   6 out of  10 | elapsed:   17.6s remaining:   11.7s\n",
      "[Parallel(n_jobs=25)]: Done  10 out of  10 | elapsed:   25.8s finished\n"
     ]
    },
    {
     "name": "stdout",
     "output_type": "stream",
     "text": [
      "(3041, 32) (3337, 32) (6378, 32) Index(['window', 'ltime', 'likelihood_max_array', 'power', 'activity',\n",
      "       'rr_array', 'time', 'timestamp', 'localtime', 'ecg_rr_array', 'day',\n",
      "       'version', 'user', 'quality_features', 'activity_features',\n",
      "       'likelihood', 'likelihood_ind', 'length', 'rr', 'rr_col', 'length1',\n",
      "       'indicator', 'rr_col1', 'rr_features', 'rr_weighted_features',\n",
      "       'quality_mag', 'ecg_rr_array_final', 'ecg_features',\n",
      "       'stress_likelihood_ecg', 'stress_likelihood_ppg',\n",
      "       'stress_likelihood_ppg_qual', 'hand'],\n",
      "      dtype='object')\n",
      "saved ------------------------------\n"
     ]
    },
    {
     "name": "stderr",
     "output_type": "stream",
     "text": [
      "[Parallel(n_jobs=25)]: Using backend LokyBackend with 25 concurrent workers.\n",
      "[Parallel(n_jobs=25)]: Done   4 out of  13 | elapsed:   11.0s remaining:   24.7s\n",
      "[Parallel(n_jobs=25)]: Done   8 out of  13 | elapsed:   12.3s remaining:    7.7s\n",
      "[Parallel(n_jobs=25)]: Done  13 out of  13 | elapsed:   29.2s finished\n",
      "[Parallel(n_jobs=25)]: Using backend LokyBackend with 25 concurrent workers.\n",
      "[Parallel(n_jobs=25)]: Done   4 out of  13 | elapsed:    8.6s remaining:   19.4s\n",
      "[Parallel(n_jobs=25)]: Done   8 out of  13 | elapsed:   10.3s remaining:    6.5s\n",
      "[Parallel(n_jobs=25)]: Done  13 out of  13 | elapsed:   26.2s finished\n"
     ]
    },
    {
     "name": "stdout",
     "output_type": "stream",
     "text": [
      "(7637, 32) (6504, 32) (14141, 32) Index(['window', 'ltime', 'likelihood_max_array', 'power', 'activity',\n",
      "       'rr_array', 'time', 'timestamp', 'localtime', 'ecg_rr_array', 'day',\n",
      "       'version', 'user', 'quality_features', 'activity_features',\n",
      "       'likelihood', 'likelihood_ind', 'length', 'rr', 'rr_col', 'length1',\n",
      "       'indicator', 'rr_col1', 'rr_features', 'rr_weighted_features',\n",
      "       'quality_mag', 'ecg_rr_array_final', 'ecg_features',\n",
      "       'stress_likelihood_ecg', 'stress_likelihood_ppg',\n",
      "       'stress_likelihood_ppg_qual', 'hand'],\n",
      "      dtype='object')\n",
      "saved ------------------------------\n"
     ]
    },
    {
     "name": "stderr",
     "output_type": "stream",
     "text": [
      "[Parallel(n_jobs=25)]: Using backend LokyBackend with 25 concurrent workers.\n",
      "[Parallel(n_jobs=25)]: Done   5 out of  14 | elapsed:   16.6s remaining:   29.8s\n",
      "[Parallel(n_jobs=25)]: Done   9 out of  14 | elapsed:   26.2s remaining:   14.5s\n",
      "[Parallel(n_jobs=25)]: Done  14 out of  14 | elapsed:   39.5s finished\n",
      "[Parallel(n_jobs=25)]: Using backend LokyBackend with 25 concurrent workers.\n",
      "[Parallel(n_jobs=25)]: Done   5 out of  14 | elapsed:   16.2s remaining:   29.2s\n",
      "[Parallel(n_jobs=25)]: Done   9 out of  14 | elapsed:   28.4s remaining:   15.8s\n",
      "[Parallel(n_jobs=25)]: Done  14 out of  14 | elapsed:   37.7s finished\n"
     ]
    },
    {
     "name": "stdout",
     "output_type": "stream",
     "text": [
      "(4559, 32) (4120, 32) (8679, 32) Index(['window', 'ltime', 'likelihood_max_array', 'power', 'activity',\n",
      "       'rr_array', 'time', 'timestamp', 'localtime', 'ecg_rr_array', 'day',\n",
      "       'version', 'user', 'quality_features', 'activity_features',\n",
      "       'likelihood', 'likelihood_ind', 'length', 'rr', 'rr_col', 'length1',\n",
      "       'indicator', 'rr_col1', 'rr_features', 'rr_weighted_features',\n",
      "       'quality_mag', 'ecg_rr_array_final', 'ecg_features',\n",
      "       'stress_likelihood_ecg', 'stress_likelihood_ppg',\n",
      "       'stress_likelihood_ppg_qual', 'hand'],\n",
      "      dtype='object')\n",
      "saved ------------------------------\n"
     ]
    },
    {
     "name": "stderr",
     "output_type": "stream",
     "text": [
      "[Parallel(n_jobs=25)]: Using backend LokyBackend with 25 concurrent workers.\n",
      "[Parallel(n_jobs=25)]: Done   2 out of  15 | elapsed:    4.3s remaining:   27.9s\n",
      "[Parallel(n_jobs=25)]: Done   6 out of  15 | elapsed:    9.2s remaining:   13.8s\n",
      "[Parallel(n_jobs=25)]: Done  10 out of  15 | elapsed:   11.9s remaining:    5.9s\n",
      "[Parallel(n_jobs=25)]: Done  15 out of  15 | elapsed:   20.3s finished\n",
      "[Parallel(n_jobs=25)]: Using backend LokyBackend with 25 concurrent workers.\n",
      "[Parallel(n_jobs=25)]: Done   2 out of  15 | elapsed:    5.0s remaining:   32.5s\n",
      "[Parallel(n_jobs=25)]: Done   6 out of  15 | elapsed:   11.7s remaining:   17.6s\n",
      "[Parallel(n_jobs=25)]: Done  10 out of  15 | elapsed:   12.8s remaining:    6.4s\n",
      "[Parallel(n_jobs=25)]: Done  15 out of  15 | elapsed:   18.2s finished\n"
     ]
    },
    {
     "name": "stdout",
     "output_type": "stream",
     "text": [
      "(8778, 32) (9579, 32) (18357, 32) Index(['window', 'ltime', 'likelihood_max_array', 'power', 'activity',\n",
      "       'rr_array', 'time', 'timestamp', 'localtime', 'ecg_rr_array', 'day',\n",
      "       'version', 'user', 'quality_features', 'activity_features',\n",
      "       'likelihood', 'likelihood_ind', 'length', 'rr', 'rr_col', 'length1',\n",
      "       'indicator', 'rr_col1', 'rr_features', 'rr_weighted_features',\n",
      "       'quality_mag', 'ecg_rr_array_final', 'ecg_features',\n",
      "       'stress_likelihood_ecg', 'stress_likelihood_ppg',\n",
      "       'stress_likelihood_ppg_qual', 'hand'],\n",
      "      dtype='object')\n",
      "saved ------------------------------\n"
     ]
    },
    {
     "name": "stderr",
     "output_type": "stream",
     "text": [
      "[Parallel(n_jobs=25)]: Using backend LokyBackend with 25 concurrent workers.\n",
      "[Parallel(n_jobs=25)]: Done   2 out of  16 | elapsed:   12.3s remaining:  1.4min\n",
      "[Parallel(n_jobs=25)]: Done   7 out of  16 | elapsed:   24.5s remaining:   31.4s\n",
      "[Parallel(n_jobs=25)]: Done  12 out of  16 | elapsed:   32.1s remaining:   10.7s\n",
      "[Parallel(n_jobs=25)]: Done  16 out of  16 | elapsed:   44.1s finished\n",
      "[Parallel(n_jobs=25)]: Using backend LokyBackend with 25 concurrent workers.\n",
      "[Parallel(n_jobs=25)]: Done   2 out of  15 | elapsed:   15.5s remaining:  1.7min\n",
      "[Parallel(n_jobs=25)]: Done   6 out of  15 | elapsed:   24.8s remaining:   37.2s\n",
      "[Parallel(n_jobs=25)]: Done  10 out of  15 | elapsed:   30.7s remaining:   15.3s\n",
      "[Parallel(n_jobs=25)]: Done  15 out of  15 | elapsed:   43.1s finished\n"
     ]
    },
    {
     "name": "stdout",
     "output_type": "stream",
     "text": [
      "(7512, 32) (7095, 32) (14607, 32) Index(['window', 'ltime', 'likelihood_max_array', 'power', 'activity',\n",
      "       'rr_array', 'time', 'timestamp', 'localtime', 'ecg_rr_array', 'day',\n",
      "       'version', 'user', 'quality_features', 'activity_features',\n",
      "       'likelihood', 'likelihood_ind', 'length', 'rr', 'rr_col', 'length1',\n",
      "       'indicator', 'rr_col1', 'rr_features', 'rr_weighted_features',\n",
      "       'quality_mag', 'ecg_rr_array_final', 'ecg_features',\n",
      "       'stress_likelihood_ecg', 'stress_likelihood_ppg',\n",
      "       'stress_likelihood_ppg_qual', 'hand'],\n",
      "      dtype='object')\n",
      "saved ------------------------------\n"
     ]
    },
    {
     "name": "stderr",
     "output_type": "stream",
     "text": [
      "[Parallel(n_jobs=25)]: Using backend LokyBackend with 25 concurrent workers.\n",
      "[Parallel(n_jobs=25)]: Done   4 out of  11 | elapsed:   19.8s remaining:   34.6s\n",
      "[Parallel(n_jobs=25)]: Done   7 out of  11 | elapsed:   26.6s remaining:   15.2s\n",
      "[Parallel(n_jobs=25)]: Done  11 out of  11 | elapsed:   39.0s finished\n",
      "[Parallel(n_jobs=25)]: Using backend LokyBackend with 25 concurrent workers.\n",
      "[Parallel(n_jobs=25)]: Done   3 out of  10 | elapsed:   16.2s remaining:   37.8s\n",
      "[Parallel(n_jobs=25)]: Done   6 out of  10 | elapsed:   28.5s remaining:   19.0s\n",
      "[Parallel(n_jobs=25)]: Done  10 out of  10 | elapsed:   39.1s finished\n"
     ]
    },
    {
     "name": "stdout",
     "output_type": "stream",
     "text": [
      "(3535, 32) (2602, 32) (6137, 32) Index(['window', 'ltime', 'likelihood_max_array', 'power', 'activity',\n",
      "       'rr_array', 'time', 'timestamp', 'localtime', 'ecg_rr_array', 'day',\n",
      "       'version', 'user', 'quality_features', 'activity_features',\n",
      "       'likelihood', 'likelihood_ind', 'length', 'rr', 'rr_col', 'length1',\n",
      "       'indicator', 'rr_col1', 'rr_features', 'rr_weighted_features',\n",
      "       'quality_mag', 'ecg_rr_array_final', 'ecg_features',\n",
      "       'stress_likelihood_ecg', 'stress_likelihood_ppg',\n",
      "       'stress_likelihood_ppg_qual', 'hand'],\n",
      "      dtype='object')\n",
      "saved ------------------------------\n"
     ]
    },
    {
     "name": "stderr",
     "output_type": "stream",
     "text": [
      "[Parallel(n_jobs=25)]: Using backend LokyBackend with 25 concurrent workers.\n",
      "[Parallel(n_jobs=25)]: Done   3 out of  12 | elapsed:    8.3s remaining:   24.8s\n",
      "[Parallel(n_jobs=25)]: Done   7 out of  12 | elapsed:   14.6s remaining:   10.4s\n",
      "[Parallel(n_jobs=25)]: Done  12 out of  12 | elapsed:   26.9s finished\n",
      "[Parallel(n_jobs=25)]: Using backend LokyBackend with 25 concurrent workers.\n",
      "[Parallel(n_jobs=25)]: Done   5 out of  14 | elapsed:    9.6s remaining:   17.3s\n",
      "[Parallel(n_jobs=25)]: Done   9 out of  14 | elapsed:   16.5s remaining:    9.2s\n",
      "[Parallel(n_jobs=25)]: Done  14 out of  14 | elapsed:   22.4s finished\n"
     ]
    },
    {
     "name": "stdout",
     "output_type": "stream",
     "text": [
      "(4505, 32) (4309, 32) (8814, 32) Index(['window', 'ltime', 'likelihood_max_array', 'power', 'activity',\n",
      "       'rr_array', 'time', 'timestamp', 'localtime', 'ecg_rr_array', 'day',\n",
      "       'version', 'user', 'quality_features', 'activity_features',\n",
      "       'likelihood', 'likelihood_ind', 'length', 'rr', 'rr_col', 'length1',\n",
      "       'indicator', 'rr_col1', 'rr_features', 'rr_weighted_features',\n",
      "       'quality_mag', 'ecg_rr_array_final', 'ecg_features',\n",
      "       'stress_likelihood_ecg', 'stress_likelihood_ppg',\n",
      "       'stress_likelihood_ppg_qual', 'hand'],\n",
      "      dtype='object')\n",
      "saved ------------------------------\n"
     ]
    },
    {
     "name": "stderr",
     "output_type": "stream",
     "text": [
      "[Parallel(n_jobs=25)]: Using backend LokyBackend with 25 concurrent workers.\n",
      "[Parallel(n_jobs=25)]: Done   3 out of  12 | elapsed:    4.5s remaining:   13.6s\n",
      "[Parallel(n_jobs=25)]: Done   7 out of  12 | elapsed:   11.9s remaining:    8.5s\n",
      "[Parallel(n_jobs=25)]: Done  12 out of  12 | elapsed:   24.8s finished\n",
      "[Parallel(n_jobs=25)]: Using backend LokyBackend with 25 concurrent workers.\n",
      "[Parallel(n_jobs=25)]: Done   4 out of  13 | elapsed:    7.4s remaining:   16.7s\n",
      "[Parallel(n_jobs=25)]: Done   8 out of  13 | elapsed:   12.3s remaining:    7.7s\n",
      "[Parallel(n_jobs=25)]: Done  13 out of  13 | elapsed:   24.3s finished\n"
     ]
    },
    {
     "name": "stdout",
     "output_type": "stream",
     "text": [
      "(4521, 32) (5797, 32) (10318, 32) Index(['window', 'ltime', 'likelihood_max_array', 'power', 'activity',\n",
      "       'rr_array', 'time', 'timestamp', 'localtime', 'ecg_rr_array', 'day',\n",
      "       'version', 'user', 'quality_features', 'activity_features',\n",
      "       'likelihood', 'likelihood_ind', 'length', 'rr', 'rr_col', 'length1',\n",
      "       'indicator', 'rr_col1', 'rr_features', 'rr_weighted_features',\n",
      "       'quality_mag', 'ecg_rr_array_final', 'ecg_features',\n",
      "       'stress_likelihood_ecg', 'stress_likelihood_ppg',\n",
      "       'stress_likelihood_ppg_qual', 'hand'],\n",
      "      dtype='object')\n",
      "saved ------------------------------\n"
     ]
    },
    {
     "name": "stderr",
     "output_type": "stream",
     "text": [
      "[Parallel(n_jobs=25)]: Using backend LokyBackend with 25 concurrent workers.\n",
      "[Parallel(n_jobs=25)]: Done   2 out of   5 | elapsed:   10.7s remaining:   16.0s\n",
      "[Parallel(n_jobs=25)]: Done   5 out of   5 | elapsed:   15.0s finished\n",
      "[Parallel(n_jobs=25)]: Using backend LokyBackend with 25 concurrent workers.\n",
      "[Parallel(n_jobs=25)]: Done   4 out of   8 | elapsed:   10.0s remaining:   10.0s\n",
      "[Parallel(n_jobs=25)]: Done   8 out of   8 | elapsed:   14.2s finished\n"
     ]
    },
    {
     "name": "stdout",
     "output_type": "stream",
     "text": [
      "(3760, 32) (4925, 32) (8685, 32) Index(['window', 'ltime', 'likelihood_max_array', 'power', 'activity',\n",
      "       'rr_array', 'time', 'timestamp', 'localtime', 'ecg_rr_array', 'day',\n",
      "       'version', 'user', 'quality_features', 'activity_features',\n",
      "       'likelihood', 'likelihood_ind', 'length', 'rr', 'rr_col', 'length1',\n",
      "       'indicator', 'rr_col1', 'rr_features', 'rr_weighted_features',\n",
      "       'quality_mag', 'ecg_rr_array_final', 'ecg_features',\n",
      "       'stress_likelihood_ecg', 'stress_likelihood_ppg',\n",
      "       'stress_likelihood_ppg_qual', 'hand'],\n",
      "      dtype='object')\n",
      "saved ------------------------------\n"
     ]
    },
    {
     "name": "stderr",
     "output_type": "stream",
     "text": [
      "[Parallel(n_jobs=25)]: Using backend LokyBackend with 25 concurrent workers.\n",
      "[Parallel(n_jobs=25)]: Done   2 out of  15 | elapsed:   15.3s remaining:  1.7min\n",
      "[Parallel(n_jobs=25)]: Done   6 out of  15 | elapsed:   33.9s remaining:   50.9s\n",
      "[Parallel(n_jobs=25)]: Done  10 out of  15 | elapsed:   38.6s remaining:   19.3s\n",
      "[Parallel(n_jobs=25)]: Done  15 out of  15 | elapsed:   48.5s finished\n",
      "[Parallel(n_jobs=25)]: Using backend LokyBackend with 25 concurrent workers.\n",
      "[Parallel(n_jobs=25)]: Done   2 out of  15 | elapsed:   16.2s remaining:  1.8min\n",
      "[Parallel(n_jobs=25)]: Done   6 out of  15 | elapsed:   32.7s remaining:   49.1s\n",
      "[Parallel(n_jobs=25)]: Done  10 out of  15 | elapsed:   41.4s remaining:   20.7s\n",
      "[Parallel(n_jobs=25)]: Done  15 out of  15 | elapsed:   49.2s finished\n"
     ]
    },
    {
     "name": "stdout",
     "output_type": "stream",
     "text": [
      "(6309, 32) (6563, 32) (12872, 32) Index(['window', 'ltime', 'likelihood_max_array', 'power', 'activity',\n",
      "       'rr_array', 'time', 'timestamp', 'localtime', 'ecg_rr_array', 'day',\n",
      "       'version', 'user', 'quality_features', 'activity_features',\n",
      "       'likelihood', 'likelihood_ind', 'length', 'rr', 'rr_col', 'length1',\n",
      "       'indicator', 'rr_col1', 'rr_features', 'rr_weighted_features',\n",
      "       'quality_mag', 'ecg_rr_array_final', 'ecg_features',\n",
      "       'stress_likelihood_ecg', 'stress_likelihood_ppg',\n",
      "       'stress_likelihood_ppg_qual', 'hand'],\n",
      "      dtype='object')\n",
      "saved ------------------------------\n"
     ]
    },
    {
     "name": "stderr",
     "output_type": "stream",
     "text": [
      "[Parallel(n_jobs=25)]: Using backend LokyBackend with 25 concurrent workers.\n",
      "[Parallel(n_jobs=25)]: Done   3 out of   6 | elapsed:   13.7s remaining:   13.7s\n",
      "[Parallel(n_jobs=25)]: Done   6 out of   6 | elapsed:   27.9s finished\n",
      "[Parallel(n_jobs=25)]: Using backend LokyBackend with 25 concurrent workers.\n",
      "[Parallel(n_jobs=25)]: Done   3 out of   6 | elapsed:   13.2s remaining:   13.2s\n",
      "[Parallel(n_jobs=25)]: Done   6 out of   6 | elapsed:   26.2s finished\n"
     ]
    },
    {
     "name": "stdout",
     "output_type": "stream",
     "text": [
      "(2945, 32) (2801, 32) (5746, 32) Index(['window', 'ltime', 'likelihood_max_array', 'power', 'activity',\n",
      "       'rr_array', 'time', 'timestamp', 'localtime', 'ecg_rr_array', 'day',\n",
      "       'version', 'user', 'quality_features', 'activity_features',\n",
      "       'likelihood', 'likelihood_ind', 'length', 'rr', 'rr_col', 'length1',\n",
      "       'indicator', 'rr_col1', 'rr_features', 'rr_weighted_features',\n",
      "       'quality_mag', 'ecg_rr_array_final', 'ecg_features',\n",
      "       'stress_likelihood_ecg', 'stress_likelihood_ppg',\n",
      "       'stress_likelihood_ppg_qual', 'hand'],\n",
      "      dtype='object')\n",
      "saved ------------------------------\n"
     ]
    },
    {
     "name": "stderr",
     "output_type": "stream",
     "text": [
      "[Parallel(n_jobs=25)]: Using backend LokyBackend with 25 concurrent workers.\n",
      "[Parallel(n_jobs=25)]: Done   2 out of  15 | elapsed:    5.6s remaining:   36.5s\n",
      "[Parallel(n_jobs=25)]: Done   6 out of  15 | elapsed:   12.5s remaining:   18.8s\n",
      "[Parallel(n_jobs=25)]: Done  10 out of  15 | elapsed:   18.9s remaining:    9.4s\n",
      "[Parallel(n_jobs=25)]: Done  15 out of  15 | elapsed:   25.3s finished\n",
      "[Parallel(n_jobs=25)]: Using backend LokyBackend with 25 concurrent workers.\n",
      "[Parallel(n_jobs=25)]: Done   4 out of  13 | elapsed:   11.5s remaining:   25.9s\n",
      "[Parallel(n_jobs=25)]: Done   8 out of  13 | elapsed:   13.6s remaining:    8.5s\n",
      "[Parallel(n_jobs=25)]: Done  13 out of  13 | elapsed:   24.3s finished\n"
     ]
    },
    {
     "name": "stdout",
     "output_type": "stream",
     "text": [
      "(9433, 32) (7713, 32) (17146, 32) Index(['window', 'ltime', 'likelihood_max_array', 'power', 'activity',\n",
      "       'rr_array', 'time', 'timestamp', 'localtime', 'ecg_rr_array', 'day',\n",
      "       'version', 'user', 'quality_features', 'activity_features',\n",
      "       'likelihood', 'likelihood_ind', 'length', 'rr', 'rr_col', 'length1',\n",
      "       'indicator', 'rr_col1', 'rr_features', 'rr_weighted_features',\n",
      "       'quality_mag', 'ecg_rr_array_final', 'ecg_features',\n",
      "       'stress_likelihood_ecg', 'stress_likelihood_ppg',\n",
      "       'stress_likelihood_ppg_qual', 'hand'],\n",
      "      dtype='object')\n",
      "saved ------------------------------\n"
     ]
    },
    {
     "name": "stderr",
     "output_type": "stream",
     "text": [
      "[Parallel(n_jobs=25)]: Using backend LokyBackend with 25 concurrent workers.\n",
      "[Parallel(n_jobs=25)]: Done   3 out of  12 | elapsed:   12.0s remaining:   36.0s\n",
      "[Parallel(n_jobs=25)]: Done   7 out of  12 | elapsed:   19.9s remaining:   14.2s\n",
      "[Parallel(n_jobs=25)]: Done  12 out of  12 | elapsed:   32.6s finished\n",
      "[Parallel(n_jobs=25)]: Using backend LokyBackend with 25 concurrent workers.\n",
      "[Parallel(n_jobs=25)]: Done   3 out of  12 | elapsed:   12.5s remaining:   37.4s\n",
      "[Parallel(n_jobs=25)]: Done   7 out of  12 | elapsed:   20.8s remaining:   14.9s\n",
      "[Parallel(n_jobs=25)]: Done  12 out of  12 | elapsed:   31.4s finished\n"
     ]
    },
    {
     "name": "stdout",
     "output_type": "stream",
     "text": [
      "(2369, 32) (2922, 32) (5291, 32) Index(['window', 'ltime', 'likelihood_max_array', 'power', 'activity',\n",
      "       'rr_array', 'time', 'timestamp', 'localtime', 'ecg_rr_array', 'day',\n",
      "       'version', 'user', 'quality_features', 'activity_features',\n",
      "       'likelihood', 'likelihood_ind', 'length', 'rr', 'rr_col', 'length1',\n",
      "       'indicator', 'rr_col1', 'rr_features', 'rr_weighted_features',\n",
      "       'quality_mag', 'ecg_rr_array_final', 'ecg_features',\n",
      "       'stress_likelihood_ecg', 'stress_likelihood_ppg',\n",
      "       'stress_likelihood_ppg_qual', 'hand'],\n",
      "      dtype='object')\n",
      "saved ------------------------------\n"
     ]
    },
    {
     "name": "stderr",
     "output_type": "stream",
     "text": [
      "[Parallel(n_jobs=25)]: Using backend LokyBackend with 25 concurrent workers.\n",
      "[Parallel(n_jobs=25)]: Done   5 out of  14 | elapsed:   21.8s remaining:   39.2s\n",
      "[Parallel(n_jobs=25)]: Done   9 out of  14 | elapsed:   27.1s remaining:   15.0s\n",
      "[Parallel(n_jobs=25)]: Done  14 out of  14 | elapsed:   43.1s finished\n",
      "[Parallel(n_jobs=25)]: Using backend LokyBackend with 25 concurrent workers.\n",
      "[Parallel(n_jobs=25)]: Done   5 out of  14 | elapsed:   23.7s remaining:   42.7s\n",
      "[Parallel(n_jobs=25)]: Done   9 out of  14 | elapsed:   26.0s remaining:   14.5s\n",
      "[Parallel(n_jobs=25)]: Done  14 out of  14 | elapsed:   40.8s finished\n"
     ]
    },
    {
     "name": "stdout",
     "output_type": "stream",
     "text": [
      "(6414, 32) (5451, 32) (11865, 32) Index(['window', 'ltime', 'likelihood_max_array', 'power', 'activity',\n",
      "       'rr_array', 'time', 'timestamp', 'localtime', 'ecg_rr_array', 'day',\n",
      "       'version', 'user', 'quality_features', 'activity_features',\n",
      "       'likelihood', 'likelihood_ind', 'length', 'rr', 'rr_col', 'length1',\n",
      "       'indicator', 'rr_col1', 'rr_features', 'rr_weighted_features',\n",
      "       'quality_mag', 'ecg_rr_array_final', 'ecg_features',\n",
      "       'stress_likelihood_ecg', 'stress_likelihood_ppg',\n",
      "       'stress_likelihood_ppg_qual', 'hand'],\n",
      "      dtype='object')\n",
      "saved ------------------------------\n"
     ]
    },
    {
     "name": "stderr",
     "output_type": "stream",
     "text": [
      "[Parallel(n_jobs=25)]: Using backend LokyBackend with 25 concurrent workers.\n",
      "[Parallel(n_jobs=25)]: Done   2 out of   9 | elapsed:   13.9s remaining:   48.6s\n",
      "[Parallel(n_jobs=25)]: Done   5 out of   9 | elapsed:   19.7s remaining:   15.8s\n",
      "[Parallel(n_jobs=25)]: Done   9 out of   9 | elapsed:   31.4s finished\n",
      "[Parallel(n_jobs=25)]: Using backend LokyBackend with 25 concurrent workers.\n",
      "[Parallel(n_jobs=25)]: Done   2 out of   9 | elapsed:   16.4s remaining:   57.3s\n",
      "[Parallel(n_jobs=25)]: Done   5 out of   9 | elapsed:   19.1s remaining:   15.3s\n",
      "[Parallel(n_jobs=25)]: Done   9 out of   9 | elapsed:   27.9s finished\n"
     ]
    },
    {
     "name": "stdout",
     "output_type": "stream",
     "text": [
      "(3174, 32) (2847, 32) (6021, 32) Index(['window', 'ltime', 'likelihood_max_array', 'power', 'activity',\n",
      "       'rr_array', 'time', 'timestamp', 'localtime', 'ecg_rr_array', 'day',\n",
      "       'version', 'user', 'quality_features', 'activity_features',\n",
      "       'likelihood', 'likelihood_ind', 'length', 'rr', 'rr_col', 'length1',\n",
      "       'indicator', 'rr_col1', 'rr_features', 'rr_weighted_features',\n",
      "       'quality_mag', 'ecg_rr_array_final', 'ecg_features',\n",
      "       'stress_likelihood_ecg', 'stress_likelihood_ppg',\n",
      "       'stress_likelihood_ppg_qual', 'hand'],\n",
      "      dtype='object')\n",
      "saved ------------------------------\n"
     ]
    },
    {
     "name": "stderr",
     "output_type": "stream",
     "text": [
      "[Parallel(n_jobs=25)]: Using backend LokyBackend with 25 concurrent workers.\n",
      "[Parallel(n_jobs=25)]: Done   4 out of  11 | elapsed:   23.0s remaining:   40.3s\n",
      "[Parallel(n_jobs=25)]: Done   7 out of  11 | elapsed:   25.5s remaining:   14.6s\n",
      "[Parallel(n_jobs=25)]: Done  11 out of  11 | elapsed:   38.2s finished\n",
      "[Parallel(n_jobs=25)]: Using backend LokyBackend with 25 concurrent workers.\n",
      "[Parallel(n_jobs=25)]: Done   3 out of  10 | elapsed:   24.0s remaining:   56.0s\n",
      "[Parallel(n_jobs=25)]: Done   6 out of  10 | elapsed:   28.4s remaining:   18.9s\n",
      "[Parallel(n_jobs=25)]: Done  10 out of  10 | elapsed:   36.4s finished\n"
     ]
    },
    {
     "name": "stdout",
     "output_type": "stream",
     "text": [
      "(4742, 32) (4110, 32) (8852, 32) Index(['window', 'ltime', 'likelihood_max_array', 'power', 'activity',\n",
      "       'rr_array', 'time', 'timestamp', 'localtime', 'ecg_rr_array', 'day',\n",
      "       'version', 'user', 'quality_features', 'activity_features',\n",
      "       'likelihood', 'likelihood_ind', 'length', 'rr', 'rr_col', 'length1',\n",
      "       'indicator', 'rr_col1', 'rr_features', 'rr_weighted_features',\n",
      "       'quality_mag', 'ecg_rr_array_final', 'ecg_features',\n",
      "       'stress_likelihood_ecg', 'stress_likelihood_ppg',\n",
      "       'stress_likelihood_ppg_qual', 'hand'],\n",
      "      dtype='object')\n",
      "saved ------------------------------\n"
     ]
    },
    {
     "name": "stderr",
     "output_type": "stream",
     "text": [
      "[Parallel(n_jobs=25)]: Using backend LokyBackend with 25 concurrent workers.\n",
      "[Parallel(n_jobs=25)]: Done   5 out of  14 | elapsed:   14.5s remaining:   26.0s\n",
      "[Parallel(n_jobs=25)]: Done   9 out of  14 | elapsed:   35.6s remaining:   19.8s\n",
      "[Parallel(n_jobs=25)]: Done  14 out of  14 | elapsed:   46.0s finished\n",
      "[Parallel(n_jobs=25)]: Using backend LokyBackend with 25 concurrent workers.\n",
      "[Parallel(n_jobs=25)]: Done   5 out of  14 | elapsed:   14.7s remaining:   26.4s\n",
      "[Parallel(n_jobs=25)]: Done   9 out of  14 | elapsed:   32.6s remaining:   18.1s\n",
      "[Parallel(n_jobs=25)]: Done  14 out of  14 | elapsed:   45.2s finished\n"
     ]
    },
    {
     "name": "stdout",
     "output_type": "stream",
     "text": [
      "(9283, 32) (8365, 32) (17648, 32) Index(['window', 'ltime', 'likelihood_max_array', 'power', 'activity',\n",
      "       'rr_array', 'time', 'timestamp', 'localtime', 'ecg_rr_array', 'day',\n",
      "       'version', 'user', 'quality_features', 'activity_features',\n",
      "       'likelihood', 'likelihood_ind', 'length', 'rr', 'rr_col', 'length1',\n",
      "       'indicator', 'rr_col1', 'rr_features', 'rr_weighted_features',\n",
      "       'quality_mag', 'ecg_rr_array_final', 'ecg_features',\n",
      "       'stress_likelihood_ecg', 'stress_likelihood_ppg',\n",
      "       'stress_likelihood_ppg_qual', 'hand'],\n",
      "      dtype='object')\n",
      "saved ------------------------------\n"
     ]
    },
    {
     "name": "stderr",
     "output_type": "stream",
     "text": [
      "[Parallel(n_jobs=25)]: Using backend LokyBackend with 25 concurrent workers.\n",
      "[Parallel(n_jobs=25)]: Done   2 out of   5 | elapsed:    3.6s remaining:    5.5s\n",
      "[Parallel(n_jobs=25)]: Done   5 out of   5 | elapsed:   41.8s finished\n",
      "[Parallel(n_jobs=25)]: Using backend LokyBackend with 25 concurrent workers.\n",
      "[Parallel(n_jobs=25)]: Done   2 out of  15 | elapsed:    4.8s remaining:   31.5s\n",
      "[Parallel(n_jobs=25)]: Done   6 out of  15 | elapsed:   40.3s remaining:  1.0min\n",
      "[Parallel(n_jobs=25)]: Done  10 out of  15 | elapsed:   47.1s remaining:   23.6s\n",
      "[Parallel(n_jobs=25)]: Done  15 out of  15 | elapsed:  1.1min finished\n"
     ]
    },
    {
     "name": "stdout",
     "output_type": "stream",
     "text": [
      "(1208, 32) (5004, 32) (6212, 32) Index(['window', 'ltime', 'likelihood_max_array', 'power', 'activity',\n",
      "       'rr_array', 'time', 'timestamp', 'localtime', 'ecg_rr_array', 'day',\n",
      "       'version', 'user', 'quality_features', 'activity_features',\n",
      "       'likelihood', 'likelihood_ind', 'length', 'rr', 'rr_col', 'length1',\n",
      "       'indicator', 'rr_col1', 'rr_features', 'rr_weighted_features',\n",
      "       'quality_mag', 'ecg_rr_array_final', 'ecg_features',\n",
      "       'stress_likelihood_ecg', 'stress_likelihood_ppg',\n",
      "       'stress_likelihood_ppg_qual', 'hand'],\n",
      "      dtype='object')\n",
      "saved ------------------------------\n"
     ]
    },
    {
     "name": "stderr",
     "output_type": "stream",
     "text": [
      "[Parallel(n_jobs=25)]: Using backend LokyBackend with 25 concurrent workers.\n",
      "[Parallel(n_jobs=25)]: Done   2 out of   9 | elapsed:    8.3s remaining:   29.2s\n",
      "[Parallel(n_jobs=25)]: Done   5 out of   9 | elapsed:   22.1s remaining:   17.6s\n",
      "[Parallel(n_jobs=25)]: Done   9 out of   9 | elapsed:   34.1s finished\n",
      "[Parallel(n_jobs=25)]: Using backend LokyBackend with 25 concurrent workers.\n",
      "[Parallel(n_jobs=25)]: Done   2 out of   9 | elapsed:    7.9s remaining:   27.6s\n",
      "[Parallel(n_jobs=25)]: Done   5 out of   9 | elapsed:   20.9s remaining:   16.7s\n",
      "[Parallel(n_jobs=25)]: Done   9 out of   9 | elapsed:   33.2s finished\n"
     ]
    },
    {
     "name": "stdout",
     "output_type": "stream",
     "text": [
      "(3966, 32) (4345, 32) (8311, 32) Index(['window', 'ltime', 'likelihood_max_array', 'power', 'activity',\n",
      "       'rr_array', 'time', 'timestamp', 'localtime', 'ecg_rr_array', 'day',\n",
      "       'version', 'user', 'quality_features', 'activity_features',\n",
      "       'likelihood', 'likelihood_ind', 'length', 'rr', 'rr_col', 'length1',\n",
      "       'indicator', 'rr_col1', 'rr_features', 'rr_weighted_features',\n",
      "       'quality_mag', 'ecg_rr_array_final', 'ecg_features',\n",
      "       'stress_likelihood_ecg', 'stress_likelihood_ppg',\n",
      "       'stress_likelihood_ppg_qual', 'hand'],\n",
      "      dtype='object')\n",
      "saved ------------------------------\n"
     ]
    },
    {
     "name": "stderr",
     "output_type": "stream",
     "text": [
      "[Parallel(n_jobs=25)]: Using backend LokyBackend with 25 concurrent workers.\n",
      "[Parallel(n_jobs=25)]: Done   2 out of   2 | elapsed:    6.1s remaining:    0.0s\n",
      "[Parallel(n_jobs=25)]: Done   2 out of   2 | elapsed:    6.1s finished\n",
      "[Parallel(n_jobs=25)]: Using backend LokyBackend with 25 concurrent workers.\n",
      "[Parallel(n_jobs=25)]: Done   2 out of   2 | elapsed:    6.6s remaining:    0.0s\n",
      "[Parallel(n_jobs=25)]: Done   2 out of   2 | elapsed:    6.6s finished\n"
     ]
    },
    {
     "name": "stdout",
     "output_type": "stream",
     "text": [
      "(814, 32) (642, 32) (1456, 32) Index(['window', 'ltime', 'likelihood_max_array', 'power', 'activity',\n",
      "       'rr_array', 'time', 'timestamp', 'localtime', 'ecg_rr_array', 'day',\n",
      "       'version', 'user', 'quality_features', 'activity_features',\n",
      "       'likelihood', 'likelihood_ind', 'length', 'rr', 'rr_col', 'length1',\n",
      "       'indicator', 'rr_col1', 'rr_features', 'rr_weighted_features',\n",
      "       'quality_mag', 'ecg_rr_array_final', 'ecg_features',\n",
      "       'stress_likelihood_ecg', 'stress_likelihood_ppg',\n",
      "       'stress_likelihood_ppg_qual', 'hand'],\n",
      "      dtype='object')\n",
      "saved ------------------------------\n"
     ]
    },
    {
     "name": "stderr",
     "output_type": "stream",
     "text": [
      "[Parallel(n_jobs=25)]: Using backend LokyBackend with 25 concurrent workers.\n",
      "[Parallel(n_jobs=25)]: Done   2 out of   5 | elapsed:   15.0s remaining:   22.4s\n",
      "[Parallel(n_jobs=25)]: Done   5 out of   5 | elapsed:   36.8s finished\n",
      "[Parallel(n_jobs=25)]: Using backend LokyBackend with 25 concurrent workers.\n",
      "[Parallel(n_jobs=25)]: Done   2 out of   5 | elapsed:   18.5s remaining:   27.8s\n",
      "[Parallel(n_jobs=25)]: Done   5 out of   5 | elapsed:   40.5s finished\n"
     ]
    },
    {
     "name": "stdout",
     "output_type": "stream",
     "text": [
      "(3206, 32) (2592, 32) (5798, 32) Index(['window', 'ltime', 'likelihood_max_array', 'power', 'activity',\n",
      "       'rr_array', 'time', 'timestamp', 'localtime', 'ecg_rr_array', 'day',\n",
      "       'version', 'user', 'quality_features', 'activity_features',\n",
      "       'likelihood', 'likelihood_ind', 'length', 'rr', 'rr_col', 'length1',\n",
      "       'indicator', 'rr_col1', 'rr_features', 'rr_weighted_features',\n",
      "       'quality_mag', 'ecg_rr_array_final', 'ecg_features',\n",
      "       'stress_likelihood_ecg', 'stress_likelihood_ppg',\n",
      "       'stress_likelihood_ppg_qual', 'hand'],\n",
      "      dtype='object')\n",
      "saved ------------------------------\n"
     ]
    },
    {
     "name": "stderr",
     "output_type": "stream",
     "text": [
      "[Parallel(n_jobs=25)]: Using backend LokyBackend with 25 concurrent workers.\n",
      "[Parallel(n_jobs=25)]: Done   2 out of   2 | elapsed:   24.7s remaining:    0.0s\n",
      "[Parallel(n_jobs=25)]: Done   2 out of   2 | elapsed:   24.7s finished\n",
      "[Parallel(n_jobs=25)]: Using backend LokyBackend with 25 concurrent workers.\n",
      "[Parallel(n_jobs=25)]: Done   2 out of   2 | elapsed:   25.3s remaining:    0.0s\n",
      "[Parallel(n_jobs=25)]: Done   2 out of   2 | elapsed:   25.3s finished\n"
     ]
    },
    {
     "name": "stdout",
     "output_type": "stream",
     "text": [
      "(439, 32) (439, 32) (878, 32) Index(['window', 'ltime', 'likelihood_max_array', 'power', 'activity',\n",
      "       'rr_array', 'time', 'timestamp', 'localtime', 'ecg_rr_array', 'day',\n",
      "       'version', 'user', 'quality_features', 'activity_features',\n",
      "       'likelihood', 'likelihood_ind', 'length', 'rr', 'rr_col', 'length1',\n",
      "       'indicator', 'rr_col1', 'rr_features', 'rr_weighted_features',\n",
      "       'quality_mag', 'ecg_rr_array_final', 'ecg_features',\n",
      "       'stress_likelihood_ecg', 'stress_likelihood_ppg',\n",
      "       'stress_likelihood_ppg_qual', 'hand'],\n",
      "      dtype='object')\n",
      "saved ------------------------------\n"
     ]
    },
    {
     "name": "stderr",
     "output_type": "stream",
     "text": [
      "[Parallel(n_jobs=25)]: Using backend LokyBackend with 25 concurrent workers.\n",
      "[Parallel(n_jobs=25)]: Done   4 out of   4 | elapsed:   24.2s finished\n",
      "[Parallel(n_jobs=25)]: Using backend LokyBackend with 25 concurrent workers.\n",
      "[Parallel(n_jobs=25)]: Done   4 out of   4 | elapsed:   24.1s finished\n"
     ]
    },
    {
     "name": "stdout",
     "output_type": "stream",
     "text": [
      "(1436, 32) (1545, 32) (2981, 32) Index(['window', 'ltime', 'likelihood_max_array', 'power', 'activity',\n",
      "       'rr_array', 'time', 'timestamp', 'localtime', 'ecg_rr_array', 'day',\n",
      "       'version', 'user', 'quality_features', 'activity_features',\n",
      "       'likelihood', 'likelihood_ind', 'length', 'rr', 'rr_col', 'length1',\n",
      "       'indicator', 'rr_col1', 'rr_features', 'rr_weighted_features',\n",
      "       'quality_mag', 'ecg_rr_array_final', 'ecg_features',\n",
      "       'stress_likelihood_ecg', 'stress_likelihood_ppg',\n",
      "       'stress_likelihood_ppg_qual', 'hand'],\n",
      "      dtype='object')\n",
      "saved ------------------------------\n"
     ]
    },
    {
     "name": "stderr",
     "output_type": "stream",
     "text": [
      "[Parallel(n_jobs=25)]: Using backend LokyBackend with 25 concurrent workers.\n",
      "[Parallel(n_jobs=25)]: Done   3 out of   3 | elapsed:   10.8s remaining:    0.0s\n",
      "[Parallel(n_jobs=25)]: Done   3 out of   3 | elapsed:   10.8s finished\n",
      "[Parallel(n_jobs=25)]: Using backend LokyBackend with 25 concurrent workers.\n",
      "[Parallel(n_jobs=25)]: Done   3 out of   3 | elapsed:   10.3s remaining:    0.0s\n",
      "[Parallel(n_jobs=25)]: Done   3 out of   3 | elapsed:   10.3s finished\n"
     ]
    },
    {
     "name": "stdout",
     "output_type": "stream",
     "text": [
      "(1540, 32) (1574, 32) (3114, 32) Index(['window', 'ltime', 'likelihood_max_array', 'power', 'activity',\n",
      "       'rr_array', 'time', 'timestamp', 'localtime', 'ecg_rr_array', 'day',\n",
      "       'version', 'user', 'quality_features', 'activity_features',\n",
      "       'likelihood', 'likelihood_ind', 'length', 'rr', 'rr_col', 'length1',\n",
      "       'indicator', 'rr_col1', 'rr_features', 'rr_weighted_features',\n",
      "       'quality_mag', 'ecg_rr_array_final', 'ecg_features',\n",
      "       'stress_likelihood_ecg', 'stress_likelihood_ppg',\n",
      "       'stress_likelihood_ppg_qual', 'hand'],\n",
      "      dtype='object')\n",
      "saved ------------------------------\n"
     ]
    },
    {
     "name": "stderr",
     "output_type": "stream",
     "text": [
      "[Parallel(n_jobs=25)]: Using backend LokyBackend with 25 concurrent workers.\n",
      "[Parallel(n_jobs=25)]: Done   4 out of   8 | elapsed:   27.4s remaining:   27.4s\n",
      "[Parallel(n_jobs=25)]: Done   8 out of   8 | elapsed:   36.3s finished\n",
      "[Parallel(n_jobs=25)]: Using backend LokyBackend with 25 concurrent workers.\n",
      "[Parallel(n_jobs=25)]: Done   4 out of   8 | elapsed:   24.5s remaining:   24.5s\n",
      "[Parallel(n_jobs=25)]: Done   8 out of   8 | elapsed:   39.8s finished\n"
     ]
    },
    {
     "name": "stdout",
     "output_type": "stream",
     "text": [
      "(3043, 32) (2921, 32) (5964, 32) Index(['window', 'ltime', 'likelihood_max_array', 'power', 'activity',\n",
      "       'rr_array', 'time', 'timestamp', 'localtime', 'ecg_rr_array', 'day',\n",
      "       'version', 'user', 'quality_features', 'activity_features',\n",
      "       'likelihood', 'likelihood_ind', 'length', 'rr', 'rr_col', 'length1',\n",
      "       'indicator', 'rr_col1', 'rr_features', 'rr_weighted_features',\n",
      "       'quality_mag', 'ecg_rr_array_final', 'ecg_features',\n",
      "       'stress_likelihood_ecg', 'stress_likelihood_ppg',\n",
      "       'stress_likelihood_ppg_qual', 'hand'],\n",
      "      dtype='object')\n",
      "saved ------------------------------\n"
     ]
    },
    {
     "name": "stderr",
     "output_type": "stream",
     "text": [
      "[Parallel(n_jobs=25)]: Using backend LokyBackend with 25 concurrent workers.\n",
      "[Parallel(n_jobs=25)]: Done   3 out of  12 | elapsed:    4.4s remaining:   13.3s\n",
      "[Parallel(n_jobs=25)]: Done   7 out of  12 | elapsed:    7.2s remaining:    5.2s\n",
      "[Parallel(n_jobs=25)]: Done  12 out of  12 | elapsed:   27.7s finished\n",
      "[Parallel(n_jobs=25)]: Using backend LokyBackend with 25 concurrent workers.\n",
      "[Parallel(n_jobs=25)]: Done   3 out of  10 | elapsed:    1.0s remaining:    2.4s\n",
      "[Parallel(n_jobs=25)]: Done   6 out of  10 | elapsed:    4.1s remaining:    2.7s\n",
      "[Parallel(n_jobs=25)]: Done  10 out of  10 | elapsed:   28.0s finished\n"
     ]
    },
    {
     "name": "stdout",
     "output_type": "stream",
     "text": [
      "(4024, 32) (1415, 32) (5439, 32) Index(['window', 'ltime', 'likelihood_max_array', 'power', 'activity',\n",
      "       'rr_array', 'time', 'timestamp', 'localtime', 'ecg_rr_array', 'day',\n",
      "       'version', 'user', 'quality_features', 'activity_features',\n",
      "       'likelihood', 'likelihood_ind', 'length', 'rr', 'rr_col', 'length1',\n",
      "       'indicator', 'rr_col1', 'rr_features', 'rr_weighted_features',\n",
      "       'quality_mag', 'ecg_rr_array_final', 'ecg_features',\n",
      "       'stress_likelihood_ecg', 'stress_likelihood_ppg',\n",
      "       'stress_likelihood_ppg_qual', 'hand'],\n",
      "      dtype='object')\n",
      "saved ------------------------------\n"
     ]
    },
    {
     "name": "stderr",
     "output_type": "stream",
     "text": [
      "[Parallel(n_jobs=25)]: Using backend LokyBackend with 25 concurrent workers.\n",
      "[Parallel(n_jobs=25)]: Done   2 out of   7 | elapsed:    4.3s remaining:   10.8s\n",
      "[Parallel(n_jobs=25)]: Done   4 out of   7 | elapsed:    7.0s remaining:    5.3s\n",
      "[Parallel(n_jobs=25)]: Done   7 out of   7 | elapsed:   14.7s finished\n",
      "[Parallel(n_jobs=25)]: Using backend LokyBackend with 25 concurrent workers.\n",
      "[Parallel(n_jobs=25)]: Done   2 out of   9 | elapsed:    5.7s remaining:   19.9s\n",
      "[Parallel(n_jobs=25)]: Done   5 out of   9 | elapsed:   10.7s remaining:    8.5s\n",
      "[Parallel(n_jobs=25)]: Done   9 out of   9 | elapsed:   28.3s finished\n"
     ]
    },
    {
     "name": "stdout",
     "output_type": "stream",
     "text": [
      "(2365, 32) (4674, 32) (7039, 32) Index(['window', 'ltime', 'likelihood_max_array', 'power', 'activity',\n",
      "       'rr_array', 'time', 'timestamp', 'localtime', 'ecg_rr_array', 'day',\n",
      "       'version', 'user', 'quality_features', 'activity_features',\n",
      "       'likelihood', 'likelihood_ind', 'length', 'rr', 'rr_col', 'length1',\n",
      "       'indicator', 'rr_col1', 'rr_features', 'rr_weighted_features',\n",
      "       'quality_mag', 'ecg_rr_array_final', 'ecg_features',\n",
      "       'stress_likelihood_ecg', 'stress_likelihood_ppg',\n",
      "       'stress_likelihood_ppg_qual', 'hand'],\n",
      "      dtype='object')\n",
      "saved ------------------------------\n"
     ]
    },
    {
     "name": "stderr",
     "output_type": "stream",
     "text": [
      "[Parallel(n_jobs=25)]: Using backend LokyBackend with 25 concurrent workers.\n",
      "[Parallel(n_jobs=25)]: Done   4 out of  11 | elapsed:    4.9s remaining:    8.5s\n",
      "[Parallel(n_jobs=25)]: Done   7 out of  11 | elapsed:    5.9s remaining:    3.4s\n",
      "[Parallel(n_jobs=25)]: Done  11 out of  11 | elapsed:   15.1s finished\n",
      "[Parallel(n_jobs=25)]: Using backend LokyBackend with 25 concurrent workers.\n",
      "[Parallel(n_jobs=25)]: Done   2 out of   9 | elapsed:    2.4s remaining:    8.4s\n",
      "[Parallel(n_jobs=25)]: Done   5 out of   9 | elapsed:    7.0s remaining:    5.6s\n",
      "[Parallel(n_jobs=25)]: Done   9 out of   9 | elapsed:   16.7s finished\n"
     ]
    },
    {
     "name": "stdout",
     "output_type": "stream",
     "text": [
      "(3711, 32) (2635, 32) (6346, 32) Index(['window', 'ltime', 'likelihood_max_array', 'power', 'activity',\n",
      "       'rr_array', 'time', 'timestamp', 'localtime', 'ecg_rr_array', 'day',\n",
      "       'version', 'user', 'quality_features', 'activity_features',\n",
      "       'likelihood', 'likelihood_ind', 'length', 'rr', 'rr_col', 'length1',\n",
      "       'indicator', 'rr_col1', 'rr_features', 'rr_weighted_features',\n",
      "       'quality_mag', 'ecg_rr_array_final', 'ecg_features',\n",
      "       'stress_likelihood_ecg', 'stress_likelihood_ppg',\n",
      "       'stress_likelihood_ppg_qual', 'hand'],\n",
      "      dtype='object')\n",
      "saved ------------------------------\n"
     ]
    },
    {
     "name": "stderr",
     "output_type": "stream",
     "text": [
      "[Parallel(n_jobs=25)]: Using backend LokyBackend with 25 concurrent workers.\n",
      "[Parallel(n_jobs=25)]: Done   2 out of   2 | elapsed:   16.8s remaining:    0.0s\n",
      "[Parallel(n_jobs=25)]: Done   2 out of   2 | elapsed:   16.8s finished\n",
      "[Parallel(n_jobs=25)]: Using backend LokyBackend with 25 concurrent workers.\n",
      "[Parallel(n_jobs=25)]: Done   2 out of   2 | elapsed:   13.7s remaining:    0.0s\n",
      "[Parallel(n_jobs=25)]: Done   2 out of   2 | elapsed:   13.7s finished\n"
     ]
    },
    {
     "name": "stdout",
     "output_type": "stream",
     "text": [
      "(483, 32) (402, 32) (885, 32) Index(['window', 'ltime', 'likelihood_max_array', 'power', 'activity',\n",
      "       'rr_array', 'time', 'timestamp', 'localtime', 'ecg_rr_array', 'day',\n",
      "       'version', 'user', 'quality_features', 'activity_features',\n",
      "       'likelihood', 'likelihood_ind', 'length', 'rr', 'rr_col', 'length1',\n",
      "       'indicator', 'rr_col1', 'rr_features', 'rr_weighted_features',\n",
      "       'quality_mag', 'ecg_rr_array_final', 'ecg_features',\n",
      "       'stress_likelihood_ecg', 'stress_likelihood_ppg',\n",
      "       'stress_likelihood_ppg_qual', 'hand'],\n",
      "      dtype='object')\n",
      "saved ------------------------------\n"
     ]
    },
    {
     "name": "stderr",
     "output_type": "stream",
     "text": [
      "[Parallel(n_jobs=25)]: Using backend LokyBackend with 25 concurrent workers.\n",
      "[Parallel(n_jobs=25)]: Done   5 out of  14 | elapsed:   17.3s remaining:   31.1s\n",
      "[Parallel(n_jobs=25)]: Done   9 out of  14 | elapsed:   20.8s remaining:   11.6s\n",
      "[Parallel(n_jobs=25)]: Done  14 out of  14 | elapsed:   33.2s finished\n",
      "[Parallel(n_jobs=25)]: Using backend LokyBackend with 25 concurrent workers.\n",
      "[Parallel(n_jobs=25)]: Done   5 out of  14 | elapsed:   17.6s remaining:   31.7s\n",
      "[Parallel(n_jobs=25)]: Done   9 out of  14 | elapsed:   24.8s remaining:   13.8s\n",
      "[Parallel(n_jobs=25)]: Done  14 out of  14 | elapsed:   35.0s finished\n"
     ]
    },
    {
     "name": "stdout",
     "output_type": "stream",
     "text": [
      "(6413, 32) (5832, 32) (12245, 32) Index(['window', 'ltime', 'likelihood_max_array', 'power', 'activity',\n",
      "       'rr_array', 'time', 'timestamp', 'localtime', 'ecg_rr_array', 'day',\n",
      "       'version', 'user', 'quality_features', 'activity_features',\n",
      "       'likelihood', 'likelihood_ind', 'length', 'rr', 'rr_col', 'length1',\n",
      "       'indicator', 'rr_col1', 'rr_features', 'rr_weighted_features',\n",
      "       'quality_mag', 'ecg_rr_array_final', 'ecg_features',\n",
      "       'stress_likelihood_ecg', 'stress_likelihood_ppg',\n",
      "       'stress_likelihood_ppg_qual', 'hand'],\n",
      "      dtype='object')\n",
      "saved ------------------------------\n"
     ]
    },
    {
     "name": "stderr",
     "output_type": "stream",
     "text": [
      "[Parallel(n_jobs=25)]: Using backend LokyBackend with 25 concurrent workers.\n",
      "[Parallel(n_jobs=25)]: Done   3 out of   6 | elapsed:   12.3s remaining:   12.3s\n",
      "[Parallel(n_jobs=25)]: Done   6 out of   6 | elapsed:   18.9s finished\n",
      "[Parallel(n_jobs=25)]: Using backend LokyBackend with 25 concurrent workers.\n",
      "[Parallel(n_jobs=25)]: Done   2 out of   5 | elapsed:    7.4s remaining:   11.1s\n",
      "[Parallel(n_jobs=25)]: Done   5 out of   5 | elapsed:   16.9s finished\n"
     ]
    },
    {
     "name": "stdout",
     "output_type": "stream",
     "text": [
      "(2064, 32) (622, 32) (2686, 32) Index(['window', 'ltime', 'likelihood_max_array', 'power', 'activity',\n",
      "       'rr_array', 'time', 'timestamp', 'localtime', 'ecg_rr_array', 'day',\n",
      "       'version', 'user', 'quality_features', 'activity_features',\n",
      "       'likelihood', 'likelihood_ind', 'length', 'rr', 'rr_col', 'length1',\n",
      "       'indicator', 'rr_col1', 'rr_features', 'rr_weighted_features',\n",
      "       'quality_mag', 'ecg_rr_array_final', 'ecg_features',\n",
      "       'stress_likelihood_ecg', 'stress_likelihood_ppg',\n",
      "       'stress_likelihood_ppg_qual', 'hand'],\n",
      "      dtype='object')\n",
      "saved ------------------------------\n"
     ]
    },
    {
     "name": "stderr",
     "output_type": "stream",
     "text": [
      "[Parallel(n_jobs=25)]: Using backend LokyBackend with 25 concurrent workers.\n",
      "[Parallel(n_jobs=25)]: Done   2 out of  15 | elapsed:    1.9s remaining:   12.5s\n",
      "[Parallel(n_jobs=25)]: Done   6 out of  15 | elapsed:    4.4s remaining:    6.6s\n",
      "[Parallel(n_jobs=25)]: Done  10 out of  15 | elapsed:    8.8s remaining:    4.4s\n",
      "[Parallel(n_jobs=25)]: Done  15 out of  15 | elapsed:   14.9s finished\n",
      "[Parallel(n_jobs=25)]: Using backend LokyBackend with 25 concurrent workers.\n",
      "[Parallel(n_jobs=25)]: Done   5 out of  14 | elapsed:    5.6s remaining:   10.1s\n",
      "[Parallel(n_jobs=25)]: Done   9 out of  14 | elapsed:    7.9s remaining:    4.4s\n",
      "[Parallel(n_jobs=25)]: Done  14 out of  14 | elapsed:   16.8s finished\n"
     ]
    },
    {
     "name": "stdout",
     "output_type": "stream",
     "text": [
      "(2652, 32) (2725, 32) (5377, 32) Index(['window', 'ltime', 'likelihood_max_array', 'power', 'activity',\n",
      "       'rr_array', 'time', 'timestamp', 'localtime', 'ecg_rr_array', 'day',\n",
      "       'version', 'user', 'quality_features', 'activity_features',\n",
      "       'likelihood', 'likelihood_ind', 'length', 'rr', 'rr_col', 'length1',\n",
      "       'indicator', 'rr_col1', 'rr_features', 'rr_weighted_features',\n",
      "       'quality_mag', 'ecg_rr_array_final', 'ecg_features',\n",
      "       'stress_likelihood_ecg', 'stress_likelihood_ppg',\n",
      "       'stress_likelihood_ppg_qual', 'hand'],\n",
      "      dtype='object')\n",
      "saved ------------------------------\n"
     ]
    },
    {
     "name": "stderr",
     "output_type": "stream",
     "text": [
      "[Parallel(n_jobs=25)]: Using backend LokyBackend with 25 concurrent workers.\n",
      "[Parallel(n_jobs=25)]: Done   2 out of   2 | elapsed:   17.4s remaining:    0.0s\n",
      "[Parallel(n_jobs=25)]: Done   2 out of   2 | elapsed:   17.4s finished\n",
      "[Parallel(n_jobs=25)]: Using backend LokyBackend with 25 concurrent workers.\n",
      "[Parallel(n_jobs=25)]: Done   1 out of   1 | elapsed:    9.2s finished\n"
     ]
    },
    {
     "name": "stdout",
     "output_type": "stream",
     "text": [
      "(522, 32) (112, 32) (634, 32) Index(['window', 'ltime', 'likelihood_max_array', 'power', 'activity',\n",
      "       'rr_array', 'time', 'timestamp', 'localtime', 'ecg_rr_array', 'day',\n",
      "       'version', 'user', 'quality_features', 'activity_features',\n",
      "       'likelihood', 'likelihood_ind', 'length', 'rr', 'rr_col', 'length1',\n",
      "       'indicator', 'rr_col1', 'rr_features', 'rr_weighted_features',\n",
      "       'quality_mag', 'ecg_rr_array_final', 'ecg_features',\n",
      "       'stress_likelihood_ecg', 'stress_likelihood_ppg',\n",
      "       'stress_likelihood_ppg_qual', 'hand'],\n",
      "      dtype='object')\n",
      "saved ------------------------------\n"
     ]
    },
    {
     "name": "stderr",
     "output_type": "stream",
     "text": [
      "[Parallel(n_jobs=25)]: Using backend LokyBackend with 25 concurrent workers.\n",
      "[Parallel(n_jobs=25)]: Done   2 out of   5 | elapsed:    7.0s remaining:   10.5s\n",
      "[Parallel(n_jobs=25)]: Done   5 out of   5 | elapsed:   46.9s finished\n",
      "[Parallel(n_jobs=25)]: Using backend LokyBackend with 25 concurrent workers.\n",
      "[Parallel(n_jobs=25)]: Done   2 out of   5 | elapsed:    6.9s remaining:   10.3s\n",
      "[Parallel(n_jobs=25)]: Done   5 out of   5 | elapsed:   48.6s finished\n"
     ]
    },
    {
     "name": "stdout",
     "output_type": "stream",
     "text": [
      "(2557, 32) (2593, 32) (5150, 32) Index(['window', 'ltime', 'likelihood_max_array', 'power', 'activity',\n",
      "       'rr_array', 'time', 'timestamp', 'localtime', 'ecg_rr_array', 'day',\n",
      "       'version', 'user', 'quality_features', 'activity_features',\n",
      "       'likelihood', 'likelihood_ind', 'length', 'rr', 'rr_col', 'length1',\n",
      "       'indicator', 'rr_col1', 'rr_features', 'rr_weighted_features',\n",
      "       'quality_mag', 'ecg_rr_array_final', 'ecg_features',\n",
      "       'stress_likelihood_ecg', 'stress_likelihood_ppg',\n",
      "       'stress_likelihood_ppg_qual', 'hand'],\n",
      "      dtype='object')\n",
      "saved ------------------------------\n"
     ]
    },
    {
     "name": "stderr",
     "output_type": "stream",
     "text": [
      "[Parallel(n_jobs=25)]: Using backend LokyBackend with 25 concurrent workers.\n",
      "[Parallel(n_jobs=25)]: Done   5 out of  14 | elapsed:   12.9s remaining:   23.2s\n",
      "[Parallel(n_jobs=25)]: Done   9 out of  14 | elapsed:   18.0s remaining:   10.0s\n",
      "[Parallel(n_jobs=25)]: Done  14 out of  14 | elapsed:   25.7s finished\n",
      "[Parallel(n_jobs=25)]: Using backend LokyBackend with 25 concurrent workers.\n",
      "[Parallel(n_jobs=25)]: Done   2 out of  16 | elapsed:    5.3s remaining:   37.1s\n",
      "[Parallel(n_jobs=25)]: Done   7 out of  16 | elapsed:   15.2s remaining:   19.5s\n",
      "[Parallel(n_jobs=25)]: Done  12 out of  16 | elapsed:   24.6s remaining:    8.2s\n",
      "[Parallel(n_jobs=25)]: Done  16 out of  16 | elapsed:   35.0s finished\n"
     ]
    },
    {
     "name": "stdout",
     "output_type": "stream",
     "text": [
      "(3741, 32) (5773, 32) (9514, 32) Index(['window', 'ltime', 'likelihood_max_array', 'power', 'activity',\n",
      "       'rr_array', 'time', 'timestamp', 'localtime', 'ecg_rr_array', 'day',\n",
      "       'version', 'user', 'quality_features', 'activity_features',\n",
      "       'likelihood', 'likelihood_ind', 'length', 'rr', 'rr_col', 'length1',\n",
      "       'indicator', 'rr_col1', 'rr_features', 'rr_weighted_features',\n",
      "       'quality_mag', 'ecg_rr_array_final', 'ecg_features',\n",
      "       'stress_likelihood_ecg', 'stress_likelihood_ppg',\n",
      "       'stress_likelihood_ppg_qual', 'hand'],\n",
      "      dtype='object')\n",
      "saved ------------------------------\n"
     ]
    },
    {
     "name": "stderr",
     "output_type": "stream",
     "text": [
      "[Parallel(n_jobs=25)]: Using backend LokyBackend with 25 concurrent workers.\n",
      "[Parallel(n_jobs=25)]: Done   2 out of   5 | elapsed:   12.8s remaining:   19.2s\n",
      "[Parallel(n_jobs=25)]: Done   5 out of   5 | elapsed:   19.8s finished\n",
      "[Parallel(n_jobs=25)]: Using backend LokyBackend with 25 concurrent workers.\n",
      "[Parallel(n_jobs=25)]: Done   2 out of   5 | elapsed:   11.4s remaining:   17.1s\n",
      "[Parallel(n_jobs=25)]: Done   5 out of   5 | elapsed:   20.2s finished\n"
     ]
    },
    {
     "name": "stdout",
     "output_type": "stream",
     "text": [
      "(3892, 32) (4102, 32) (7994, 32) Index(['window', 'ltime', 'likelihood_max_array', 'power', 'activity',\n",
      "       'rr_array', 'time', 'timestamp', 'localtime', 'ecg_rr_array', 'day',\n",
      "       'version', 'user', 'quality_features', 'activity_features',\n",
      "       'likelihood', 'likelihood_ind', 'length', 'rr', 'rr_col', 'length1',\n",
      "       'indicator', 'rr_col1', 'rr_features', 'rr_weighted_features',\n",
      "       'quality_mag', 'ecg_rr_array_final', 'ecg_features',\n",
      "       'stress_likelihood_ecg', 'stress_likelihood_ppg',\n",
      "       'stress_likelihood_ppg_qual', 'hand'],\n",
      "      dtype='object')\n",
      "saved ------------------------------\n"
     ]
    },
    {
     "name": "stderr",
     "output_type": "stream",
     "text": [
      "[Parallel(n_jobs=25)]: Using backend LokyBackend with 25 concurrent workers.\n",
      "[Parallel(n_jobs=25)]: Done   3 out of  12 | elapsed:    9.8s remaining:   29.3s\n",
      "[Parallel(n_jobs=25)]: Done   7 out of  12 | elapsed:   19.0s remaining:   13.6s\n",
      "[Parallel(n_jobs=25)]: Done  12 out of  12 | elapsed:   31.6s finished\n",
      "[Parallel(n_jobs=25)]: Using backend LokyBackend with 25 concurrent workers.\n",
      "[Parallel(n_jobs=25)]: Done   4 out of  13 | elapsed:    7.1s remaining:   15.9s\n",
      "[Parallel(n_jobs=25)]: Done   8 out of  13 | elapsed:   21.3s remaining:   13.3s\n",
      "[Parallel(n_jobs=25)]: Done  13 out of  13 | elapsed:   29.9s finished\n"
     ]
    },
    {
     "name": "stdout",
     "output_type": "stream",
     "text": [
      "(3512, 32) (2509, 32) (6021, 32) Index(['window', 'ltime', 'likelihood_max_array', 'power', 'activity',\n",
      "       'rr_array', 'time', 'timestamp', 'localtime', 'ecg_rr_array', 'day',\n",
      "       'version', 'user', 'quality_features', 'activity_features',\n",
      "       'likelihood', 'likelihood_ind', 'length', 'rr', 'rr_col', 'length1',\n",
      "       'indicator', 'rr_col1', 'rr_features', 'rr_weighted_features',\n",
      "       'quality_mag', 'ecg_rr_array_final', 'ecg_features',\n",
      "       'stress_likelihood_ecg', 'stress_likelihood_ppg',\n",
      "       'stress_likelihood_ppg_qual', 'hand'],\n",
      "      dtype='object')\n",
      "saved ------------------------------\n"
     ]
    },
    {
     "name": "stderr",
     "output_type": "stream",
     "text": [
      "[Parallel(n_jobs=25)]: Using backend LokyBackend with 25 concurrent workers.\n",
      "[Parallel(n_jobs=25)]: Done   4 out of   4 | elapsed:   16.0s finished\n",
      "[Parallel(n_jobs=25)]: Using backend LokyBackend with 25 concurrent workers.\n",
      "[Parallel(n_jobs=25)]: Done   4 out of   4 | elapsed:   13.6s finished\n"
     ]
    },
    {
     "name": "stdout",
     "output_type": "stream",
     "text": [
      "(2312, 32) (2436, 32) (4748, 32) Index(['window', 'ltime', 'likelihood_max_array', 'power', 'activity',\n",
      "       'rr_array', 'time', 'timestamp', 'localtime', 'ecg_rr_array', 'day',\n",
      "       'version', 'user', 'quality_features', 'activity_features',\n",
      "       'likelihood', 'likelihood_ind', 'length', 'rr', 'rr_col', 'length1',\n",
      "       'indicator', 'rr_col1', 'rr_features', 'rr_weighted_features',\n",
      "       'quality_mag', 'ecg_rr_array_final', 'ecg_features',\n",
      "       'stress_likelihood_ecg', 'stress_likelihood_ppg',\n",
      "       'stress_likelihood_ppg_qual', 'hand'],\n",
      "      dtype='object')\n",
      "saved ------------------------------\n"
     ]
    },
    {
     "name": "stderr",
     "output_type": "stream",
     "text": [
      "[Parallel(n_jobs=25)]: Using backend LokyBackend with 25 concurrent workers.\n",
      "[Parallel(n_jobs=25)]: Done   2 out of   7 | elapsed:    2.0s remaining:    4.9s\n",
      "[Parallel(n_jobs=25)]: Done   4 out of   7 | elapsed:   22.3s remaining:   16.7s\n",
      "[Parallel(n_jobs=25)]: Done   7 out of   7 | elapsed:   38.1s finished\n",
      "[Parallel(n_jobs=25)]: Using backend LokyBackend with 25 concurrent workers.\n",
      "[Parallel(n_jobs=25)]: Done   2 out of   7 | elapsed:    2.4s remaining:    6.0s\n",
      "[Parallel(n_jobs=25)]: Done   4 out of   7 | elapsed:   22.5s remaining:   16.9s\n",
      "[Parallel(n_jobs=25)]: Done   7 out of   7 | elapsed:   39.3s finished\n"
     ]
    },
    {
     "name": "stdout",
     "output_type": "stream",
     "text": [
      "(2038, 32) (1591, 32) (3629, 32) Index(['window', 'ltime', 'likelihood_max_array', 'power', 'activity',\n",
      "       'rr_array', 'time', 'timestamp', 'localtime', 'ecg_rr_array', 'day',\n",
      "       'version', 'user', 'quality_features', 'activity_features',\n",
      "       'likelihood', 'likelihood_ind', 'length', 'rr', 'rr_col', 'length1',\n",
      "       'indicator', 'rr_col1', 'rr_features', 'rr_weighted_features',\n",
      "       'quality_mag', 'ecg_rr_array_final', 'ecg_features',\n",
      "       'stress_likelihood_ecg', 'stress_likelihood_ppg',\n",
      "       'stress_likelihood_ppg_qual', 'hand'],\n",
      "      dtype='object')\n",
      "saved ------------------------------\n"
     ]
    },
    {
     "name": "stderr",
     "output_type": "stream",
     "text": [
      "[Parallel(n_jobs=25)]: Using backend LokyBackend with 25 concurrent workers.\n",
      "[Parallel(n_jobs=25)]: Done   3 out of   3 | elapsed:    8.2s remaining:    0.0s\n",
      "[Parallel(n_jobs=25)]: Done   3 out of   3 | elapsed:    8.2s finished\n",
      "[Parallel(n_jobs=25)]: Using backend LokyBackend with 25 concurrent workers.\n",
      "[Parallel(n_jobs=25)]: Done   3 out of   3 | elapsed:    6.3s remaining:    0.0s\n",
      "[Parallel(n_jobs=25)]: Done   3 out of   3 | elapsed:    6.3s finished\n"
     ]
    },
    {
     "name": "stdout",
     "output_type": "stream",
     "text": [
      "(1081, 32) (333, 32) (1414, 32) Index(['window', 'ltime', 'likelihood_max_array', 'power', 'activity',\n",
      "       'rr_array', 'time', 'timestamp', 'localtime', 'ecg_rr_array', 'day',\n",
      "       'version', 'user', 'quality_features', 'activity_features',\n",
      "       'likelihood', 'likelihood_ind', 'length', 'rr', 'rr_col', 'length1',\n",
      "       'indicator', 'rr_col1', 'rr_features', 'rr_weighted_features',\n",
      "       'quality_mag', 'ecg_rr_array_final', 'ecg_features',\n",
      "       'stress_likelihood_ecg', 'stress_likelihood_ppg',\n",
      "       'stress_likelihood_ppg_qual', 'hand'],\n",
      "      dtype='object')\n",
      "saved ------------------------------\n"
     ]
    },
    {
     "name": "stderr",
     "output_type": "stream",
     "text": [
      "[Parallel(n_jobs=25)]: Using backend LokyBackend with 25 concurrent workers.\n",
      "[Parallel(n_jobs=25)]: Done   2 out of  15 | elapsed:    8.1s remaining:   52.5s\n",
      "[Parallel(n_jobs=25)]: Done   6 out of  15 | elapsed:   21.8s remaining:   32.7s\n",
      "[Parallel(n_jobs=25)]: Done  10 out of  15 | elapsed:   24.2s remaining:   12.1s\n",
      "[Parallel(n_jobs=25)]: Done  15 out of  15 | elapsed:   30.4s finished\n",
      "[Parallel(n_jobs=25)]: Using backend LokyBackend with 25 concurrent workers.\n",
      "[Parallel(n_jobs=25)]: Done   2 out of  15 | elapsed:   19.2s remaining:  2.1min\n",
      "[Parallel(n_jobs=25)]: Done   6 out of  15 | elapsed:   24.1s remaining:   36.1s\n",
      "[Parallel(n_jobs=25)]: Done  10 out of  15 | elapsed:   26.3s remaining:   13.2s\n",
      "[Parallel(n_jobs=25)]: Done  15 out of  15 | elapsed:   33.5s finished\n"
     ]
    },
    {
     "name": "stdout",
     "output_type": "stream",
     "text": [
      "(6157, 32) (7132, 32) (13289, 32) Index(['window', 'ltime', 'likelihood_max_array', 'power', 'activity',\n",
      "       'rr_array', 'time', 'timestamp', 'localtime', 'ecg_rr_array', 'day',\n",
      "       'version', 'user', 'quality_features', 'activity_features',\n",
      "       'likelihood', 'likelihood_ind', 'length', 'rr', 'rr_col', 'length1',\n",
      "       'indicator', 'rr_col1', 'rr_features', 'rr_weighted_features',\n",
      "       'quality_mag', 'ecg_rr_array_final', 'ecg_features',\n",
      "       'stress_likelihood_ecg', 'stress_likelihood_ppg',\n",
      "       'stress_likelihood_ppg_qual', 'hand'],\n",
      "      dtype='object')\n",
      "saved ------------------------------\n"
     ]
    },
    {
     "name": "stderr",
     "output_type": "stream",
     "text": [
      "[Parallel(n_jobs=25)]: Using backend LokyBackend with 25 concurrent workers.\n",
      "[Parallel(n_jobs=25)]: Done   3 out of   6 | elapsed:    2.1s remaining:    2.1s\n",
      "[Parallel(n_jobs=25)]: Done   6 out of   6 | elapsed:    7.6s finished\n",
      "[Parallel(n_jobs=25)]: Using backend LokyBackend with 25 concurrent workers.\n",
      "[Parallel(n_jobs=25)]: Done   3 out of   6 | elapsed:    3.2s remaining:    3.2s\n",
      "[Parallel(n_jobs=25)]: Done   6 out of   6 | elapsed:    7.9s finished\n"
     ]
    },
    {
     "name": "stdout",
     "output_type": "stream",
     "text": [
      "(886, 32) (1116, 32) (2002, 32) Index(['window', 'ltime', 'likelihood_max_array', 'power', 'activity',\n",
      "       'rr_array', 'time', 'timestamp', 'localtime', 'ecg_rr_array', 'day',\n",
      "       'version', 'user', 'quality_features', 'activity_features',\n",
      "       'likelihood', 'likelihood_ind', 'length', 'rr', 'rr_col', 'length1',\n",
      "       'indicator', 'rr_col1', 'rr_features', 'rr_weighted_features',\n",
      "       'quality_mag', 'ecg_rr_array_final', 'ecg_features',\n",
      "       'stress_likelihood_ecg', 'stress_likelihood_ppg',\n",
      "       'stress_likelihood_ppg_qual', 'hand'],\n",
      "      dtype='object')\n",
      "saved ------------------------------\n"
     ]
    },
    {
     "name": "stderr",
     "output_type": "stream",
     "text": [
      "[Parallel(n_jobs=25)]: Using backend LokyBackend with 25 concurrent workers.\n",
      "[Parallel(n_jobs=25)]: Done   2 out of   9 | elapsed:   13.7s remaining:   48.1s\n",
      "[Parallel(n_jobs=25)]: Done   5 out of   9 | elapsed:   18.4s remaining:   14.7s\n",
      "[Parallel(n_jobs=25)]: Done   9 out of   9 | elapsed:   26.4s finished\n",
      "[Parallel(n_jobs=25)]: Using backend LokyBackend with 25 concurrent workers.\n",
      "[Parallel(n_jobs=25)]: Done   2 out of   9 | elapsed:   14.0s remaining:   48.9s\n",
      "[Parallel(n_jobs=25)]: Done   5 out of   9 | elapsed:   17.5s remaining:   14.0s\n",
      "[Parallel(n_jobs=25)]: Done   9 out of   9 | elapsed:   27.4s finished\n"
     ]
    },
    {
     "name": "stdout",
     "output_type": "stream",
     "text": [
      "(4218, 32) (3305, 32) (7523, 32) Index(['window', 'ltime', 'likelihood_max_array', 'power', 'activity',\n",
      "       'rr_array', 'time', 'timestamp', 'localtime', 'ecg_rr_array', 'day',\n",
      "       'version', 'user', 'quality_features', 'activity_features',\n",
      "       'likelihood', 'likelihood_ind', 'length', 'rr', 'rr_col', 'length1',\n",
      "       'indicator', 'rr_col1', 'rr_features', 'rr_weighted_features',\n",
      "       'quality_mag', 'ecg_rr_array_final', 'ecg_features',\n",
      "       'stress_likelihood_ecg', 'stress_likelihood_ppg',\n",
      "       'stress_likelihood_ppg_qual', 'hand'],\n",
      "      dtype='object')\n",
      "saved ------------------------------\n"
     ]
    },
    {
     "name": "stderr",
     "output_type": "stream",
     "text": [
      "[Parallel(n_jobs=25)]: Using backend LokyBackend with 25 concurrent workers.\n",
      "[Parallel(n_jobs=25)]: Done   5 out of  14 | elapsed:    7.8s remaining:   14.0s\n",
      "[Parallel(n_jobs=25)]: Done   9 out of  14 | elapsed:   10.1s remaining:    5.6s\n",
      "[Parallel(n_jobs=25)]: Done  14 out of  14 | elapsed:   14.4s finished\n",
      "[Parallel(n_jobs=25)]: Using backend LokyBackend with 25 concurrent workers.\n",
      "[Parallel(n_jobs=25)]: Done   5 out of  14 | elapsed:    5.2s remaining:    9.4s\n",
      "[Parallel(n_jobs=25)]: Done   9 out of  14 | elapsed:    8.9s remaining:    4.9s\n",
      "[Parallel(n_jobs=25)]: Done  14 out of  14 | elapsed:   14.0s finished\n"
     ]
    },
    {
     "name": "stdout",
     "output_type": "stream",
     "text": [
      "(5779, 32) (4947, 32) (10726, 32) Index(['window', 'ltime', 'likelihood_max_array', 'power', 'activity',\n",
      "       'rr_array', 'time', 'timestamp', 'localtime', 'ecg_rr_array', 'day',\n",
      "       'version', 'user', 'quality_features', 'activity_features',\n",
      "       'likelihood', 'likelihood_ind', 'length', 'rr', 'rr_col', 'length1',\n",
      "       'indicator', 'rr_col1', 'rr_features', 'rr_weighted_features',\n",
      "       'quality_mag', 'ecg_rr_array_final', 'ecg_features',\n",
      "       'stress_likelihood_ecg', 'stress_likelihood_ppg',\n",
      "       'stress_likelihood_ppg_qual', 'hand'],\n",
      "      dtype='object')\n",
      "saved ------------------------------\n"
     ]
    },
    {
     "name": "stderr",
     "output_type": "stream",
     "text": [
      "[Parallel(n_jobs=25)]: Using backend LokyBackend with 25 concurrent workers.\n",
      "[Parallel(n_jobs=25)]: Done   3 out of  10 | elapsed:    3.6s remaining:    8.5s\n",
      "[Parallel(n_jobs=25)]: Done   6 out of  10 | elapsed:    4.7s remaining:    3.1s\n",
      "[Parallel(n_jobs=25)]: Done  10 out of  10 | elapsed:    8.2s finished\n",
      "[Parallel(n_jobs=25)]: Using backend LokyBackend with 25 concurrent workers.\n",
      "[Parallel(n_jobs=25)]: Done   4 out of   8 | elapsed:    4.0s remaining:    4.0s\n",
      "[Parallel(n_jobs=25)]: Done   8 out of   8 | elapsed:   10.8s finished\n"
     ]
    },
    {
     "name": "stdout",
     "output_type": "stream",
     "text": [
      "(2308, 32) (1793, 32) (4101, 32) Index(['window', 'ltime', 'likelihood_max_array', 'power', 'activity',\n",
      "       'rr_array', 'time', 'timestamp', 'localtime', 'ecg_rr_array', 'day',\n",
      "       'version', 'user', 'quality_features', 'activity_features',\n",
      "       'likelihood', 'likelihood_ind', 'length', 'rr', 'rr_col', 'length1',\n",
      "       'indicator', 'rr_col1', 'rr_features', 'rr_weighted_features',\n",
      "       'quality_mag', 'ecg_rr_array_final', 'ecg_features',\n",
      "       'stress_likelihood_ecg', 'stress_likelihood_ppg',\n",
      "       'stress_likelihood_ppg_qual', 'hand'],\n",
      "      dtype='object')\n",
      "saved ------------------------------\n"
     ]
    },
    {
     "name": "stderr",
     "output_type": "stream",
     "text": [
      "[Parallel(n_jobs=25)]: Using backend LokyBackend with 25 concurrent workers.\n",
      "[Parallel(n_jobs=25)]: Done   4 out of  13 | elapsed:   10.3s remaining:   23.2s\n",
      "[Parallel(n_jobs=25)]: Done   8 out of  13 | elapsed:   13.9s remaining:    8.7s\n",
      "[Parallel(n_jobs=25)]: Done  13 out of  13 | elapsed:   27.7s finished\n",
      "[Parallel(n_jobs=25)]: Using backend LokyBackend with 25 concurrent workers.\n",
      "[Parallel(n_jobs=25)]: Done   3 out of  12 | elapsed:   10.4s remaining:   31.3s\n",
      "[Parallel(n_jobs=25)]: Done   7 out of  12 | elapsed:   13.2s remaining:    9.4s\n",
      "[Parallel(n_jobs=25)]: Done  12 out of  12 | elapsed:   27.9s finished\n"
     ]
    },
    {
     "name": "stdout",
     "output_type": "stream",
     "text": [
      "(6194, 32) (5897, 32) (12091, 32) Index(['window', 'ltime', 'likelihood_max_array', 'power', 'activity',\n",
      "       'rr_array', 'time', 'timestamp', 'localtime', 'ecg_rr_array', 'day',\n",
      "       'version', 'user', 'quality_features', 'activity_features',\n",
      "       'likelihood', 'likelihood_ind', 'length', 'rr', 'rr_col', 'length1',\n",
      "       'indicator', 'rr_col1', 'rr_features', 'rr_weighted_features',\n",
      "       'quality_mag', 'ecg_rr_array_final', 'ecg_features',\n",
      "       'stress_likelihood_ecg', 'stress_likelihood_ppg',\n",
      "       'stress_likelihood_ppg_qual', 'hand'],\n",
      "      dtype='object')\n",
      "saved ------------------------------\n"
     ]
    },
    {
     "name": "stderr",
     "output_type": "stream",
     "text": [
      "[Parallel(n_jobs=25)]: Using backend LokyBackend with 25 concurrent workers.\n",
      "[Parallel(n_jobs=25)]: Done   2 out of   9 | elapsed:    4.8s remaining:   16.9s\n",
      "[Parallel(n_jobs=25)]: Done   5 out of   9 | elapsed:    7.4s remaining:    5.9s\n",
      "[Parallel(n_jobs=25)]: Done   9 out of   9 | elapsed:   14.2s finished\n",
      "[Parallel(n_jobs=25)]: Using backend LokyBackend with 25 concurrent workers.\n",
      "[Parallel(n_jobs=25)]: Done   2 out of   7 | elapsed:    3.4s remaining:    8.5s\n",
      "[Parallel(n_jobs=25)]: Done   4 out of   7 | elapsed:    6.8s remaining:    5.1s\n",
      "[Parallel(n_jobs=25)]: Done   7 out of   7 | elapsed:    8.2s finished\n"
     ]
    },
    {
     "name": "stdout",
     "output_type": "stream",
     "text": [
      "(4470, 32) (2225, 32) (6695, 32) Index(['window', 'ltime', 'likelihood_max_array', 'power', 'activity',\n",
      "       'rr_array', 'time', 'timestamp', 'localtime', 'ecg_rr_array', 'day',\n",
      "       'version', 'user', 'quality_features', 'activity_features',\n",
      "       'likelihood', 'likelihood_ind', 'length', 'rr', 'rr_col', 'length1',\n",
      "       'indicator', 'rr_col1', 'rr_features', 'rr_weighted_features',\n",
      "       'quality_mag', 'ecg_rr_array_final', 'ecg_features',\n",
      "       'stress_likelihood_ecg', 'stress_likelihood_ppg',\n",
      "       'stress_likelihood_ppg_qual', 'hand'],\n",
      "      dtype='object')\n",
      "saved ------------------------------\n"
     ]
    },
    {
     "name": "stderr",
     "output_type": "stream",
     "text": [
      "[Parallel(n_jobs=25)]: Using backend LokyBackend with 25 concurrent workers.\n",
      "[Parallel(n_jobs=25)]: Done   2 out of  15 | elapsed:    6.6s remaining:   42.7s\n",
      "[Parallel(n_jobs=25)]: Done   6 out of  15 | elapsed:   10.3s remaining:   15.5s\n",
      "[Parallel(n_jobs=25)]: Done  10 out of  15 | elapsed:   14.0s remaining:    7.0s\n",
      "[Parallel(n_jobs=25)]: Done  15 out of  15 | elapsed:   27.2s finished\n",
      "[Parallel(n_jobs=25)]: Using backend LokyBackend with 25 concurrent workers.\n",
      "[Parallel(n_jobs=25)]: Done   5 out of  14 | elapsed:    7.8s remaining:   14.0s\n",
      "[Parallel(n_jobs=25)]: Done   9 out of  14 | elapsed:   13.5s remaining:    7.5s\n",
      "[Parallel(n_jobs=25)]: Done  14 out of  14 | elapsed:   18.4s finished\n"
     ]
    },
    {
     "name": "stdout",
     "output_type": "stream",
     "text": [
      "(8260, 32) (6410, 32) (14670, 32) Index(['window', 'ltime', 'likelihood_max_array', 'power', 'activity',\n",
      "       'rr_array', 'time', 'timestamp', 'localtime', 'ecg_rr_array', 'day',\n",
      "       'version', 'user', 'quality_features', 'activity_features',\n",
      "       'likelihood', 'likelihood_ind', 'length', 'rr', 'rr_col', 'length1',\n",
      "       'indicator', 'rr_col1', 'rr_features', 'rr_weighted_features',\n",
      "       'quality_mag', 'ecg_rr_array_final', 'ecg_features',\n",
      "       'stress_likelihood_ecg', 'stress_likelihood_ppg',\n",
      "       'stress_likelihood_ppg_qual', 'hand'],\n",
      "      dtype='object')\n",
      "saved ------------------------------\n"
     ]
    },
    {
     "name": "stderr",
     "output_type": "stream",
     "text": [
      "[Parallel(n_jobs=25)]: Using backend LokyBackend with 25 concurrent workers.\n",
      "[Parallel(n_jobs=25)]: Done   4 out of  13 | elapsed:    9.6s remaining:   21.7s\n",
      "[Parallel(n_jobs=25)]: Done   8 out of  13 | elapsed:   13.0s remaining:    8.1s\n",
      "[Parallel(n_jobs=25)]: Done  13 out of  13 | elapsed:   24.4s finished\n",
      "[Parallel(n_jobs=25)]: Using backend LokyBackend with 25 concurrent workers.\n",
      "[Parallel(n_jobs=25)]: Done   4 out of  13 | elapsed:    8.3s remaining:   18.6s\n",
      "[Parallel(n_jobs=25)]: Done   8 out of  13 | elapsed:   14.2s remaining:    8.9s\n",
      "[Parallel(n_jobs=25)]: Done  13 out of  13 | elapsed:   24.1s finished\n"
     ]
    },
    {
     "name": "stdout",
     "output_type": "stream",
     "text": [
      "(3169, 32) (2589, 32) (5758, 32) Index(['window', 'ltime', 'likelihood_max_array', 'power', 'activity',\n",
      "       'rr_array', 'time', 'timestamp', 'localtime', 'ecg_rr_array', 'day',\n",
      "       'version', 'user', 'quality_features', 'activity_features',\n",
      "       'likelihood', 'likelihood_ind', 'length', 'rr', 'rr_col', 'length1',\n",
      "       'indicator', 'rr_col1', 'rr_features', 'rr_weighted_features',\n",
      "       'quality_mag', 'ecg_rr_array_final', 'ecg_features',\n",
      "       'stress_likelihood_ecg', 'stress_likelihood_ppg',\n",
      "       'stress_likelihood_ppg_qual', 'hand'],\n",
      "      dtype='object')\n",
      "saved ------------------------------\n"
     ]
    },
    {
     "name": "stderr",
     "output_type": "stream",
     "text": [
      "[Parallel(n_jobs=25)]: Using backend LokyBackend with 25 concurrent workers.\n",
      "[Parallel(n_jobs=25)]: Done   4 out of   8 | elapsed:   11.5s remaining:   11.5s\n",
      "[Parallel(n_jobs=25)]: Done   8 out of   8 | elapsed:   15.2s finished\n",
      "[Parallel(n_jobs=25)]: Using backend LokyBackend with 25 concurrent workers.\n",
      "[Parallel(n_jobs=25)]: Done   2 out of   7 | elapsed:   11.9s remaining:   29.7s\n",
      "[Parallel(n_jobs=25)]: Done   4 out of   7 | elapsed:   12.0s remaining:    9.0s\n",
      "[Parallel(n_jobs=25)]: Done   7 out of   7 | elapsed:   14.9s finished\n"
     ]
    },
    {
     "name": "stdout",
     "output_type": "stream",
     "text": [
      "(4471, 32) (4281, 32) (8752, 32) Index(['window', 'ltime', 'likelihood_max_array', 'power', 'activity',\n",
      "       'rr_array', 'time', 'timestamp', 'localtime', 'ecg_rr_array', 'day',\n",
      "       'version', 'user', 'quality_features', 'activity_features',\n",
      "       'likelihood', 'likelihood_ind', 'length', 'rr', 'rr_col', 'length1',\n",
      "       'indicator', 'rr_col1', 'rr_features', 'rr_weighted_features',\n",
      "       'quality_mag', 'ecg_rr_array_final', 'ecg_features',\n",
      "       'stress_likelihood_ecg', 'stress_likelihood_ppg',\n",
      "       'stress_likelihood_ppg_qual', 'hand'],\n",
      "      dtype='object')\n",
      "saved ------------------------------\n"
     ]
    },
    {
     "name": "stderr",
     "output_type": "stream",
     "text": [
      "[Parallel(n_jobs=25)]: Using backend LokyBackend with 25 concurrent workers.\n",
      "[Parallel(n_jobs=25)]: Done   2 out of  15 | elapsed:    5.5s remaining:   35.6s\n",
      "[Parallel(n_jobs=25)]: Done   6 out of  15 | elapsed:    8.5s remaining:   12.8s\n",
      "[Parallel(n_jobs=25)]: Done  10 out of  15 | elapsed:   11.2s remaining:    5.6s\n",
      "[Parallel(n_jobs=25)]: Done  15 out of  15 | elapsed:   34.9s finished\n",
      "[Parallel(n_jobs=25)]: Using backend LokyBackend with 25 concurrent workers.\n",
      "[Parallel(n_jobs=25)]: Done   2 out of  15 | elapsed:    6.4s remaining:   41.3s\n",
      "[Parallel(n_jobs=25)]: Done   6 out of  15 | elapsed:   10.3s remaining:   15.5s\n",
      "[Parallel(n_jobs=25)]: Done  10 out of  15 | elapsed:   18.4s remaining:    9.2s\n",
      "[Parallel(n_jobs=25)]: Done  15 out of  15 | elapsed:   35.3s finished\n"
     ]
    },
    {
     "name": "stdout",
     "output_type": "stream",
     "text": [
      "(5854, 32) (7643, 32) (13497, 32) Index(['window', 'ltime', 'likelihood_max_array', 'power', 'activity',\n",
      "       'rr_array', 'time', 'timestamp', 'localtime', 'ecg_rr_array', 'day',\n",
      "       'version', 'user', 'quality_features', 'activity_features',\n",
      "       'likelihood', 'likelihood_ind', 'length', 'rr', 'rr_col', 'length1',\n",
      "       'indicator', 'rr_col1', 'rr_features', 'rr_weighted_features',\n",
      "       'quality_mag', 'ecg_rr_array_final', 'ecg_features',\n",
      "       'stress_likelihood_ecg', 'stress_likelihood_ppg',\n",
      "       'stress_likelihood_ppg_qual', 'hand'],\n",
      "      dtype='object')\n",
      "saved ------------------------------\n"
     ]
    },
    {
     "name": "stderr",
     "output_type": "stream",
     "text": [
      "[Parallel(n_jobs=25)]: Using backend LokyBackend with 25 concurrent workers.\n",
      "[Parallel(n_jobs=25)]: Done   3 out of  10 | elapsed:    3.6s remaining:    8.4s\n",
      "[Parallel(n_jobs=25)]: Done   6 out of  10 | elapsed:    8.0s remaining:    5.4s\n",
      "[Parallel(n_jobs=25)]: Done  10 out of  10 | elapsed:   10.5s finished\n",
      "[Parallel(n_jobs=25)]: Using backend LokyBackend with 25 concurrent workers.\n",
      "[Parallel(n_jobs=25)]: Done   2 out of  16 | elapsed:    5.3s remaining:   36.9s\n",
      "[Parallel(n_jobs=25)]: Done   7 out of  16 | elapsed:    8.6s remaining:   11.0s\n",
      "[Parallel(n_jobs=25)]: Done  12 out of  16 | elapsed:    9.8s remaining:    3.3s\n",
      "[Parallel(n_jobs=25)]: Done  16 out of  16 | elapsed:   12.3s finished\n"
     ]
    },
    {
     "name": "stdout",
     "output_type": "stream",
     "text": [
      "(3868, 32) (6761, 32) (10629, 32) Index(['window', 'ltime', 'likelihood_max_array', 'power', 'activity',\n",
      "       'rr_array', 'time', 'timestamp', 'localtime', 'ecg_rr_array', 'day',\n",
      "       'version', 'user', 'quality_features', 'activity_features',\n",
      "       'likelihood', 'likelihood_ind', 'length', 'rr', 'rr_col', 'length1',\n",
      "       'indicator', 'rr_col1', 'rr_features', 'rr_weighted_features',\n",
      "       'quality_mag', 'ecg_rr_array_final', 'ecg_features',\n",
      "       'stress_likelihood_ecg', 'stress_likelihood_ppg',\n",
      "       'stress_likelihood_ppg_qual', 'hand'],\n",
      "      dtype='object')\n",
      "saved ------------------------------\n"
     ]
    },
    {
     "name": "stderr",
     "output_type": "stream",
     "text": [
      "[Parallel(n_jobs=25)]: Using backend LokyBackend with 25 concurrent workers.\n",
      "[Parallel(n_jobs=25)]: Done   2 out of   5 | elapsed:    1.8s remaining:    2.6s\n",
      "[Parallel(n_jobs=25)]: Done   5 out of   5 | elapsed:   13.0s finished\n",
      "[Parallel(n_jobs=25)]: Using backend LokyBackend with 25 concurrent workers.\n",
      "[Parallel(n_jobs=25)]: Done   3 out of   6 | elapsed:    2.5s remaining:    2.5s\n",
      "[Parallel(n_jobs=25)]: Done   6 out of   6 | elapsed:   13.0s finished\n"
     ]
    },
    {
     "name": "stdout",
     "output_type": "stream",
     "text": [
      "(864, 32) (923, 32) (1787, 32) Index(['window', 'ltime', 'likelihood_max_array', 'power', 'activity',\n",
      "       'rr_array', 'time', 'timestamp', 'localtime', 'ecg_rr_array', 'day',\n",
      "       'version', 'user', 'quality_features', 'activity_features',\n",
      "       'likelihood', 'likelihood_ind', 'length', 'rr', 'rr_col', 'length1',\n",
      "       'indicator', 'rr_col1', 'rr_features', 'rr_weighted_features',\n",
      "       'quality_mag', 'ecg_rr_array_final', 'ecg_features',\n",
      "       'stress_likelihood_ecg', 'stress_likelihood_ppg',\n",
      "       'stress_likelihood_ppg_qual', 'hand'],\n",
      "      dtype='object')\n",
      "saved ------------------------------\n"
     ]
    },
    {
     "name": "stderr",
     "output_type": "stream",
     "text": [
      "[Parallel(n_jobs=25)]: Using backend LokyBackend with 25 concurrent workers.\n",
      "[Parallel(n_jobs=25)]: Done   2 out of   9 | elapsed:    9.9s remaining:   34.6s\n",
      "[Parallel(n_jobs=25)]: Done   5 out of   9 | elapsed:   11.0s remaining:    8.8s\n",
      "[Parallel(n_jobs=25)]: Done   9 out of   9 | elapsed:   11.3s finished\n",
      "[Parallel(n_jobs=25)]: Using backend LokyBackend with 25 concurrent workers.\n",
      "[Parallel(n_jobs=25)]: Done   2 out of   9 | elapsed:    5.6s remaining:   19.5s\n",
      "[Parallel(n_jobs=25)]: Done   5 out of   9 | elapsed:   10.6s remaining:    8.5s\n",
      "[Parallel(n_jobs=25)]: Done   9 out of   9 | elapsed:   10.9s finished\n"
     ]
    },
    {
     "name": "stdout",
     "output_type": "stream",
     "text": [
      "(7289, 32) (6388, 32) (13677, 32) Index(['window', 'ltime', 'likelihood_max_array', 'power', 'activity',\n",
      "       'rr_array', 'time', 'timestamp', 'localtime', 'ecg_rr_array', 'day',\n",
      "       'version', 'user', 'quality_features', 'activity_features',\n",
      "       'likelihood', 'likelihood_ind', 'length', 'rr', 'rr_col', 'length1',\n",
      "       'indicator', 'rr_col1', 'rr_features', 'rr_weighted_features',\n",
      "       'quality_mag', 'ecg_rr_array_final', 'ecg_features',\n",
      "       'stress_likelihood_ecg', 'stress_likelihood_ppg',\n",
      "       'stress_likelihood_ppg_qual', 'hand'],\n",
      "      dtype='object')\n",
      "saved ------------------------------\n"
     ]
    },
    {
     "name": "stderr",
     "output_type": "stream",
     "text": [
      "[Parallel(n_jobs=25)]: Using backend LokyBackend with 25 concurrent workers.\n",
      "[Parallel(n_jobs=25)]: Done   3 out of  12 | elapsed:   11.5s remaining:   34.4s\n",
      "[Parallel(n_jobs=25)]: Done   7 out of  12 | elapsed:   18.2s remaining:   13.0s\n",
      "[Parallel(n_jobs=25)]: Done  12 out of  12 | elapsed:   38.5s finished\n",
      "[Parallel(n_jobs=25)]: Using backend LokyBackend with 25 concurrent workers.\n",
      "[Parallel(n_jobs=25)]: Done   3 out of  12 | elapsed:   10.9s remaining:   32.8s\n",
      "[Parallel(n_jobs=25)]: Done   7 out of  12 | elapsed:   13.7s remaining:    9.8s\n",
      "[Parallel(n_jobs=25)]: Done  12 out of  12 | elapsed:   39.1s finished\n"
     ]
    },
    {
     "name": "stdout",
     "output_type": "stream",
     "text": [
      "(6990, 32) (6848, 32) (13838, 32) Index(['window', 'ltime', 'likelihood_max_array', 'power', 'activity',\n",
      "       'rr_array', 'time', 'timestamp', 'localtime', 'ecg_rr_array', 'day',\n",
      "       'version', 'user', 'quality_features', 'activity_features',\n",
      "       'likelihood', 'likelihood_ind', 'length', 'rr', 'rr_col', 'length1',\n",
      "       'indicator', 'rr_col1', 'rr_features', 'rr_weighted_features',\n",
      "       'quality_mag', 'ecg_rr_array_final', 'ecg_features',\n",
      "       'stress_likelihood_ecg', 'stress_likelihood_ppg',\n",
      "       'stress_likelihood_ppg_qual', 'hand'],\n",
      "      dtype='object')\n",
      "saved ------------------------------\n"
     ]
    },
    {
     "name": "stderr",
     "output_type": "stream",
     "text": [
      "[Parallel(n_jobs=25)]: Using backend LokyBackend with 25 concurrent workers.\n",
      "[Parallel(n_jobs=25)]: Done   2 out of   2 | elapsed:    4.9s remaining:    0.0s\n",
      "[Parallel(n_jobs=25)]: Done   2 out of   2 | elapsed:    4.9s finished\n",
      "[Parallel(n_jobs=25)]: Using backend LokyBackend with 25 concurrent workers.\n",
      "[Parallel(n_jobs=25)]: Done   2 out of   2 | elapsed:    1.6s remaining:    0.0s\n",
      "[Parallel(n_jobs=25)]: Done   2 out of   2 | elapsed:    1.6s finished\n"
     ]
    },
    {
     "name": "stdout",
     "output_type": "stream",
     "text": [
      "(471, 32) (0, 1) (471, 32) Index(['window', 'ltime', 'likelihood_max_array', 'power', 'activity',\n",
      "       'rr_array', 'time', 'timestamp', 'localtime', 'ecg_rr_array', 'day',\n",
      "       'version', 'user', 'quality_features', 'activity_features',\n",
      "       'likelihood', 'likelihood_ind', 'length', 'rr', 'rr_col', 'length1',\n",
      "       'indicator', 'rr_col1', 'rr_features', 'rr_weighted_features',\n",
      "       'quality_mag', 'ecg_rr_array_final', 'ecg_features',\n",
      "       'stress_likelihood_ecg', 'stress_likelihood_ppg',\n",
      "       'stress_likelihood_ppg_qual', 'hand'],\n",
      "      dtype='object')\n",
      "saved ------------------------------\n"
     ]
    },
    {
     "name": "stderr",
     "output_type": "stream",
     "text": [
      "[Parallel(n_jobs=25)]: Using backend LokyBackend with 25 concurrent workers.\n",
      "[Parallel(n_jobs=25)]: Done   4 out of  13 | elapsed:   10.6s remaining:   23.9s\n",
      "[Parallel(n_jobs=25)]: Done   8 out of  13 | elapsed:   21.3s remaining:   13.3s\n",
      "[Parallel(n_jobs=25)]: Done  13 out of  13 | elapsed:   28.1s finished\n",
      "[Parallel(n_jobs=25)]: Using backend LokyBackend with 25 concurrent workers.\n",
      "[Parallel(n_jobs=25)]: Done   3 out of  12 | elapsed:    6.6s remaining:   19.8s\n",
      "[Parallel(n_jobs=25)]: Done   7 out of  12 | elapsed:   18.0s remaining:   12.8s\n",
      "[Parallel(n_jobs=25)]: Done  12 out of  12 | elapsed:   28.6s finished\n"
     ]
    },
    {
     "name": "stdout",
     "output_type": "stream",
     "text": [
      "(3894, 32) (3565, 32) (7459, 32) Index(['window', 'ltime', 'likelihood_max_array', 'power', 'activity',\n",
      "       'rr_array', 'time', 'timestamp', 'localtime', 'ecg_rr_array', 'day',\n",
      "       'version', 'user', 'quality_features', 'activity_features',\n",
      "       'likelihood', 'likelihood_ind', 'length', 'rr', 'rr_col', 'length1',\n",
      "       'indicator', 'rr_col1', 'rr_features', 'rr_weighted_features',\n",
      "       'quality_mag', 'ecg_rr_array_final', 'ecg_features',\n",
      "       'stress_likelihood_ecg', 'stress_likelihood_ppg',\n",
      "       'stress_likelihood_ppg_qual', 'hand'],\n",
      "      dtype='object')\n",
      "saved ------------------------------\n"
     ]
    },
    {
     "name": "stderr",
     "output_type": "stream",
     "text": [
      "[Parallel(n_jobs=25)]: Using backend LokyBackend with 25 concurrent workers.\n",
      "[Parallel(n_jobs=25)]: Done   3 out of  10 | elapsed:    4.0s remaining:    9.4s\n",
      "[Parallel(n_jobs=25)]: Done   6 out of  10 | elapsed:   10.3s remaining:    6.8s\n",
      "[Parallel(n_jobs=25)]: Done  10 out of  10 | elapsed:   13.0s finished\n",
      "[Parallel(n_jobs=25)]: Using backend LokyBackend with 25 concurrent workers.\n",
      "[Parallel(n_jobs=25)]: Done   3 out of  10 | elapsed:    5.0s remaining:   11.6s\n",
      "[Parallel(n_jobs=25)]: Done   6 out of  10 | elapsed:    9.5s remaining:    6.4s\n",
      "[Parallel(n_jobs=25)]: Done  10 out of  10 | elapsed:   16.9s finished\n"
     ]
    },
    {
     "name": "stdout",
     "output_type": "stream",
     "text": [
      "(5888, 32) (4135, 32) (10023, 32) Index(['window', 'ltime', 'likelihood_max_array', 'power', 'activity',\n",
      "       'rr_array', 'time', 'timestamp', 'localtime', 'ecg_rr_array', 'day',\n",
      "       'version', 'user', 'quality_features', 'activity_features',\n",
      "       'likelihood', 'likelihood_ind', 'length', 'rr', 'rr_col', 'length1',\n",
      "       'indicator', 'rr_col1', 'rr_features', 'rr_weighted_features',\n",
      "       'quality_mag', 'ecg_rr_array_final', 'ecg_features',\n",
      "       'stress_likelihood_ecg', 'stress_likelihood_ppg',\n",
      "       'stress_likelihood_ppg_qual', 'hand'],\n",
      "      dtype='object')\n",
      "saved ------------------------------\n"
     ]
    },
    {
     "name": "stderr",
     "output_type": "stream",
     "text": [
      "[Parallel(n_jobs=25)]: Using backend LokyBackend with 25 concurrent workers.\n",
      "[Parallel(n_jobs=25)]: Done   3 out of   6 | elapsed:   10.0s remaining:   10.0s\n",
      "[Parallel(n_jobs=25)]: Done   6 out of   6 | elapsed:   12.5s finished\n",
      "[Parallel(n_jobs=25)]: Using backend LokyBackend with 25 concurrent workers.\n",
      "[Parallel(n_jobs=25)]: Done   4 out of  11 | elapsed:    0.6s remaining:    1.0s\n",
      "[Parallel(n_jobs=25)]: Done   7 out of  11 | elapsed:   14.0s remaining:    8.0s\n",
      "[Parallel(n_jobs=25)]: Done  11 out of  11 | elapsed:   40.5s finished\n"
     ]
    },
    {
     "name": "stdout",
     "output_type": "stream",
     "text": [
      "(1715, 32) (3358, 32) (5073, 32) Index(['window', 'ltime', 'likelihood_max_array', 'power', 'activity',\n",
      "       'rr_array', 'time', 'timestamp', 'localtime', 'ecg_rr_array', 'day',\n",
      "       'version', 'user', 'quality_features', 'activity_features',\n",
      "       'likelihood', 'likelihood_ind', 'length', 'rr', 'rr_col', 'length1',\n",
      "       'indicator', 'rr_col1', 'rr_features', 'rr_weighted_features',\n",
      "       'quality_mag', 'ecg_rr_array_final', 'ecg_features',\n",
      "       'stress_likelihood_ecg', 'stress_likelihood_ppg',\n",
      "       'stress_likelihood_ppg_qual', 'hand'],\n",
      "      dtype='object')\n",
      "saved ------------------------------\n"
     ]
    },
    {
     "name": "stderr",
     "output_type": "stream",
     "text": [
      "[Parallel(n_jobs=25)]: Using backend LokyBackend with 25 concurrent workers.\n",
      "[Parallel(n_jobs=25)]: Done   4 out of   4 | elapsed:   31.5s finished\n",
      "[Parallel(n_jobs=25)]: Using backend LokyBackend with 25 concurrent workers.\n",
      "[Parallel(n_jobs=25)]: Done   2 out of   5 | elapsed:    7.1s remaining:   10.7s\n",
      "[Parallel(n_jobs=25)]: Done   5 out of   5 | elapsed:   28.2s finished\n"
     ]
    },
    {
     "name": "stdout",
     "output_type": "stream",
     "text": [
      "(1161, 32) (1404, 32) (2565, 32) Index(['window', 'ltime', 'likelihood_max_array', 'power', 'activity',\n",
      "       'rr_array', 'time', 'timestamp', 'localtime', 'ecg_rr_array', 'day',\n",
      "       'version', 'user', 'quality_features', 'activity_features',\n",
      "       'likelihood', 'likelihood_ind', 'length', 'rr', 'rr_col', 'length1',\n",
      "       'indicator', 'rr_col1', 'rr_features', 'rr_weighted_features',\n",
      "       'quality_mag', 'ecg_rr_array_final', 'ecg_features',\n",
      "       'stress_likelihood_ecg', 'stress_likelihood_ppg',\n",
      "       'stress_likelihood_ppg_qual', 'hand'],\n",
      "      dtype='object')\n",
      "saved ------------------------------\n"
     ]
    },
    {
     "name": "stderr",
     "output_type": "stream",
     "text": [
      "[Parallel(n_jobs=25)]: Using backend LokyBackend with 25 concurrent workers.\n",
      "[Parallel(n_jobs=25)]: Done   5 out of  14 | elapsed:   24.8s remaining:   44.6s\n",
      "[Parallel(n_jobs=25)]: Done   9 out of  14 | elapsed:   28.6s remaining:   15.9s\n",
      "[Parallel(n_jobs=25)]: Done  14 out of  14 | elapsed:   36.2s finished\n",
      "[Parallel(n_jobs=25)]: Using backend LokyBackend with 25 concurrent workers.\n",
      "[Parallel(n_jobs=25)]: Done   5 out of  14 | elapsed:   21.5s remaining:   38.7s\n",
      "[Parallel(n_jobs=25)]: Done   9 out of  14 | elapsed:   31.3s remaining:   17.4s\n",
      "[Parallel(n_jobs=25)]: Done  14 out of  14 | elapsed:   37.7s finished\n"
     ]
    },
    {
     "name": "stdout",
     "output_type": "stream",
     "text": [
      "(4741, 32) (4545, 32) (9286, 32) Index(['window', 'ltime', 'likelihood_max_array', 'power', 'activity',\n",
      "       'rr_array', 'time', 'timestamp', 'localtime', 'ecg_rr_array', 'day',\n",
      "       'version', 'user', 'quality_features', 'activity_features',\n",
      "       'likelihood', 'likelihood_ind', 'length', 'rr', 'rr_col', 'length1',\n",
      "       'indicator', 'rr_col1', 'rr_features', 'rr_weighted_features',\n",
      "       'quality_mag', 'ecg_rr_array_final', 'ecg_features',\n",
      "       'stress_likelihood_ecg', 'stress_likelihood_ppg',\n",
      "       'stress_likelihood_ppg_qual', 'hand'],\n",
      "      dtype='object')\n",
      "saved ------------------------------\n"
     ]
    },
    {
     "name": "stderr",
     "output_type": "stream",
     "text": [
      "[Parallel(n_jobs=25)]: Using backend LokyBackend with 25 concurrent workers.\n",
      "[Parallel(n_jobs=25)]: Done   5 out of  14 | elapsed:   34.5s remaining:  1.0min\n",
      "[Parallel(n_jobs=25)]: Done   9 out of  14 | elapsed:   36.1s remaining:   20.0s\n",
      "[Parallel(n_jobs=25)]: Done  14 out of  14 | elapsed:   47.0s finished\n",
      "[Parallel(n_jobs=25)]: Using backend LokyBackend with 25 concurrent workers.\n",
      "[Parallel(n_jobs=25)]: Done   3 out of  12 | elapsed:   19.6s remaining:   58.8s\n",
      "[Parallel(n_jobs=25)]: Done   7 out of  12 | elapsed:   30.9s remaining:   22.1s\n",
      "[Parallel(n_jobs=25)]: Done  12 out of  12 | elapsed:   45.9s finished\n"
     ]
    },
    {
     "name": "stdout",
     "output_type": "stream",
     "text": [
      "(7386, 32) (5249, 32) (12635, 32) Index(['window', 'ltime', 'likelihood_max_array', 'power', 'activity',\n",
      "       'rr_array', 'time', 'timestamp', 'localtime', 'ecg_rr_array', 'day',\n",
      "       'version', 'user', 'quality_features', 'activity_features',\n",
      "       'likelihood', 'likelihood_ind', 'length', 'rr', 'rr_col', 'length1',\n",
      "       'indicator', 'rr_col1', 'rr_features', 'rr_weighted_features',\n",
      "       'quality_mag', 'ecg_rr_array_final', 'ecg_features',\n",
      "       'stress_likelihood_ecg', 'stress_likelihood_ppg',\n",
      "       'stress_likelihood_ppg_qual', 'hand'],\n",
      "      dtype='object')\n",
      "saved ------------------------------\n"
     ]
    }
   ],
   "source": [
    "from scipy.stats import iqr,skew,kurtosis\n",
    "from datetime import datetime\n",
    "from copy import deepcopy\n",
    "import math\n",
    "from scipy.stats import pearsonr\n",
    "from sklearn.externals.joblib import Parallel,delayed\n",
    "import warnings\n",
    "import pandas as pd\n",
    "import pickle\n",
    "import os\n",
    "import numpy as np\n",
    "from sklearn.metrics import r2_score\n",
    "from sklearn.preprocessing import StandardScaler\n",
    "import matplotlib.pyplot as plt\n",
    "\n",
    "warnings.filterwarnings('ignore')\n",
    "\n",
    "def weighted_avg_and_std(values, weights):\n",
    "    \"\"\"\n",
    "    Return the weighted average and standard deviation.\n",
    "\n",
    "    values, weights -- Numpy ndarrays with the same shape.\n",
    "    \"\"\"\n",
    "    average = np.average(values, weights=weights)\n",
    "    # Fast and numerically precise:\n",
    "    variance = np.average((values-average)**2, weights=weights)\n",
    "    return average, math.sqrt(variance)\n",
    "\n",
    "def get_rr_features(a):\n",
    "    return np.array([np.var(a),iqr(a),np.mean(a),np.median(a),np.percentile(a,80),np.percentile(a,20),60000/np.median(a)])\n",
    "\n",
    "\n",
    "def get_weighted_rr_features(a):\n",
    "    a = np.repeat(a[:,0],np.int64(np.round(100*a[:,1])))\n",
    "    return np.array([np.var(a),iqr(a),np.mean(a),np.median(a),np.percentile(a,80),np.percentile(a,20),60000/np.median(a)])\n",
    "\n",
    "\n",
    "def get_quality_features(a):\n",
    "    feature = [np.percentile(a,50),np.mean(a),\n",
    "               len(a[a>.2])/60,len(a[a>.6])/60]\n",
    "    return np.array(feature)\n",
    "\n",
    "def get_daywise(data):\n",
    "    return [a for i,a in data.groupby(['user','day'],as_index=False) if a[['likelihood_max_array','rr_array']].dropna().shape[0]>60]\n",
    "\n",
    "def parse_day_data(data_day):\n",
    "    data_day['likelihood_max_array'] = data_day['likelihood_max_array'].apply(lambda a:np.squeeze(a).reshape(-1,3))\n",
    "    data_day['likelihood'] = data_day['likelihood_max_array'].apply(lambda a:np.max(a,axis=1))\n",
    "    data_day['likelihood_ind'] = data_day['likelihood_max_array'].apply(lambda a:np.argmax(a,axis=1))\n",
    "    data_day['rr_array'] = data_day['rr_array'].apply(lambda a:np.squeeze(a).reshape(-1,3))\n",
    "    data_day['length'] = data_day['rr_array'].apply(lambda a:a.shape[0])\n",
    "    data_day = data_day[data_day.length>15]\n",
    "    if data_day.shape[0]<30:\n",
    "        return pd.DataFrame([],columns=data_day.columns)\n",
    "    data_day['time'] = data_day['ltime'].apply(lambda a:datetime.timestamp(a))\n",
    "    indexes = data_day['likelihood_ind'].values\n",
    "    rr_arrays = data_day['rr_array'].values\n",
    "    rrs = []\n",
    "    for i,rr in enumerate(rr_arrays):\n",
    "        index = indexes[i]\n",
    "        frr = np.squeeze(np.array([rr[i,index[i]] for i in range(rr.shape[0])]))\n",
    "        rrs.append(frr)\n",
    "    data_day['rr'] = rrs\n",
    "    data_day['rr_col'] = data_day.apply(lambda a: np.vstack([np.squeeze(a['rr']),np.squeeze(a['likelihood']),np.squeeze(a['activity'])]).T,\n",
    "                     axis=1)\n",
    "    return data_day\n",
    "\n",
    "def remove_3sd(heart_rate_window):\n",
    "    temp = deepcopy(heart_rate_window)\n",
    "    try:\n",
    "        r,tt = weighted_avg_and_std(heart_rate_window[heart_rate_window[:,1]>0,0],heart_rate_window[heart_rate_window[:,1]>0,1])\n",
    "        index = np.where((heart_rate_window[:,0]<r+3*tt)&(heart_rate_window[:,0]>r-3*tt))[0]\n",
    "        heart_rate_window = heart_rate_window[index]\n",
    "    except:\n",
    "        pass\n",
    "    if heart_rate_window.shape[0]>10:\n",
    "        return [heart_rate_window,'Available']\n",
    "    else:\n",
    "        return [temp[:10],'Not Available']\n",
    "\n",
    "\n",
    "import numpy as np\n",
    "from scipy import interpolate, signal\n",
    "import matplotlib.pyplot as plt\n",
    "from matplotlib import style\n",
    "style.use('ggplot')\n",
    "import matplotlib.patches as mpatches\n",
    "from collections import OrderedDict\n",
    "\n",
    "def frequencyDomain(RRints,tmStamps, band_type = None, lf_bw = 0.11, hf_bw = 0.1, plot = 0):\n",
    "    \n",
    "    #Remove ectopic beats\n",
    "    #RR intervals differing by more than 20% from the one proceeding it are removed\n",
    "    NNs = []\n",
    "    tss = []\n",
    "    for c, rr in enumerate(RRints):        \n",
    "        if abs(rr - RRints[c-1]) <= 0.20 * RRints[c-1]:\n",
    "            NNs.append(rr)\n",
    "            tss.append(tmStamps[c])\n",
    "            \n",
    "            \n",
    "    frequency_range = np.linspace(0.001, 1, 10000)\n",
    "    NNs = np.array(NNs)\n",
    "    NNs = NNs - np.mean(NNs)\n",
    "    result = signal.lombscargle(tss, NNs, frequency_range)\n",
    "        \n",
    "    #Pwelch w/ zero pad     \n",
    "    fxx = frequency_range \n",
    "    pxx = result \n",
    "    \n",
    "    vlf= (0.003, 0.04)\n",
    "    lf = (0.04, 0.15)\n",
    "    hf = (0.15, 0.4)\n",
    "    \n",
    "    plot_labels = ['VLF', 'LF', 'HF']\n",
    "        \n",
    "    if band_type == 'adapted':     \n",
    "            \n",
    "        vlf_peak = fxx[np.where(pxx == np.max(pxx[np.logical_and(fxx >= vlf[0], fxx < vlf[1])]))[0][0]] \n",
    "        lf_peak = fxx[np.where(pxx == np.max(pxx[np.logical_and(fxx >= lf[0], fxx < lf[1])]))[0][0]]\n",
    "        hf_peak = fxx[np.where(pxx == np.max(pxx[np.logical_and(fxx >= hf[0], fxx < hf[1])]))[0][0]]\n",
    "    \n",
    "        peak_freqs =  (vlf_peak, lf_peak, hf_peak) \n",
    "            \n",
    "        hf = (peak_freqs[2] - hf_bw/2, peak_freqs[2] + hf_bw/2)\n",
    "        lf = (peak_freqs[1] - lf_bw/2, peak_freqs[1] + lf_bw/2)   \n",
    "        vlf = (0.003, lf[0])\n",
    "        \n",
    "        if lf[0] < 0:\n",
    "            print('***Warning***: Adapted LF band lower bound spills into negative frequency range')\n",
    "            print('Lower thresold of LF band has been set to zero')\n",
    "            print('Adjust LF and HF bandwidths accordingly')\n",
    "            lf = (0, lf[1])        \n",
    "            vlf = (0, 0)\n",
    "        elif hf[0] < 0:\n",
    "            print('***Warning***: Adapted HF band lower bound spills into negative frequency range')\n",
    "            print('Lower thresold of HF band has been set to zero')\n",
    "            print('Adjust LF and HF bandwidths accordingly')\n",
    "            hf = (0, hf[1])        \n",
    "            lf = (0, 0)        \n",
    "            vlf = (0, 0)\n",
    "            \n",
    "        plot_labels = ['Adapted_VLF', 'Adapted_LF', 'Adapted_HF']\n",
    "\n",
    "    df = fxx[1] - fxx[0]\n",
    "    vlf_power = np.trapz(pxx[np.logical_and(fxx >= vlf[0], fxx < vlf[1])], dx = df)      \n",
    "    lf_power = np.trapz(pxx[np.logical_and(fxx >= lf[0], fxx < lf[1])], dx = df)            \n",
    "    hf_power = np.trapz(pxx[np.logical_and(fxx >= hf[0], fxx < hf[1])], dx = df)             \n",
    "    totalPower = vlf_power + lf_power + hf_power\n",
    "    \n",
    "    #Normalize and take log\n",
    "    vlf_NU_log = np.log((vlf_power / (totalPower - vlf_power)) + 1)\n",
    "    lf_NU_log = np.log((lf_power / (totalPower - vlf_power)) + 1)\n",
    "    hf_NU_log = np.log((hf_power / (totalPower - vlf_power)) + 1)\n",
    "    lfhfRation_log = np.log((lf_power / hf_power) + 1)   \n",
    "    \n",
    "    freqDomainFeats = {'VLF_Power': vlf_NU_log, 'LF_Power': lf_NU_log,\n",
    "                       'HF_Power': hf_NU_log, 'LF/HF': lfhfRation_log}\n",
    "                       \n",
    "    if plot == 1:\n",
    "        #Plot option\n",
    "        freq_bands = {'vlf': vlf, 'lf': lf, 'hf': hf}\n",
    "        freq_bands = OrderedDict(sorted(freq_bands.items(), key=lambda t: t[0]))\n",
    "        colors = ['lightsalmon', 'lightsteelblue', 'darkseagreen']\n",
    "        fig, ax = plt.subplots(1)\n",
    "        ax.plot(fxx, pxx, c = 'grey')\n",
    "        plt.xlim([0, 0.40])\n",
    "        plt.xlabel(r'Frequency $(Hz)$')\n",
    "        plt.ylabel(r'PSD $(s^2/Hz$)')\n",
    "        \n",
    "        for c, key in enumerate(freq_bands):\n",
    "            ax.fill_between(fxx[min(np.where(fxx >= freq_bands[key][0])[0]): max(np.where(fxx <= freq_bands[key][1])[0])],\n",
    "                            pxx[min(np.where(fxx >= freq_bands[key][0])[0]): max(np.where(fxx <= freq_bands[key][1])[0])],\n",
    "                            0, facecolor = colors[c])\n",
    "            \n",
    "        patch1 = mpatches.Patch(color = colors[0], label = plot_labels[2])\n",
    "        patch2 = mpatches.Patch(color = colors[1], label = plot_labels[1])\n",
    "        patch3 = mpatches.Patch(color = colors[2], label = plot_labels[0])\n",
    "        plt.legend(handles = [patch1, patch2, patch3])\n",
    "        plt.show()\n",
    "\n",
    "    return freqDomainFeats\n",
    "    \n",
    "def get_features_all(a):\n",
    "    tmp = list(frequencyDomain(np.array(a[:,0])/1000,np.cumsum(a[:,0])/1000).values())\n",
    "    return np.array(list(get_weighted_rr_features(a))+list(tmp))\n",
    "\n",
    "def parse_for_features(data_day):\n",
    "    data_day['rr_col'] = data_day['rr_col'].apply(lambda a:a[np.where((a[:,0]>300)&(a[:,0]<1500)&(a[:,2]<.2))[0],:2])\n",
    "    data_day['rr_col'] = data_day['rr_col'].apply(lambda a:remove_3sd(a))\n",
    "    data_day['length1'] = data_day['rr_col'].apply(lambda a:a[0].shape[0])\n",
    "    data_day = data_day[data_day.length1>15]\n",
    "    print(data_day.shape,'rr')\n",
    "    if data_day.shape[0]<15:\n",
    "        return pd.DataFrame([],columns=data_day.columns)\n",
    "    data_day['indicator'] = data_day['rr_col'].apply(lambda a:a[1])\n",
    "    data_day['rr_col'] = data_day['rr_col'].apply(lambda a:a[0])\n",
    "    data_day['likelihood'] = data_day['rr_col'].apply(lambda a:a[:,1])\n",
    "    data_day['rr'] = data_day['rr_col'].apply(lambda a:a[:,0])\n",
    "    data_day['rr_col1'] = data_day.apply(lambda a:np.vstack([list(a['rr']),list(a['likelihood'])]).T,axis=1)\n",
    "    data_day['rr_features'] = data_day['rr'].apply(lambda a:get_rr_features(a))\n",
    "    data_day['rr_weighted_features'] = data_day['rr_col1'].apply(lambda a:get_features_all(a))\n",
    "    data_day['quality_features'] = data_day['likelihood'].apply(lambda a:get_quality_features(a))\n",
    "    data_day['quality_mag'] = data_day['quality_features'].apply(lambda a:np.sum(a)/len(a))\n",
    "    return data_day\n",
    "\n",
    "def normalize_daywise(feature_matrix,quals1):\n",
    "    for i in range(feature_matrix.shape[1]):\n",
    "        m,s = weighted_avg_and_std(feature_matrix[:,i], quals1)\n",
    "        feature_matrix[:,i]  = (feature_matrix[:,i] - m)/s\n",
    "    return feature_matrix\n",
    "\n",
    "def smooth(y, box_pts=10):\n",
    "    box = np.ones(box_pts)/box_pts\n",
    "    y_smooth = np.convolve(y, box, mode='same')\n",
    "    return y_smooth\n",
    "\n",
    "def parse_day_data_ecg(data_day):\n",
    "    data_day = data_day[['ecg_rr_array','ltime','window']].dropna()\n",
    "    data_day['count_ecg'] = data_day['ecg_rr_array'].apply(lambda a:len(a))\n",
    "    data_day = data_day[data_day.count_ecg>15]\n",
    "    if data_day.shape[0]<30:\n",
    "        return pd.DataFrame([],columns=['ecg_rr_array','ltime','window','count_ecg','ecg_rr_array_final','ecg_features'])\n",
    "    data_day['ecg_rr_array_final'] = data_day['ecg_rr_array']\n",
    "    data_day['ecg_features'] = data_day['ecg_rr_array_final'].apply(lambda a:np.array(list(get_rr_features(a))+list(frequencyDomain(np.array(a)/1000,\n",
    "                                                                                                                           np.cumsum(a)/1000).values())))\n",
    "    return data_day\n",
    "\n",
    "def parse_each_day_ppg_ecg(a):\n",
    "    try:\n",
    "        columns = ['window', 'ltime', 'likelihood_max_array', 'activity', 'rr_array',\n",
    "           'time', 'timestamp', 'likelihood_mean', 'localtime', 'ecg_rr_array',\n",
    "           'day', 'version', 'user', 'quality_features', 'activity_features', 'likelihood', 'likelihood_ind', 'length', 'rr', 'rr_col',\n",
    "           'length1', 'indicator', 'rr_col1', 'rr_features',\n",
    "           'rr_weighted_features', 'quality_mag', 'ecg_rr_array_final', 'ecg_features']\n",
    "        ecg_columns = ['window', 'ecg_rr_array_final','ecg_features']\n",
    "    #     a = a.drop(['stress_likelihood', 'stress_likelihood_ecg'],axis=1)\n",
    "        a_ecg = pd.DataFrame([],columns=ecg_columns)\n",
    "        if a['ecg_rr_array'].dropna().shape[0]>60:\n",
    "            a_ecg = parse_day_data_ecg(deepcopy(a))\n",
    "            a_ecg = a_ecg[ecg_columns]\n",
    "        a_ppg = parse_day_data(a)\n",
    "        if a_ppg.shape[0]==0:\n",
    "            return pd.DataFrame([],columns=columns)\n",
    "        a_ppg = parse_for_features(a_ppg)\n",
    "        if a_ppg.shape[0]==0:\n",
    "            return pd.DataFrame([],columns=columns)\n",
    "        a_ppg = pd.merge(a_ppg, a_ecg, how='left',left_on=['window'],right_on=['window'])\n",
    "        if a_ppg.shape[0]<60:\n",
    "            return pd.DataFrame([],columns=columns)\n",
    "        return a_ppg\n",
    "    except:\n",
    "        return pd.DataFrame([],columns=columns)\n",
    "\n",
    "def get_ppg_stress(a):\n",
    "    clf = pickle.load(open('../models/stress_ppg_final.p','rb'))\n",
    "    quals1 = np.array(list(a['quality_mag'].values))\n",
    "    feature_matrix = np.array(list(a['rr_weighted_features']))\n",
    "    if len(feature_matrix)<60:\n",
    "        a['stress_likelihood_ppg'] = np.nan\n",
    "        return a\n",
    "    ss = np.repeat(feature_matrix[:,2],np.int64(np.round(100*quals1)))\n",
    "    rr_70th = np.percentile(ss,40)\n",
    "    rr_95th = np.percentile(ss,99)\n",
    "    index = np.where((feature_matrix[:,2]>rr_70th)&(feature_matrix[:,2]<rr_95th))[0]\n",
    "    for i in range(feature_matrix.shape[1]):\n",
    "        m,s = weighted_avg_and_std(feature_matrix[index,i], quals1[index])\n",
    "        feature_matrix[:,i]  = (feature_matrix[:,i] - m)/s\n",
    "    probs = clf.predict_proba(np.nan_to_num(feature_matrix))[:,1]\n",
    "    a['stress_likelihood_ppg'] = probs\n",
    "#     a1 = a[['time','stress_likelihood_ecg','quality_mag']].dropna().sort_values('time').reset_index(drop=True)\n",
    "#     plt.figure(figsize=(16,8))\n",
    "#     plt.plot(a1['time'],a1['stress_likelihood_ecg'],'*-k')\n",
    "#     a1 = a[['time','stress_likelihood_ppg','quality_mag']].dropna().sort_values('time').reset_index(drop=True)\n",
    "#     from sklearn.gaussian_process import GaussianProcessRegressor\n",
    "#     from sklearn.gaussian_process.kernels import RBF\n",
    "#     y = a1['stress_likelihood_ppg']\n",
    "#     m = np.mean(y)\n",
    "#     y = y \n",
    "#     X = a[['time','quality_mag']].values\n",
    "#     X = StandardScaler().fit_transform(X)\n",
    "#     X[:,0] = X[:,0] - np.mean(X[:,0])\n",
    "#     print(X.shape)\n",
    "#     gpr = GaussianProcessRegressor(kernel=RBF(length_scale=20),random_state=0).fit(X, y)\n",
    "#     X_pred = X\n",
    "#     X_pred[:,1] = np.mean(X[:,1])\n",
    "#     y1 = gpr.predict(X_pred,return_std=False)\n",
    "# #     plt.scatter(a1['time'],a1['stress_likelihood_ppg'],c=a['quality_mag'])\n",
    "#     plt.plot(a1['time'],a1['stress_likelihood_ppg'],'o-r')\n",
    "#     plt.plot(a1['time'],y1,'o-k')\n",
    "#     plt.bar(a1['time'],a1['quality_mag'],500,color='blue')\n",
    "#     plt.show()\n",
    "    return a\n",
    "\n",
    "def get_ecg_stress(a):\n",
    "    clf = pickle.load(open('../models/stress_ecg_final.p','rb'))\n",
    "    a_ecg = deepcopy(a[['window','ecg_features']].dropna())\n",
    "    feature_matrix = np.array(list(a_ecg['ecg_features']))\n",
    "    if len(feature_matrix)<60:\n",
    "        a['stress_likelihood_ecg'] = np.nan\n",
    "        return a\n",
    "    rr_70th = np.percentile(feature_matrix[:,2],60)\n",
    "    rr_95th = np.percentile(feature_matrix[:,2],99)\n",
    "    index = np.where((feature_matrix[:,2]>rr_70th)&(feature_matrix[:,2]<rr_95th))[0]\n",
    "    means = np.mean(feature_matrix[index],axis=0)\n",
    "    stds = np.std(feature_matrix[index],axis=0)\n",
    "    feature_matrix = (feature_matrix - means)/stds\n",
    "    probs = clf.predict_proba(feature_matrix)[:,1]\n",
    "    a_ecg['stress_likelihood_ecg'] = probs\n",
    "    a_ecg = a_ecg.drop(['ecg_features'],axis=1)\n",
    "    a = pd.merge(a, a_ecg, how='left', left_on=['window'], right_on=['window'])\n",
    "    return a\n",
    "\n",
    "def get_all_data(data,hand='left'):\n",
    "    ema = data[['user','day','window','time','ltime','all_scores','score','label']]\n",
    "    data = data.drop(['all_scores','score','label'],axis=1)\n",
    "    data_all = get_daywise(data)\n",
    "    if len(data_all)==0:\n",
    "        return pd.DataFrame([],columns=['c']), pd.DataFrame([],columns=['c'])\n",
    "    final_output = Parallel(n_jobs=25,verbose=4)(delayed(parse_each_day_ppg_ecg)(a) for a in data_all)\n",
    "#     final_output = [parse_each_day_ppg_ecg(a) for a in data_all]\n",
    "    final_output = [a for a in final_output if a.shape[0]>0]\n",
    "    if len(final_output)==0:\n",
    "        return pd.DataFrame([],columns=['c']), pd.DataFrame([],columns=['c'])\n",
    "    final_output = pd.concat(final_output)\n",
    "    final_output = get_ecg_stress(final_output)\n",
    "    final_output = get_ppg_stress(final_output)\n",
    "    final_output['stress_likelihood_ppg_qual'] = final_output['stress_likelihood_ppg']\n",
    "    final_output['hand'] = hand\n",
    "    return final_output,ema\n",
    "\n",
    "def parse_each_participant(directory_left,directory_right,d):\n",
    "    left_data,ema_left = get_all_data(pickle.load(open(directory_left+d,'rb')).reset_index(drop=True),'left')\n",
    "    right_data,ema_right = get_all_data(pickle.load(open(directory_right+d,'rb')).reset_index(drop=True),'right')\n",
    "    data = pd.concat([a for a in [left_data,right_data] if a.shape[0]>0])\n",
    "    print(left_data.shape,right_data.shape,data.shape,left_data.columns)\n",
    "    if data.shape[0]>0:\n",
    "        pickle.dump([data,ema_left,ema_right],open(directory1+d,'wb'))\n",
    "        print('saved','-'*30)\n",
    "    return 0\n",
    "\n",
    "directory_left = '../../cc3/rice_data/ecg_ppg_5_left_final/'\n",
    "directory_right = '../../cc3/rice_data/ecg_ppg_5_right_final/'\n",
    "directory1 = '../../cc3/rice_data/ecg_ppg_final_day/'\n",
    "# all_data = Parallel(n_jobs=30,verbose=2)(delayed(parse_each_participant)(directory_left,directory_right,d) for d in np.intersect1d(os.listdir(directory_left),os.listdir(directory_right)) if d[-1]=='p')\n",
    "all_data = [parse_each_participant(directory_left,directory_right,d) for d in np.intersect1d(os.listdir(directory_left),os.listdir(directory_right)) if d[-1]=='p']"
   ]
  },
  {
   "cell_type": "code",
   "execution_count": 2,
   "metadata": {},
   "outputs": [],
   "source": [
    "import os\n",
    "import pickle\n",
    "import numpy as np\n",
    "import pandas as pd\n",
    "from pandas.core.window import _flex_binary_moment, _Rolling_and_Expanding\n",
    "import matplotlib.pyplot as plt\n",
    "\n",
    "def weighted_mean(self, weights, **kwargs):\n",
    "    weights = self._shallow_copy(weights)\n",
    "    window = self._get_window(weights)\n",
    "\n",
    "    def _get_weighted_mean(X, Y):\n",
    "        X = X.astype('float64')\n",
    "        Y = Y.astype('float64')\n",
    "        sum_f = lambda x: x.rolling(window, self.min_periods, center=self.center).sum(**kwargs)\n",
    "        return sum_f(X * Y) / sum_f(Y)\n",
    "\n",
    "    return _flex_binary_moment(self._selected_obj, weights._selected_obj,\n",
    "                               _get_weighted_mean, pairwise=True)\n",
    "\n",
    "directory1 = '../../cc3/rice_data/ecg_ppg_final_day/'\n",
    "directory2 = '../../cc3/rice_data/ecg_ppg_final_weighted_day/'\n",
    "directory_ema = '../../cc3/rice_data/ecg_ppg_ema_final/'\n",
    "for f in os.listdir(directory1):\n",
    "    if f[-1]!='p':\n",
    "        continue\n",
    "    if f not in os.listdir(directory_ema):\n",
    "        continue\n",
    "    data = pickle.load(open(directory1+f,'rb'))\n",
    "    a = data[0]\n",
    "    this_participant = []\n",
    "    stress_all = a[['time','ltime','stress_likelihood_ppg','quality_mag','day','activity','hand','rr_weighted_features']].dropna()\n",
    "    stress_all['hr'] = stress_all['rr_weighted_features'].apply(lambda a:a[-5])\n",
    "    stress_days = [a for i,a in stress_all.groupby(['hand','day'],as_index=False) if a.shape[0]>180]\n",
    "    _Rolling_and_Expanding.weighted_mean = weighted_mean\n",
    "    for a in stress_days:\n",
    "        a = a.sort_values('time').reset_index(drop=True)\n",
    "        a['stress_likelihood_ppg_qual'] = a['stress_likelihood_ppg'].rolling(window = 5).weighted_mean(a['quality_mag'])\n",
    "        a['qual'] = a['quality_mag'].rolling(window = 5).weighted_mean(a['quality_mag'])\n",
    "        a['hr'] = a['hr'].rolling(window = 5).weighted_mean(a['quality_mag'])\n",
    "        this_participant.append(a)\n",
    "    data = pd.concat(this_participant)\n",
    "    ema = pickle.load(open(directory_ema+f,'rb'))\n",
    "#     print(ema.columns)\n",
    "    ema = ema.sort_values('score').reset_index(drop=True)\n",
    "    diff = np.array([0] + list(np.diff(ema['score'].values)))\n",
    "    diff[np.where(ema['score'].values<np.percentile(ema['score'].values,50))[0]] = 0\n",
    "    ind_max = np.argmax(diff)\n",
    "    if ind_max<3:\n",
    "        continue\n",
    "    ema['label'] = [0]*(ind_max-1) + [1]*(ema.shape[0]-ind_max+1)\n",
    "    pickle.dump([data,ema],open(directory2+f,'wb'))\n",
    "#         plt.figure(figsize=(18,10))\n",
    "#         plt.plot(a['time'],a['stress_likelihood_ppg_qual'],'*-r')\n",
    "#         plt.plot(a['time'],a['hr']/np.max(a['hr']),'o-c')\n",
    "#         plt.title(np.max(a['hr']))\n",
    "#         plt.bar(a['time'],a['qual'],50)\n",
    "#         plt.show()"
   ]
  },
  {
   "cell_type": "code",
   "execution_count": 3,
   "metadata": {},
   "outputs": [],
   "source": [
    "import os\n",
    "import pickle\n",
    "import numpy as np\n",
    "import pandas as pd\n",
    "from pandas.core.window import _flex_binary_moment, _Rolling_and_Expanding\n",
    "import matplotlib.pyplot as plt\n",
    "directory2 = '../../cc3/rice_data/ecg_ppg_final_weighted_day/'\n",
    "count = 0\n",
    "df_col = []\n",
    "ema_day = []\n",
    "for f in os.listdir(directory2):\n",
    "    if f[-1]!='p':\n",
    "        continue\n",
    "    data,ema = pickle.load(open(directory2+f,'rb'))\n",
    "    for day in ema['day'].unique():\n",
    "        ema_day.append(ema[ema.day==day])\n",
    "        if ema_day[-1].shape[0]<1:\n",
    "            ema_day = ema_day[:-1]\n",
    "            continue\n",
    "        if data[data.day==day]['stress_likelihood_ppg_qual'].dropna().shape[0]<120:\n",
    "            ema_day = ema_day[:-1]\n",
    "            continue\n",
    "        df_col.append(data[data.day==day])\n",
    "#         count+=ema_day[-1].shape[0]\n"
   ]
  },
  {
   "cell_type": "code",
   "execution_count": 4,
   "metadata": {},
   "outputs": [
    {
     "name": "stdout",
     "output_type": "stream",
     "text": [
      "Populating the interactive namespace from numpy and matplotlib\n"
     ]
    }
   ],
   "source": [
    "len(df_col),len(ema_day)\n",
    "import numpy as np\n",
    "import pylab as pb\n",
    "import GPy \n",
    "%pylab inline\n",
    "def get_predictions(X,Y,error):\n",
    "    X = (X - np.mean(X))/np.std(X)\n",
    "    mm = np.mean(Y)\n",
    "    ss = np.std(Y)\n",
    "    Y = (Y-np.mean(Y))/ss\n",
    "    kern =  GPy.kern.RBF(input_dim=1) + GPy.kern.MLP(1) \n",
    "    Y_meta = {'output_index':np.arange(len(Y))[:,None]}\n",
    "    m = GPy.models.GPHeteroscedasticRegression(X[:,None],Y[:,None],kern,Y_metadata=Y_meta)\n",
    "    m['.*het_Gauss.variance'] = np.abs(error)[:,None] #Set the noise parameters to the error in Y\n",
    "    m.het_Gauss.variance.fix() #We can fix the noise term, since we already know it\n",
    "    m.optimize()\n",
    "    preds,varss  = m.predict(m.X,full_cov=False,Y_metadata=None,kern=None,likelihood=None,include_likelihood=False)\n",
    "    return preds*ss+mm,varss"
   ]
  },
  {
   "cell_type": "code",
   "execution_count": 5,
   "metadata": {},
   "outputs": [],
   "source": [
    "import numpy as np\n",
    "data_data = []\n",
    "for duration in np.arange(5,225,5):\n",
    "    all_data = []\n",
    "    all_emas = []\n",
    "    all_users = []\n",
    "    hands = []\n",
    "    for i in range(len(df_col)):\n",
    "        data = df_col[i].sort_values('time').reset_index(drop=True)\n",
    "        ema = ema_day[i].sort_values('time').reset_index(drop=True)\n",
    "        ema['label_final'] = ema['score'] - np.mean(ema['score'])\n",
    "        ema['label_final'] = np.sign(ema['label_final'])\n",
    "        for hand in ['left','right']:\n",
    "            for j,row in ema.iterrows():\n",
    "                temp_data = data[(data.time>=row['time']-duration*60) & (data.time<row['time']) & (data.hand==hand)].sort_values('time').reset_index(drop=True)\n",
    "                if temp_data.shape[0]>duration/3 and temp_data['time'].values[-1]-temp_data['time'].values[0]>duration*60/3:\n",
    "                    all_data.append(temp_data)\n",
    "                    all_emas.append(row)\n",
    "                    all_users.append(row['user'])\n",
    "                    hands.append(hand)\n",
    "    data_data.append([duration,all_data,all_emas,all_users,hands])\n",
    "    pickle.dump(data_data,open('../data/data_emas_all_duration_day.p','wb'))\n",
    "    "
   ]
  },
  {
   "cell_type": "code",
   "execution_count": 6,
   "metadata": {},
   "outputs": [
    {
     "name": "stdout",
     "output_type": "stream",
     "text": [
      "Populating the interactive namespace from numpy and matplotlib\n"
     ]
    },
    {
     "data": {
      "text/plain": [
       "545"
      ]
     },
     "execution_count": 6,
     "metadata": {},
     "output_type": "execute_result"
    }
   ],
   "source": [
    "import numpy as np\n",
    "import pylab as pb\n",
    "import GPy \n",
    "%pylab inline\n",
    "def get_predictions(X,Y,error):\n",
    "    X = (X - np.mean(X))/np.std(X)\n",
    "    mm = np.mean(Y)\n",
    "    ss = np.std(Y)\n",
    "    Y = (Y-np.mean(Y))/ss\n",
    "    kern =  GPy.kern.RBF(input_dim=1) + GPy.kern.MLP(1) \n",
    "    Y_meta = {'output_index':np.arange(len(Y))[:,None]}\n",
    "    m = GPy.models.GPHeteroscedasticRegression(X[:,None],Y[:,None],kern,Y_metadata=Y_meta)\n",
    "    m['.*het_Gauss.variance'] = np.abs(error)[:,None] #Set the noise parameters to the error in Y\n",
    "    m.het_Gauss.variance.fix() #We can fix the noise term, since we already know it\n",
    "    m.optimize()\n",
    "    preds,varss  = m.predict(m.X,full_cov=False,Y_metadata=None,kern=None,likelihood=None,include_likelihood=False)\n",
    "    return preds*ss+mm,varss\n",
    "len(df_col)"
   ]
  },
  {
   "cell_type": "code",
   "execution_count": 7,
   "metadata": {},
   "outputs": [
    {
     "name": "stderr",
     "output_type": "stream",
     "text": [
      "[Parallel(n_jobs=-1)]: Using backend LokyBackend with 48 concurrent workers.\n",
      "[Parallel(n_jobs=-1)]: Done  66 tasks      | elapsed:  1.8min\n",
      "[Parallel(n_jobs=-1)]: Done 269 tasks      | elapsed:  9.8min\n",
      "[Parallel(n_jobs=-1)]: Done 545 out of 545 | elapsed: 16.9min finished\n"
     ]
    }
   ],
   "source": [
    "def save_pdf(data,ema,i):\n",
    "    g= data.dropna()\n",
    "    g['hour'] = g['ltime'].apply(lambda a:a.hour)\n",
    "    g = g[(g.hour>=6) & (g.hour<20)]\n",
    "    if g.shape[0]<100:\n",
    "        return 0\n",
    "    g['ltime_str'] = g['ltime'].apply(lambda a:a.strftime(\"%H:%M\"))\n",
    "    preds,varss = get_predictions(g['time'].values,g['stress_likelihood_ppg_qual'].values,(1-g['quality_mag'].values)/4)\n",
    "    plt.figure(figsize=(19,10))\n",
    "    plt.plot((g['time']-np.min(g['time']))/60,g['stress_likelihood_ppg_qual'],'*-y',linewidth=1,label='Stress Likelihood')\n",
    "    plt.plot((g['time']-np.min(g['time']))/60,preds,'*-k',linewidth=3,label='Stress Likelihood Post Processed by GP')\n",
    "    #         plt.plot((g['time']-np.min(g['time']))/60,g['stress_likelihood_ppg'],'y',linestyle='--')\n",
    "    plt.bar((g['time']-np.min(g['time']))/60,g['quality_mag'],4,alpha=1,label='Minute Level Quality Metric')\n",
    "    #         for j,row in ema.iterrows():\n",
    "    #             print(row['label'])\n",
    "    #             if np.int64(row['label'])==1:\n",
    "    row = ema[ema.label==1]\n",
    "    if row.shape[0]>0:\n",
    "        plt.bar((row['time']-np.min(g['time']))/60,[1]*row.shape[0],10,alpha=1,label='Stress EMA',color='darkred')\n",
    "    #             else:\n",
    "    row = ema[ema.label==0]\n",
    "    if row.shape[0]>0:\n",
    "        plt.bar((row['time']-np.min(g['time']))/60,[1]*row.shape[0],10,alpha=1,label='Not Stress EMA',color='darkgreen')\n",
    "    plt.legend(ncol=5)\n",
    "    plt.xticks(np.array((g['time']-np.min(g['time']))/60)[np.arange(g.shape[0])%10==0],g['ltime_str'][np.arange(g.shape[0])%10==0],rotation=60)\n",
    "    plt.ylim([0,1.2])\n",
    "    plt.xlabel('Time of Day')\n",
    "#     plt.ylabel('Likelihood Values')\n",
    "    plt.savefig('../pics_day/'+str(i)+'.pdf',dps=1e6)\n",
    "    plt.close('all')\n",
    "    return 0\n",
    "from joblib import Parallel,delayed\n",
    "ouput = Parallel(n_jobs=-1,verbose=2)(delayed(save_pdf)(df_col[i].sort_values('time').reset_index(drop=True),\n",
    "                                                        ema_day[i].sort_values('time').reset_index(drop=True),\n",
    "                                                       i) for i in range(len(df_col)))\n",
    "    #         plt.bar((g['time']-np.min(g['time']))/60,g['activity_f'],.2,alpha=.5,color='r')\n",
    "#     plt.show()"
   ]
  },
  {
   "cell_type": "code",
   "execution_count": null,
   "metadata": {},
   "outputs": [],
   "source": [
    "import shutil\n",
    "shutil.make_archive('../pics_day/','zip','../pics_day/')"
   ]
  },
  {
   "cell_type": "code",
   "execution_count": 9,
   "metadata": {},
   "outputs": [
    {
     "ename": "ModuleNotFoundError",
     "evalue": "No module named 'pyPdf'",
     "output_type": "error",
     "traceback": [
      "\u001b[0;31m---------------------------------------------------------------------------\u001b[0m",
      "\u001b[0;31mModuleNotFoundError\u001b[0m                       Traceback (most recent call last)",
      "\u001b[0;32m<ipython-input-9-e624d241fa67>\u001b[0m in \u001b[0;36m<module>\u001b[0;34m\u001b[0m\n\u001b[1;32m      1\u001b[0m \u001b[0;32mtry\u001b[0m\u001b[0;34m:\u001b[0m\u001b[0;34m\u001b[0m\u001b[0;34m\u001b[0m\u001b[0m\n\u001b[0;32m----> 2\u001b[0;31m     \u001b[0;32mfrom\u001b[0m \u001b[0mPyPDF2\u001b[0m \u001b[0;32mimport\u001b[0m \u001b[0mPdfFileReader\u001b[0m\u001b[0;34m,\u001b[0m \u001b[0mPdfFileWriter\u001b[0m\u001b[0;34m\u001b[0m\u001b[0;34m\u001b[0m\u001b[0m\n\u001b[0m\u001b[1;32m      3\u001b[0m \u001b[0;32mexcept\u001b[0m\u001b[0;34m:\u001b[0m\u001b[0;34m\u001b[0m\u001b[0;34m\u001b[0m\u001b[0m\n",
      "\u001b[0;31mModuleNotFoundError\u001b[0m: No module named 'PyPDF2'",
      "\nDuring handling of the above exception, another exception occurred:\n",
      "\u001b[0;31mModuleNotFoundError\u001b[0m                       Traceback (most recent call last)",
      "\u001b[0;32m<ipython-input-9-e624d241fa67>\u001b[0m in \u001b[0;36m<module>\u001b[0;34m\u001b[0m\n\u001b[1;32m      2\u001b[0m     \u001b[0;32mfrom\u001b[0m \u001b[0mPyPDF2\u001b[0m \u001b[0;32mimport\u001b[0m \u001b[0mPdfFileReader\u001b[0m\u001b[0;34m,\u001b[0m \u001b[0mPdfFileWriter\u001b[0m\u001b[0;34m\u001b[0m\u001b[0;34m\u001b[0m\u001b[0m\n\u001b[1;32m      3\u001b[0m \u001b[0;32mexcept\u001b[0m\u001b[0;34m:\u001b[0m\u001b[0;34m\u001b[0m\u001b[0;34m\u001b[0m\u001b[0m\n\u001b[0;32m----> 4\u001b[0;31m     \u001b[0;32mfrom\u001b[0m \u001b[0mpyPdf\u001b[0m \u001b[0;32mimport\u001b[0m \u001b[0mPdfFileReader\u001b[0m\u001b[0;34m,\u001b[0m \u001b[0mPdfFileWriter\u001b[0m\u001b[0;34m\u001b[0m\u001b[0;34m\u001b[0m\u001b[0m\n\u001b[0m",
      "\u001b[0;31mModuleNotFoundError\u001b[0m: No module named 'pyPdf'"
     ]
    }
   ],
   "source": [
    "try:\n",
    "    from PyPDF2 import PdfFileReader, PdfFileWriter\n",
    "except:\n",
    "    from pyPdf import PdfFileReader, PdfFileWriter"
   ]
  },
  {
   "cell_type": "code",
   "execution_count": null,
   "metadata": {},
   "outputs": [],
   "source": []
  }
 ],
 "metadata": {
  "kernelspec": {
   "display_name": "CC3 High Performance",
   "language": "python",
   "name": "cc3_high_performance"
  },
  "language_info": {
   "codemirror_mode": {
    "name": "ipython",
    "version": 3
   },
   "file_extension": ".py",
   "mimetype": "text/x-python",
   "name": "python",
   "nbconvert_exporter": "python",
   "pygments_lexer": "ipython3",
   "version": "3.6.8"
  }
 },
 "nbformat": 4,
 "nbformat_minor": 4
}
