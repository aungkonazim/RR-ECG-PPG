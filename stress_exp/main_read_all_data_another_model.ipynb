{
 "cells": [
  {
   "cell_type": "code",
   "execution_count": 5,
   "metadata": {},
   "outputs": [
    {
     "name": "stdout",
     "output_type": "stream",
     "text": [
      "(16888, 20) 35109a64-411d-4768-9602-c0a3d519a088.p\n"
     ]
    },
    {
     "name": "stderr",
     "output_type": "stream",
     "text": [
      "[Parallel(n_jobs=25)]: Using backend LokyBackend with 25 concurrent workers.\n",
      "[Parallel(n_jobs=25)]: Done   2 out of  15 | elapsed:    5.0s remaining:   32.4s\n",
      "[Parallel(n_jobs=25)]: Done   6 out of  15 | elapsed:    5.7s remaining:    8.6s\n",
      "[Parallel(n_jobs=25)]: Done  10 out of  15 | elapsed:    6.0s remaining:    3.0s\n",
      "[Parallel(n_jobs=25)]: Done  15 out of  15 | elapsed:    6.6s finished\n"
     ]
    },
    {
     "name": "stdout",
     "output_type": "stream",
     "text": [
      "(14140, 31)\n",
      "(5739, 20) 9b3e5f2e-99e8-4c4c-8580-6f4e2b107e37.p\n"
     ]
    },
    {
     "name": "stderr",
     "output_type": "stream",
     "text": [
      "[Parallel(n_jobs=25)]: Using backend LokyBackend with 25 concurrent workers.\n",
      "[Parallel(n_jobs=25)]: Done   3 out of   6 | elapsed:    3.1s remaining:    3.1s\n",
      "[Parallel(n_jobs=25)]: Done   6 out of   6 | elapsed:    4.7s finished\n"
     ]
    },
    {
     "name": "stdout",
     "output_type": "stream",
     "text": [
      "(3869, 31)\n",
      "(12828, 20) 3febca74-f12b-4a1b-a469-22d6cad30e74.p\n"
     ]
    },
    {
     "name": "stderr",
     "output_type": "stream",
     "text": [
      "[Parallel(n_jobs=25)]: Using backend LokyBackend with 25 concurrent workers.\n",
      "[Parallel(n_jobs=25)]: Done   4 out of  13 | elapsed:    3.4s remaining:    7.7s\n",
      "[Parallel(n_jobs=25)]: Done   8 out of  13 | elapsed:    3.8s remaining:    2.4s\n",
      "[Parallel(n_jobs=25)]: Done  13 out of  13 | elapsed:    5.2s finished\n"
     ]
    },
    {
     "name": "stdout",
     "output_type": "stream",
     "text": [
      "(11256, 31)\n",
      "(4424, 20) f35c1279-806e-4546-839b-037ee01b0116.p\n"
     ]
    },
    {
     "name": "stderr",
     "output_type": "stream",
     "text": [
      "[Parallel(n_jobs=25)]: Using backend LokyBackend with 25 concurrent workers.\n",
      "[Parallel(n_jobs=25)]: Done   2 out of   7 | elapsed:    1.4s remaining:    3.5s\n",
      "[Parallel(n_jobs=25)]: Done   4 out of   7 | elapsed:    1.8s remaining:    1.4s\n",
      "[Parallel(n_jobs=25)]: Done   7 out of   7 | elapsed:    3.8s finished\n"
     ]
    },
    {
     "name": "stdout",
     "output_type": "stream",
     "text": [
      "(4186, 31)\n",
      "(9946, 20) 19223eac-7f2e-429c-8fa7-0977eee8ae7c.p\n"
     ]
    },
    {
     "name": "stderr",
     "output_type": "stream",
     "text": [
      "[Parallel(n_jobs=25)]: Using backend LokyBackend with 25 concurrent workers.\n",
      "[Parallel(n_jobs=25)]: Done   5 out of  14 | elapsed:    2.1s remaining:    3.8s\n",
      "[Parallel(n_jobs=25)]: Done   9 out of  14 | elapsed:    3.1s remaining:    1.7s\n",
      "[Parallel(n_jobs=25)]: Done  14 out of  14 | elapsed:    4.3s finished\n"
     ]
    },
    {
     "name": "stdout",
     "output_type": "stream",
     "text": [
      "(7853, 31)\n",
      "(16491, 20) 5a47080d-a1ec-48f2-a174-a6a017fcb100.p\n"
     ]
    },
    {
     "name": "stderr",
     "output_type": "stream",
     "text": [
      "[Parallel(n_jobs=25)]: Using backend LokyBackend with 25 concurrent workers.\n",
      "[Parallel(n_jobs=25)]: Done   2 out of  16 | elapsed:    2.9s remaining:   20.0s\n",
      "[Parallel(n_jobs=25)]: Done   7 out of  16 | elapsed:    3.6s remaining:    4.6s\n",
      "[Parallel(n_jobs=25)]: Done  12 out of  16 | elapsed:    4.2s remaining:    1.4s\n",
      "[Parallel(n_jobs=25)]: Done  16 out of  16 | elapsed:    4.7s finished\n"
     ]
    },
    {
     "name": "stdout",
     "output_type": "stream",
     "text": [
      "(13428, 31)\n",
      "(7053, 20) 099b45df-6432-47d2-8332-a8a870ec79de.p\n"
     ]
    },
    {
     "name": "stderr",
     "output_type": "stream",
     "text": [
      "[Parallel(n_jobs=25)]: Using backend LokyBackend with 25 concurrent workers.\n",
      "[Parallel(n_jobs=25)]: Done   3 out of   6 | elapsed:    3.0s remaining:    3.0s\n",
      "[Parallel(n_jobs=25)]: Done   6 out of   6 | elapsed:    4.7s finished\n"
     ]
    },
    {
     "name": "stdout",
     "output_type": "stream",
     "text": [
      "(5985, 31)\n",
      "(6163, 20) 903c1dae-a771-405f-a021-6f175724adc4.p\n"
     ]
    },
    {
     "name": "stderr",
     "output_type": "stream",
     "text": [
      "[Parallel(n_jobs=25)]: Using backend LokyBackend with 25 concurrent workers.\n",
      "[Parallel(n_jobs=25)]: Done   3 out of   6 | elapsed:    2.7s remaining:    2.7s\n",
      "[Parallel(n_jobs=25)]: Done   6 out of   6 | elapsed:    4.4s finished\n"
     ]
    },
    {
     "name": "stdout",
     "output_type": "stream",
     "text": [
      "(5245, 31)\n",
      "(9636, 20) ad1e878e-7bea-48ca-b890-92770fe02a4c.p\n"
     ]
    },
    {
     "name": "stderr",
     "output_type": "stream",
     "text": [
      "[Parallel(n_jobs=25)]: Using backend LokyBackend with 25 concurrent workers.\n",
      "[Parallel(n_jobs=25)]: Done   3 out of  12 | elapsed:    2.4s remaining:    7.1s\n",
      "[Parallel(n_jobs=25)]: Done   7 out of  12 | elapsed:    3.1s remaining:    2.2s\n",
      "[Parallel(n_jobs=25)]: Done  12 out of  12 | elapsed:    4.2s finished\n"
     ]
    },
    {
     "name": "stdout",
     "output_type": "stream",
     "text": [
      "(8426, 31)\n",
      "(7309, 20) d768791c-7479-4aaf-a6c8-61e82f1517e8.p\n"
     ]
    },
    {
     "name": "stderr",
     "output_type": "stream",
     "text": [
      "[Parallel(n_jobs=25)]: Using backend LokyBackend with 25 concurrent workers.\n",
      "[Parallel(n_jobs=25)]: Done   4 out of  13 | elapsed:    1.7s remaining:    3.8s\n",
      "[Parallel(n_jobs=25)]: Done   8 out of  13 | elapsed:    2.3s remaining:    1.5s\n",
      "[Parallel(n_jobs=25)]: Done  13 out of  13 | elapsed:    3.6s finished\n"
     ]
    },
    {
     "name": "stdout",
     "output_type": "stream",
     "text": [
      "(5060, 31)\n",
      "(5938, 20) 780e89b3-f6bf-4181-9f2c-7db941735c87.p\n"
     ]
    },
    {
     "name": "stderr",
     "output_type": "stream",
     "text": [
      "[Parallel(n_jobs=25)]: Using backend LokyBackend with 25 concurrent workers.\n",
      "[Parallel(n_jobs=25)]: Done   4 out of   8 | elapsed:    2.8s remaining:    2.8s\n",
      "[Parallel(n_jobs=25)]: Done   8 out of   8 | elapsed:    4.2s finished\n"
     ]
    },
    {
     "name": "stdout",
     "output_type": "stream",
     "text": [
      "(4939, 31)\n",
      "(7042, 20) 8008f00d-2549-46e4-ab1f-01542c1076e2.p\n"
     ]
    },
    {
     "name": "stderr",
     "output_type": "stream",
     "text": [
      "[Parallel(n_jobs=25)]: Using backend LokyBackend with 25 concurrent workers.\n",
      "[Parallel(n_jobs=25)]: Done   3 out of  10 | elapsed:    1.7s remaining:    4.1s\n",
      "[Parallel(n_jobs=25)]: Done   6 out of  10 | elapsed:    2.0s remaining:    1.3s\n",
      "[Parallel(n_jobs=25)]: Done  10 out of  10 | elapsed:    3.7s finished\n"
     ]
    },
    {
     "name": "stdout",
     "output_type": "stream",
     "text": [
      "(5646, 31)\n",
      "(12353, 20) 34e42cf6-7c34-417c-a003-874e3b6151e7.p\n"
     ]
    },
    {
     "name": "stderr",
     "output_type": "stream",
     "text": [
      "[Parallel(n_jobs=25)]: Using backend LokyBackend with 25 concurrent workers.\n",
      "[Parallel(n_jobs=25)]: Done   4 out of  11 | elapsed:    3.5s remaining:    6.1s\n",
      "[Parallel(n_jobs=25)]: Done   7 out of  11 | elapsed:    3.8s remaining:    2.2s\n",
      "[Parallel(n_jobs=25)]: Done  11 out of  11 | elapsed:    5.2s finished\n"
     ]
    },
    {
     "name": "stdout",
     "output_type": "stream",
     "text": [
      "(10175, 31)\n",
      "(14518, 20) e099e913-4796-4408-af63-1d35c84f29fd.p\n"
     ]
    },
    {
     "name": "stderr",
     "output_type": "stream",
     "text": [
      "[Parallel(n_jobs=25)]: Using backend LokyBackend with 25 concurrent workers.\n",
      "[Parallel(n_jobs=25)]: Done   2 out of  15 | elapsed:    1.9s remaining:   12.3s\n",
      "[Parallel(n_jobs=25)]: Done   6 out of  15 | elapsed:    3.3s remaining:    4.9s\n",
      "[Parallel(n_jobs=25)]: Done  10 out of  15 | elapsed:    3.9s remaining:    2.0s\n",
      "[Parallel(n_jobs=25)]: Done  15 out of  15 | elapsed:    5.3s finished\n"
     ]
    },
    {
     "name": "stdout",
     "output_type": "stream",
     "text": [
      "(11978, 31)\n",
      "(18852, 20) d3cf5812-85fd-4328-9b2a-1b3b6b2cd0b0.p\n"
     ]
    },
    {
     "name": "stderr",
     "output_type": "stream",
     "text": [
      "[Parallel(n_jobs=25)]: Using backend LokyBackend with 25 concurrent workers.\n",
      "[Parallel(n_jobs=25)]: Done   2 out of  15 | elapsed:    3.4s remaining:   22.3s\n",
      "[Parallel(n_jobs=25)]: Done   6 out of  15 | elapsed:    4.3s remaining:    6.5s\n",
      "[Parallel(n_jobs=25)]: Done  10 out of  15 | elapsed:    4.7s remaining:    2.4s\n",
      "[Parallel(n_jobs=25)]: Done  15 out of  15 | elapsed:    5.7s finished\n"
     ]
    },
    {
     "name": "stdout",
     "output_type": "stream",
     "text": [
      "(15558, 31)\n",
      "(5743, 20) b0954814-ad5a-4a8f-ac5a-8436a70889d0.p\n"
     ]
    },
    {
     "name": "stderr",
     "output_type": "stream",
     "text": [
      "[Parallel(n_jobs=25)]: Using backend LokyBackend with 25 concurrent workers.\n",
      "[Parallel(n_jobs=25)]: Done   4 out of   8 | elapsed:    1.9s remaining:    1.9s\n",
      "[Parallel(n_jobs=25)]: Done   8 out of   8 | elapsed:    3.8s finished\n"
     ]
    },
    {
     "name": "stdout",
     "output_type": "stream",
     "text": [
      "(4398, 31)\n",
      "(6153, 20) 0c2f18b6-142e-4e9a-ab1b-4d4ea2e91280.p\n"
     ]
    },
    {
     "name": "stderr",
     "output_type": "stream",
     "text": [
      "[Parallel(n_jobs=25)]: Using backend LokyBackend with 25 concurrent workers.\n",
      "[Parallel(n_jobs=25)]: Done   2 out of   7 | elapsed:    1.5s remaining:    3.8s\n",
      "[Parallel(n_jobs=25)]: Done   4 out of   7 | elapsed:    2.2s remaining:    1.7s\n",
      "[Parallel(n_jobs=25)]: Done   7 out of   7 | elapsed:    4.2s finished\n"
     ]
    },
    {
     "name": "stdout",
     "output_type": "stream",
     "text": [
      "(5688, 31)\n",
      "(7406, 20) bde40f50-8e35-4707-8260-b69f07773c4d.p\n"
     ]
    },
    {
     "name": "stderr",
     "output_type": "stream",
     "text": [
      "[Parallel(n_jobs=25)]: Using backend LokyBackend with 25 concurrent workers.\n",
      "[Parallel(n_jobs=25)]: Done   3 out of  12 | elapsed:    2.1s remaining:    6.3s\n",
      "[Parallel(n_jobs=25)]: Done   7 out of  12 | elapsed:    2.4s remaining:    1.7s\n",
      "[Parallel(n_jobs=25)]: Done  12 out of  12 | elapsed:    3.2s finished\n"
     ]
    },
    {
     "name": "stdout",
     "output_type": "stream",
     "text": [
      "(4108, 31)\n",
      "(11715, 20) 98fca87c-9940-4666-9893-9f8ae2418cb8.p\n"
     ]
    },
    {
     "name": "stderr",
     "output_type": "stream",
     "text": [
      "[Parallel(n_jobs=25)]: Using backend LokyBackend with 25 concurrent workers.\n",
      "[Parallel(n_jobs=25)]: Done   4 out of  11 | elapsed:    3.5s remaining:    6.2s\n",
      "[Parallel(n_jobs=25)]: Done   7 out of  11 | elapsed:    4.0s remaining:    2.3s\n",
      "[Parallel(n_jobs=25)]: Done  11 out of  11 | elapsed:    4.4s finished\n"
     ]
    },
    {
     "name": "stdout",
     "output_type": "stream",
     "text": [
      "(8905, 31)\n",
      "(10856, 20) 780f84d0-eb06-4696-a47d-9320bc17d117.p\n"
     ]
    },
    {
     "name": "stderr",
     "output_type": "stream",
     "text": [
      "[Parallel(n_jobs=25)]: Using backend LokyBackend with 25 concurrent workers.\n",
      "[Parallel(n_jobs=25)]: Done   4 out of  13 | elapsed:    2.5s remaining:    5.7s\n",
      "[Parallel(n_jobs=25)]: Done   8 out of  13 | elapsed:    3.5s remaining:    2.2s\n",
      "[Parallel(n_jobs=25)]: Done  13 out of  13 | elapsed:    4.2s finished\n"
     ]
    },
    {
     "name": "stdout",
     "output_type": "stream",
     "text": [
      "(8597, 31)\n",
      "(16131, 20) 808b555a-6573-457e-b1c6-e008594b0f9a.p\n"
     ]
    },
    {
     "name": "stderr",
     "output_type": "stream",
     "text": [
      "[Parallel(n_jobs=25)]: Using backend LokyBackend with 25 concurrent workers.\n",
      "[Parallel(n_jobs=25)]: Done   5 out of  14 | elapsed:    3.7s remaining:    6.6s\n",
      "[Parallel(n_jobs=25)]: Done   9 out of  14 | elapsed:    4.3s remaining:    2.4s\n",
      "[Parallel(n_jobs=25)]: Done  14 out of  14 | elapsed:    4.9s finished\n"
     ]
    },
    {
     "name": "stdout",
     "output_type": "stream",
     "text": [
      "(12982, 31)\n",
      "(11479, 20) cd575a70-f1a4-4a2b-ac0d-dd0c330a7912.p\n"
     ]
    },
    {
     "name": "stderr",
     "output_type": "stream",
     "text": [
      "[Parallel(n_jobs=25)]: Using backend LokyBackend with 25 concurrent workers.\n",
      "[Parallel(n_jobs=25)]: Done   2 out of   9 | elapsed:    3.4s remaining:   11.8s\n",
      "[Parallel(n_jobs=25)]: Done   5 out of   9 | elapsed:    3.8s remaining:    3.1s\n",
      "[Parallel(n_jobs=25)]: Done   9 out of   9 | elapsed:    4.4s finished\n"
     ]
    },
    {
     "name": "stdout",
     "output_type": "stream",
     "text": [
      "(8168, 31)\n",
      "(10631, 20) bb0fe5f5-798b-45ea-be50-8e56e3116369.p\n"
     ]
    },
    {
     "name": "stderr",
     "output_type": "stream",
     "text": [
      "[Parallel(n_jobs=25)]: Using backend LokyBackend with 25 concurrent workers.\n",
      "[Parallel(n_jobs=25)]: Done   2 out of  15 | elapsed:    2.2s remaining:   14.4s\n",
      "[Parallel(n_jobs=25)]: Done   6 out of  15 | elapsed:    2.6s remaining:    3.9s\n",
      "[Parallel(n_jobs=25)]: Done  10 out of  15 | elapsed:    3.2s remaining:    1.6s\n",
      "[Parallel(n_jobs=25)]: Done  15 out of  15 | elapsed:    3.8s finished\n"
     ]
    },
    {
     "name": "stdout",
     "output_type": "stream",
     "text": [
      "(8878, 31)\n",
      "(6646, 20) a19eb22e-8c99-42d5-8a68-caad1dfe9361.p\n"
     ]
    },
    {
     "name": "stderr",
     "output_type": "stream",
     "text": [
      "[Parallel(n_jobs=25)]: Using backend LokyBackend with 25 concurrent workers.\n",
      "[Parallel(n_jobs=25)]: Done   3 out of   6 | elapsed:    2.1s remaining:    2.1s\n",
      "[Parallel(n_jobs=25)]: Done   6 out of   6 | elapsed:    3.7s finished\n"
     ]
    },
    {
     "name": "stdout",
     "output_type": "stream",
     "text": [
      "(3579, 31)\n",
      "(7326, 20) 9998aedf-5144-4402-9806-fd0965ca85c0.p\n"
     ]
    },
    {
     "name": "stderr",
     "output_type": "stream",
     "text": [
      "[Parallel(n_jobs=25)]: Using backend LokyBackend with 25 concurrent workers.\n",
      "[Parallel(n_jobs=25)]: Done   4 out of  11 | elapsed:    2.2s remaining:    3.9s\n",
      "[Parallel(n_jobs=25)]: Done   7 out of  11 | elapsed:    2.6s remaining:    1.5s\n",
      "[Parallel(n_jobs=25)]: Done  11 out of  11 | elapsed:    3.4s finished\n"
     ]
    },
    {
     "name": "stdout",
     "output_type": "stream",
     "text": [
      "(4792, 31)\n",
      "(12415, 20) f0286b14-18d2-46bd-845e-f83b43a2ef7b.p\n"
     ]
    },
    {
     "name": "stderr",
     "output_type": "stream",
     "text": [
      "[Parallel(n_jobs=25)]: Using backend LokyBackend with 25 concurrent workers.\n",
      "[Parallel(n_jobs=25)]: Done   4 out of  13 | elapsed:    2.9s remaining:    6.5s\n",
      "[Parallel(n_jobs=25)]: Done   8 out of  13 | elapsed:    3.6s remaining:    2.3s\n",
      "[Parallel(n_jobs=25)]: Done  13 out of  13 | elapsed:    4.8s finished\n"
     ]
    },
    {
     "name": "stdout",
     "output_type": "stream",
     "text": [
      "(9575, 31)\n",
      "(6530, 20) a94e78e6-acb4-4a71-920a-92b1858d51bd.p\n"
     ]
    },
    {
     "name": "stderr",
     "output_type": "stream",
     "text": [
      "[Parallel(n_jobs=25)]: Using backend LokyBackend with 25 concurrent workers.\n",
      "[Parallel(n_jobs=25)]: Done   2 out of   9 | elapsed:    1.5s remaining:    5.4s\n",
      "[Parallel(n_jobs=25)]: Done   5 out of   9 | elapsed:    2.5s remaining:    2.0s\n",
      "[Parallel(n_jobs=25)]: Done   9 out of   9 | elapsed:    3.5s finished\n"
     ]
    },
    {
     "name": "stdout",
     "output_type": "stream",
     "text": [
      "(4420, 31)\n",
      "(16217, 20) 5f3f7553-6d2f-4c08-adb9-dbc3e88ba0aa.p\n"
     ]
    },
    {
     "name": "stderr",
     "output_type": "stream",
     "text": [
      "[Parallel(n_jobs=25)]: Using backend LokyBackend with 25 concurrent workers.\n",
      "[Parallel(n_jobs=25)]: Done   2 out of  15 | elapsed:    2.7s remaining:   17.5s\n",
      "[Parallel(n_jobs=25)]: Done   6 out of  15 | elapsed:    3.8s remaining:    5.7s\n",
      "[Parallel(n_jobs=25)]: Done  10 out of  15 | elapsed:    4.4s remaining:    2.2s\n",
      "[Parallel(n_jobs=25)]: Done  15 out of  15 | elapsed:    4.9s finished\n"
     ]
    },
    {
     "name": "stdout",
     "output_type": "stream",
     "text": [
      "(14414, 31)\n",
      "(7128, 20) b71b2071-6330-434d-a2ab-8e929e9b96a9.p\n"
     ]
    },
    {
     "name": "stderr",
     "output_type": "stream",
     "text": [
      "[Parallel(n_jobs=25)]: Using backend LokyBackend with 25 concurrent workers.\n",
      "[Parallel(n_jobs=25)]: Done   2 out of  15 | elapsed:    1.4s remaining:    9.2s\n",
      "[Parallel(n_jobs=25)]: Done   6 out of  15 | elapsed:    1.7s remaining:    2.5s\n",
      "[Parallel(n_jobs=25)]: Done  10 out of  15 | elapsed:    2.1s remaining:    1.0s\n",
      "[Parallel(n_jobs=25)]: Done  15 out of  15 | elapsed:    2.7s finished\n"
     ]
    },
    {
     "name": "stdout",
     "output_type": "stream",
     "text": [
      "(5001, 31)\n",
      "(12162, 20) b53e7168-0a87-4646-b389-fb0fe60cc36a.p\n"
     ]
    },
    {
     "name": "stderr",
     "output_type": "stream",
     "text": [
      "[Parallel(n_jobs=25)]: Using backend LokyBackend with 25 concurrent workers.\n",
      "[Parallel(n_jobs=25)]: Done   5 out of  14 | elapsed:    3.2s remaining:    5.7s\n",
      "[Parallel(n_jobs=25)]: Done   9 out of  14 | elapsed:    3.7s remaining:    2.0s\n",
      "[Parallel(n_jobs=25)]: Done  14 out of  14 | elapsed:    4.4s finished\n"
     ]
    },
    {
     "name": "stdout",
     "output_type": "stream",
     "text": [
      "(10374, 31)\n",
      "(17308, 20) 9197be51-f220-4c63-a6a8-3ec1bbd50810.p\n"
     ]
    },
    {
     "name": "stderr",
     "output_type": "stream",
     "text": [
      "[Parallel(n_jobs=25)]: Using backend LokyBackend with 25 concurrent workers.\n",
      "[Parallel(n_jobs=25)]: Done   2 out of  15 | elapsed:    2.8s remaining:   18.4s\n",
      "[Parallel(n_jobs=25)]: Done   6 out of  15 | elapsed:    3.8s remaining:    5.7s\n",
      "[Parallel(n_jobs=25)]: Done  10 out of  15 | elapsed:    5.2s remaining:    2.6s\n",
      "[Parallel(n_jobs=25)]: Done  15 out of  15 | elapsed:    6.1s finished\n"
     ]
    },
    {
     "name": "stdout",
     "output_type": "stream",
     "text": [
      "(15924, 31)\n",
      "(12585, 20) 892e71e0-a5a4-4315-89a4-fa5518d78591.p\n"
     ]
    },
    {
     "name": "stderr",
     "output_type": "stream",
     "text": [
      "[Parallel(n_jobs=25)]: Using backend LokyBackend with 25 concurrent workers.\n",
      "[Parallel(n_jobs=25)]: Done   3 out of  12 | elapsed:    2.8s remaining:    8.3s\n",
      "[Parallel(n_jobs=25)]: Done   7 out of  12 | elapsed:    3.5s remaining:    2.5s\n",
      "[Parallel(n_jobs=25)]: Done  12 out of  12 | elapsed:    4.7s finished\n"
     ]
    },
    {
     "name": "stdout",
     "output_type": "stream",
     "text": [
      "(7749, 31)\n",
      "(9642, 20) 96f6e25f-4dd0-4070-a9ac-b04957969382.p\n"
     ]
    },
    {
     "name": "stderr",
     "output_type": "stream",
     "text": [
      "[Parallel(n_jobs=25)]: Using backend LokyBackend with 25 concurrent workers.\n",
      "[Parallel(n_jobs=25)]: Done   3 out of  12 | elapsed:    2.4s remaining:    7.1s\n",
      "[Parallel(n_jobs=25)]: Done   7 out of  12 | elapsed:    3.0s remaining:    2.1s\n",
      "[Parallel(n_jobs=25)]: Done  12 out of  12 | elapsed:    4.0s finished\n"
     ]
    },
    {
     "name": "stdout",
     "output_type": "stream",
     "text": [
      "(5166, 31)\n",
      "(14686, 20) cfe02b15-0332-4590-9ac6-9ef2eb8b3edd.p\n"
     ]
    },
    {
     "name": "stderr",
     "output_type": "stream",
     "text": [
      "[Parallel(n_jobs=25)]: Using backend LokyBackend with 25 concurrent workers.\n",
      "[Parallel(n_jobs=25)]: Done   4 out of  13 | elapsed:    3.5s remaining:    7.8s\n",
      "[Parallel(n_jobs=25)]: Done   8 out of  13 | elapsed:    4.3s remaining:    2.7s\n",
      "[Parallel(n_jobs=25)]: Done  13 out of  13 | elapsed:    5.2s finished\n"
     ]
    },
    {
     "name": "stdout",
     "output_type": "stream",
     "text": [
      "(11343, 31)\n",
      "(11054, 20) 896d9cb5-2e54-4900-9b8a-58c087549d19.p\n"
     ]
    },
    {
     "name": "stderr",
     "output_type": "stream",
     "text": [
      "[Parallel(n_jobs=25)]: Using backend LokyBackend with 25 concurrent workers.\n",
      "[Parallel(n_jobs=25)]: Done   3 out of  12 | elapsed:    2.5s remaining:    7.5s\n",
      "[Parallel(n_jobs=25)]: Done   7 out of  12 | elapsed:    3.7s remaining:    2.6s\n",
      "[Parallel(n_jobs=25)]: Done  12 out of  12 | elapsed:    4.6s finished\n"
     ]
    },
    {
     "name": "stdout",
     "output_type": "stream",
     "text": [
      "(9217, 31)\n",
      "(16020, 20) ea2fa266-3e43-4552-8c74-cba474ae0038.p\n"
     ]
    },
    {
     "name": "stderr",
     "output_type": "stream",
     "text": [
      "[Parallel(n_jobs=25)]: Using backend LokyBackend with 25 concurrent workers.\n",
      "[Parallel(n_jobs=25)]: Done   5 out of  14 | elapsed:    3.6s remaining:    6.5s\n",
      "[Parallel(n_jobs=25)]: Done   9 out of  14 | elapsed:    4.0s remaining:    2.2s\n",
      "[Parallel(n_jobs=25)]: Done  14 out of  14 | elapsed:    5.0s finished\n"
     ]
    },
    {
     "name": "stdout",
     "output_type": "stream",
     "text": [
      "(13447, 31)\n",
      "(7390, 20) 263b1782-923d-4bb3-b52d-4c1926e81f1f.p\n"
     ]
    },
    {
     "name": "stderr",
     "output_type": "stream",
     "text": [
      "[Parallel(n_jobs=25)]: Using backend LokyBackend with 25 concurrent workers.\n",
      "[Parallel(n_jobs=25)]: Done   2 out of   9 | elapsed:    1.5s remaining:    5.4s\n",
      "[Parallel(n_jobs=25)]: Done   5 out of   9 | elapsed:    3.0s remaining:    2.4s\n",
      "[Parallel(n_jobs=25)]: Done   9 out of   9 | elapsed:    4.0s finished\n"
     ]
    },
    {
     "name": "stdout",
     "output_type": "stream",
     "text": [
      "(6121, 31)\n",
      "(10829, 20) 9bc2eed3-f75d-479c-9665-75df853bc8ac.p\n"
     ]
    },
    {
     "name": "stderr",
     "output_type": "stream",
     "text": [
      "[Parallel(n_jobs=25)]: Using backend LokyBackend with 25 concurrent workers.\n",
      "[Parallel(n_jobs=25)]: Done   2 out of   9 | elapsed:    3.5s remaining:   12.3s\n",
      "[Parallel(n_jobs=25)]: Done   5 out of   9 | elapsed:    3.8s remaining:    3.1s\n",
      "[Parallel(n_jobs=25)]: Done   9 out of   9 | elapsed:    4.6s finished\n"
     ]
    },
    {
     "name": "stdout",
     "output_type": "stream",
     "text": [
      "(8446, 31)\n",
      "(11825, 20) 9744e4ae-63d8-49df-be6a-37cbb24532a1.p\n"
     ]
    },
    {
     "name": "stderr",
     "output_type": "stream",
     "text": [
      "[Parallel(n_jobs=25)]: Using backend LokyBackend with 25 concurrent workers.\n",
      "[Parallel(n_jobs=25)]: Done   2 out of  15 | elapsed:    2.3s remaining:   14.7s\n",
      "[Parallel(n_jobs=25)]: Done   6 out of  15 | elapsed:    2.8s remaining:    4.1s\n",
      "[Parallel(n_jobs=25)]: Done  10 out of  15 | elapsed:    3.4s remaining:    1.7s\n",
      "[Parallel(n_jobs=25)]: Done  15 out of  15 | elapsed:    4.9s finished\n"
     ]
    },
    {
     "name": "stdout",
     "output_type": "stream",
     "text": [
      "(9416, 31)\n",
      "(11843, 20) 2d8b5a8c-e990-4442-abf6-578e96d2f5eb.p\n"
     ]
    },
    {
     "name": "stderr",
     "output_type": "stream",
     "text": [
      "[Parallel(n_jobs=25)]: Using backend LokyBackend with 25 concurrent workers.\n",
      "[Parallel(n_jobs=25)]: Done   4 out of  13 | elapsed:    2.4s remaining:    5.3s\n",
      "[Parallel(n_jobs=25)]: Done   8 out of  13 | elapsed:    3.5s remaining:    2.2s\n",
      "[Parallel(n_jobs=25)]: Done  13 out of  13 | elapsed:    4.4s finished\n"
     ]
    },
    {
     "name": "stdout",
     "output_type": "stream",
     "text": [
      "(8175, 31)\n",
      "(11461, 20) 897fdfcf-9004-4ef6-bf9a-8d3fe339c8ce.p\n"
     ]
    },
    {
     "name": "stderr",
     "output_type": "stream",
     "text": [
      "[Parallel(n_jobs=25)]: Using backend LokyBackend with 25 concurrent workers.\n",
      "[Parallel(n_jobs=25)]: Done   3 out of  12 | elapsed:    2.6s remaining:    7.8s\n",
      "[Parallel(n_jobs=25)]: Done   7 out of  12 | elapsed:    3.3s remaining:    2.4s\n",
      "[Parallel(n_jobs=25)]: Done  12 out of  12 | elapsed:    4.9s finished\n"
     ]
    },
    {
     "name": "stdout",
     "output_type": "stream",
     "text": [
      "(9321, 31)\n",
      "(19188, 20) 9a3bd464-f273-4f97-a48c-1f3c6a705a69.p\n"
     ]
    },
    {
     "name": "stderr",
     "output_type": "stream",
     "text": [
      "[Parallel(n_jobs=25)]: Using backend LokyBackend with 25 concurrent workers.\n",
      "[Parallel(n_jobs=25)]: Done   2 out of  15 | elapsed:    3.7s remaining:   23.9s\n",
      "[Parallel(n_jobs=25)]: Done   6 out of  15 | elapsed:    5.7s remaining:    8.5s\n",
      "[Parallel(n_jobs=25)]: Done  10 out of  15 | elapsed:    5.9s remaining:    3.0s\n",
      "[Parallel(n_jobs=25)]: Done  15 out of  15 | elapsed:    6.2s finished\n"
     ]
    },
    {
     "name": "stdout",
     "output_type": "stream",
     "text": [
      "(17016, 31)\n",
      "(10692, 20) 6ef875b3-2f7e-48b8-bf00-de3ee1316830.p\n"
     ]
    },
    {
     "name": "stderr",
     "output_type": "stream",
     "text": [
      "[Parallel(n_jobs=25)]: Using backend LokyBackend with 25 concurrent workers.\n",
      "[Parallel(n_jobs=25)]: Done   4 out of  13 | elapsed:    2.3s remaining:    5.3s\n",
      "[Parallel(n_jobs=25)]: Done   8 out of  13 | elapsed:    3.2s remaining:    2.0s\n",
      "[Parallel(n_jobs=25)]: Done  13 out of  13 | elapsed:    4.4s finished\n"
     ]
    },
    {
     "name": "stdout",
     "output_type": "stream",
     "text": [
      "(9246, 31)\n",
      "(10425, 20) 05846fcf-1dd9-4f98-b17b-1ce6e624c0a7.p\n"
     ]
    },
    {
     "name": "stderr",
     "output_type": "stream",
     "text": [
      "[Parallel(n_jobs=25)]: Using backend LokyBackend with 25 concurrent workers.\n",
      "[Parallel(n_jobs=25)]: Done   5 out of  14 | elapsed:    2.5s remaining:    4.5s\n",
      "[Parallel(n_jobs=25)]: Done   9 out of  14 | elapsed:    3.3s remaining:    1.9s\n",
      "[Parallel(n_jobs=25)]: Done  14 out of  14 | elapsed:    4.2s finished\n"
     ]
    },
    {
     "name": "stdout",
     "output_type": "stream",
     "text": [
      "(9075, 31)\n",
      "(10883, 20) 4bf6078d-afcd-432a-a8a5-8b5e8a4eda9e.p\n"
     ]
    },
    {
     "name": "stderr",
     "output_type": "stream",
     "text": [
      "[Parallel(n_jobs=25)]: Using backend LokyBackend with 25 concurrent workers.\n",
      "[Parallel(n_jobs=25)]: Done   5 out of  14 | elapsed:    2.9s remaining:    5.2s\n",
      "[Parallel(n_jobs=25)]: Done   9 out of  14 | elapsed:    3.4s remaining:    1.9s\n",
      "[Parallel(n_jobs=25)]: Done  14 out of  14 | elapsed:    4.7s finished\n"
     ]
    },
    {
     "name": "stdout",
     "output_type": "stream",
     "text": [
      "(205360, 31)\n",
      "(14152, 20) 2333036a-2f50-49ca-a119-3c5d66399fe4.p\n"
     ]
    },
    {
     "name": "stderr",
     "output_type": "stream",
     "text": [
      "[Parallel(n_jobs=25)]: Using backend LokyBackend with 25 concurrent workers.\n",
      "[Parallel(n_jobs=25)]: Done   4 out of  11 | elapsed:    4.5s remaining:    7.9s\n",
      "[Parallel(n_jobs=25)]: Done   7 out of  11 | elapsed:    5.0s remaining:    2.9s\n",
      "[Parallel(n_jobs=25)]: Done  11 out of  11 | elapsed:    6.3s finished\n"
     ]
    },
    {
     "name": "stdout",
     "output_type": "stream",
     "text": [
      "(10920, 31)\n",
      "(15306, 20) 22c85326-97bf-4e4b-90c4-4255c144ae1b.p\n"
     ]
    },
    {
     "name": "stderr",
     "output_type": "stream",
     "text": [
      "[Parallel(n_jobs=25)]: Using backend LokyBackend with 25 concurrent workers.\n",
      "[Parallel(n_jobs=25)]: Done   2 out of  15 | elapsed:    3.1s remaining:   19.8s\n",
      "[Parallel(n_jobs=25)]: Done   6 out of  15 | elapsed:    4.3s remaining:    6.4s\n",
      "[Parallel(n_jobs=25)]: Done  10 out of  15 | elapsed:    4.4s remaining:    2.2s\n",
      "[Parallel(n_jobs=25)]: Done  15 out of  15 | elapsed:    5.0s finished\n"
     ]
    },
    {
     "name": "stdout",
     "output_type": "stream",
     "text": [
      "(10780, 31)\n",
      "(17393, 20) f8d33ca1-e0fa-4b59-a7c2-b1aee8afcaea.p\n"
     ]
    },
    {
     "name": "stderr",
     "output_type": "stream",
     "text": [
      "[Parallel(n_jobs=25)]: Using backend LokyBackend with 25 concurrent workers.\n",
      "[Parallel(n_jobs=25)]: Done   2 out of  15 | elapsed:    2.8s remaining:   18.0s\n",
      "[Parallel(n_jobs=25)]: Done   6 out of  15 | elapsed:    3.5s remaining:    5.3s\n",
      "[Parallel(n_jobs=25)]: Done  10 out of  15 | elapsed:    4.7s remaining:    2.4s\n",
      "[Parallel(n_jobs=25)]: Done  15 out of  15 | elapsed:    5.4s finished\n"
     ]
    },
    {
     "name": "stdout",
     "output_type": "stream",
     "text": [
      "(11955, 31)\n",
      "(15704, 20) c64ca471-369e-43fa-a07b-8260fd1c745c.p\n"
     ]
    },
    {
     "name": "stderr",
     "output_type": "stream",
     "text": [
      "[Parallel(n_jobs=25)]: Using backend LokyBackend with 25 concurrent workers.\n",
      "[Parallel(n_jobs=25)]: Done   2 out of  15 | elapsed:    2.9s remaining:   18.6s\n",
      "[Parallel(n_jobs=25)]: Done   6 out of  15 | elapsed:    4.0s remaining:    6.0s\n",
      "[Parallel(n_jobs=25)]: Done  10 out of  15 | elapsed:    4.4s remaining:    2.2s\n",
      "[Parallel(n_jobs=25)]: Done  15 out of  15 | elapsed:    5.3s finished\n"
     ]
    },
    {
     "name": "stdout",
     "output_type": "stream",
     "text": [
      "(12728, 31)\n",
      "(16931, 20) fdddb3bd-bb88-458f-bcc8-e50bb3f87742.p\n"
     ]
    },
    {
     "name": "stderr",
     "output_type": "stream",
     "text": [
      "[Parallel(n_jobs=25)]: Using backend LokyBackend with 25 concurrent workers.\n",
      "[Parallel(n_jobs=25)]: Done   5 out of  14 | elapsed:    4.4s remaining:    7.8s\n",
      "[Parallel(n_jobs=25)]: Done   9 out of  14 | elapsed:    4.7s remaining:    2.6s\n",
      "[Parallel(n_jobs=25)]: Done  14 out of  14 | elapsed:    5.5s finished\n"
     ]
    },
    {
     "name": "stdout",
     "output_type": "stream",
     "text": [
      "(13373, 31)\n",
      "(12546, 20) 02543bbf-84c2-4076-8547-c8a5f451ea02.p\n"
     ]
    },
    {
     "name": "stderr",
     "output_type": "stream",
     "text": [
      "[Parallel(n_jobs=25)]: Using backend LokyBackend with 25 concurrent workers.\n",
      "[Parallel(n_jobs=25)]: Done   3 out of  12 | elapsed:    2.6s remaining:    7.9s\n",
      "[Parallel(n_jobs=25)]: Done   7 out of  12 | elapsed:    3.9s remaining:    2.8s\n",
      "[Parallel(n_jobs=25)]: Done  12 out of  12 | elapsed:    5.1s finished\n"
     ]
    },
    {
     "name": "stdout",
     "output_type": "stream",
     "text": [
      "(9667, 31)\n",
      "(19842, 20) 0c726695-f016-4019-9aab-c292298ee10c.p\n"
     ]
    },
    {
     "name": "stderr",
     "output_type": "stream",
     "text": [
      "[Parallel(n_jobs=25)]: Using backend LokyBackend with 25 concurrent workers.\n",
      "[Parallel(n_jobs=25)]: Done   2 out of  15 | elapsed:    3.6s remaining:   23.3s\n",
      "[Parallel(n_jobs=25)]: Done   6 out of  15 | elapsed:    4.5s remaining:    6.7s\n",
      "[Parallel(n_jobs=25)]: Done  10 out of  15 | elapsed:    5.0s remaining:    2.5s\n",
      "[Parallel(n_jobs=25)]: Done  15 out of  15 | elapsed:    6.2s finished\n"
     ]
    },
    {
     "name": "stdout",
     "output_type": "stream",
     "text": [
      "(15252, 31)\n",
      "(17238, 20) 87a2bf88-ef4e-4bd5-96b6-eda8faac6a8e.p\n"
     ]
    },
    {
     "name": "stderr",
     "output_type": "stream",
     "text": [
      "[Parallel(n_jobs=25)]: Using backend LokyBackend with 25 concurrent workers.\n",
      "[Parallel(n_jobs=25)]: Done   2 out of  16 | elapsed:    2.9s remaining:   20.2s\n",
      "[Parallel(n_jobs=25)]: Done   7 out of  16 | elapsed:    4.1s remaining:    5.3s\n",
      "[Parallel(n_jobs=25)]: Done  12 out of  16 | elapsed:    4.7s remaining:    1.6s\n",
      "[Parallel(n_jobs=25)]: Done  16 out of  16 | elapsed:    5.4s finished\n"
     ]
    },
    {
     "name": "stdout",
     "output_type": "stream",
     "text": [
      "(13056, 31)\n",
      "(18657, 20) 8d96c9a4-a13b-4729-adf3-969e84b9a6d2.p\n"
     ]
    },
    {
     "name": "stderr",
     "output_type": "stream",
     "text": [
      "[Parallel(n_jobs=25)]: Using backend LokyBackend with 25 concurrent workers.\n",
      "[Parallel(n_jobs=25)]: Done   2 out of  15 | elapsed:    3.7s remaining:   24.0s\n",
      "[Parallel(n_jobs=25)]: Done   6 out of  15 | elapsed:    4.0s remaining:    5.9s\n",
      "[Parallel(n_jobs=25)]: Done  10 out of  15 | elapsed:    4.8s remaining:    2.4s\n",
      "[Parallel(n_jobs=25)]: Done  15 out of  15 | elapsed:    6.0s finished\n"
     ]
    },
    {
     "name": "stdout",
     "output_type": "stream",
     "text": [
      "(13101, 31)\n",
      "(2315, 20) e41ecb05-e159-4abc-858e-1d305706e8fc.p\n"
     ]
    },
    {
     "name": "stderr",
     "output_type": "stream",
     "text": [
      "[Parallel(n_jobs=25)]: Using backend LokyBackend with 25 concurrent workers.\n",
      "[Parallel(n_jobs=25)]: Done   3 out of   6 | elapsed:    1.2s remaining:    1.2s\n",
      "[Parallel(n_jobs=25)]: Done   6 out of   6 | elapsed:    1.9s finished\n"
     ]
    },
    {
     "name": "stdout",
     "output_type": "stream",
     "text": [
      "(1273, 31)\n",
      "(4156, 20) 0d4e87ed-9694-4ba8-b529-d8f2def047cf.p\n"
     ]
    },
    {
     "name": "stderr",
     "output_type": "stream",
     "text": [
      "[Parallel(n_jobs=25)]: Using backend LokyBackend with 25 concurrent workers.\n",
      "[Parallel(n_jobs=25)]: Done   2 out of   7 | elapsed:    1.4s remaining:    3.6s\n",
      "[Parallel(n_jobs=25)]: Done   4 out of   7 | elapsed:    1.7s remaining:    1.2s\n",
      "[Parallel(n_jobs=25)]: Done   7 out of   7 | elapsed:    2.9s finished\n"
     ]
    },
    {
     "name": "stdout",
     "output_type": "stream",
     "text": [
      "(4017, 31)\n",
      "(3252, 20) b62147b5-0b26-4490-acf3-6e1fd29f909c.p\n"
     ]
    },
    {
     "name": "stderr",
     "output_type": "stream",
     "text": [
      "[Parallel(n_jobs=25)]: Using backend LokyBackend with 25 concurrent workers.\n",
      "[Parallel(n_jobs=25)]: Done   3 out of   6 | elapsed:    1.4s remaining:    1.4s\n",
      "[Parallel(n_jobs=25)]: Done   6 out of   6 | elapsed:    2.4s finished\n"
     ]
    },
    {
     "name": "stdout",
     "output_type": "stream",
     "text": [
      "(2441, 31)\n",
      "(10844, 20) 4ddc3405-d256-4f66-95df-2b13bf69a616.p\n"
     ]
    },
    {
     "name": "stderr",
     "output_type": "stream",
     "text": [
      "[Parallel(n_jobs=25)]: Using backend LokyBackend with 25 concurrent workers.\n",
      "[Parallel(n_jobs=25)]: Done   3 out of  12 | elapsed:    2.3s remaining:    6.8s\n",
      "[Parallel(n_jobs=25)]: Done   7 out of  12 | elapsed:    3.3s remaining:    2.4s\n",
      "[Parallel(n_jobs=25)]: Done  12 out of  12 | elapsed:    3.8s finished\n"
     ]
    },
    {
     "name": "stdout",
     "output_type": "stream",
     "text": [
      "(8082, 31)\n",
      "(7352, 20) 3ca9773c-2c8b-46da-a68c-909685ddcf08.p\n"
     ]
    },
    {
     "name": "stderr",
     "output_type": "stream",
     "text": [
      "[Parallel(n_jobs=25)]: Using backend LokyBackend with 25 concurrent workers.\n",
      "[Parallel(n_jobs=25)]: Done   2 out of   7 | elapsed:    2.3s remaining:    5.7s\n",
      "[Parallel(n_jobs=25)]: Done   4 out of   7 | elapsed:    2.7s remaining:    2.0s\n",
      "[Parallel(n_jobs=25)]: Done   7 out of   7 | elapsed:    4.2s finished\n"
     ]
    },
    {
     "name": "stdout",
     "output_type": "stream",
     "text": [
      "(6806, 31)\n",
      "(3726, 20) 19e66451-4521-447a-ae3b-d91cb814b6c5.p\n"
     ]
    },
    {
     "name": "stderr",
     "output_type": "stream",
     "text": [
      "[Parallel(n_jobs=25)]: Using backend LokyBackend with 25 concurrent workers.\n",
      "[Parallel(n_jobs=25)]: Done   2 out of   5 | elapsed:    1.4s remaining:    2.1s\n",
      "[Parallel(n_jobs=25)]: Done   5 out of   5 | elapsed:    3.8s finished\n"
     ]
    },
    {
     "name": "stdout",
     "output_type": "stream",
     "text": [
      "(3213, 31)\n"
     ]
    }
   ],
   "source": [
    "from scipy.stats import iqr,skew,kurtosis\n",
    "from datetime import datetime\n",
    "from copy import deepcopy\n",
    "import math\n",
    "from scipy.stats import pearsonr\n",
    "from sklearn.externals.joblib import Parallel,delayed\n",
    "import warnings\n",
    "import pandas as pd\n",
    "import pickle\n",
    "import os\n",
    "import numpy as np\n",
    "from sklearn.metrics import r2_score\n",
    "from sklearn.preprocessing import StandardScaler\n",
    "import matplotlib.pyplot as plt\n",
    "\n",
    "warnings.filterwarnings('ignore')\n",
    "\n",
    "def weighted_avg_and_std(values, weights):\n",
    "    \"\"\"\n",
    "    Return the weighted average and standard deviation.\n",
    "\n",
    "    values, weights -- Numpy ndarrays with the same shape.\n",
    "    \"\"\"\n",
    "    average = np.average(values, weights=weights)\n",
    "    # Fast and numerically precise:\n",
    "    variance = np.average((values-average)**2, weights=weights)\n",
    "    return average, math.sqrt(variance)\n",
    "\n",
    "def get_rr_features(a):\n",
    "    return np.array([np.var(a),iqr(a),np.mean(a),np.median(a),np.percentile(a,80),np.percentile(a,20),60000/np.median(a)])\n",
    "\n",
    "\n",
    "def get_weighted_rr_features(a):\n",
    "    a = np.repeat(a[:,0],np.int64(np.round(100*a[:,1])))\n",
    "    return np.array([np.var(a),iqr(a),np.mean(a),np.median(a),np.percentile(a,80),np.percentile(a,20),60000/np.median(a)])\n",
    "\n",
    "\n",
    "def get_quality_features(a):\n",
    "    feature = [np.percentile(a,50),np.mean(a),\n",
    "               len(a[a>.2])/60,len(a[a>.6])/60]\n",
    "    return np.array(feature)\n",
    "\n",
    "def get_daywise(data):\n",
    "    return [a for i,a in data.groupby(['user','day'],as_index=False) if a[['likelihood_max_array','rr_array']].dropna().shape[0]>60]\n",
    "\n",
    "def parse_day_data(data_day):\n",
    "    data_day['likelihood_max_array'] = data_day['likelihood_max_array'].apply(lambda a:np.squeeze(a).reshape(-1,3))\n",
    "    data_day['likelihood'] = data_day['likelihood_max_array'].apply(lambda a:np.max(a,axis=1))\n",
    "    data_day['likelihood_ind'] = data_day['likelihood_max_array'].apply(lambda a:np.argmax(a,axis=1))\n",
    "    data_day['rr_array'] = data_day['rr_array'].apply(lambda a:np.squeeze(a).reshape(-1,3))\n",
    "    data_day['length'] = data_day['rr_array'].apply(lambda a:a.shape[0])\n",
    "    data_day = data_day[data_day.length>20]\n",
    "    data_day['time'] = data_day['ltime'].apply(lambda a:datetime.timestamp(a))\n",
    "    indexes = data_day['likelihood_ind'].values\n",
    "    rr_arrays = data_day['rr_array'].values\n",
    "    rrs = []\n",
    "    for i,rr in enumerate(rr_arrays):\n",
    "        index = indexes[i]\n",
    "        frr = np.squeeze(np.array([rr[i,index[i]] for i in range(rr.shape[0])]))\n",
    "        rrs.append(frr)\n",
    "    data_day['rr'] = rrs\n",
    "    data_day['rr_col'] = data_day.apply(lambda a: np.vstack([np.squeeze(a['rr']),np.squeeze(a['likelihood']),np.squeeze(a['activity'])]).T,\n",
    "                     axis=1)\n",
    "    return data_day\n",
    "\n",
    "def remove_3sd(heart_rate_window):\n",
    "    temp = deepcopy(heart_rate_window)\n",
    "    try:\n",
    "        r,tt = weighted_avg_and_std(heart_rate_window[heart_rate_window[:,1]>.25,0],heart_rate_window[heart_rate_window[:,1]>.25,1])\n",
    "        index = np.where((heart_rate_window[:,0]<r+3*tt)&(heart_rate_window[:,0]>r-3*tt))[0]\n",
    "        heart_rate_window = heart_rate_window[index]\n",
    "    except:\n",
    "        pass\n",
    "    if heart_rate_window.shape[0]>10:\n",
    "        return [heart_rate_window,'Available']\n",
    "    else:\n",
    "        return [temp[:10],'Not Available']\n",
    "\n",
    "    \n",
    "def parse_for_features(data_day):\n",
    "    data_day['rr_col'] = data_day['rr_col'].apply(lambda a:a[np.where((a[:,1]>.05)&(a[:,0]>300)&(a[:,0]<1500)&(a[:,2]<.2))[0],:2])\n",
    "    data_day['rr_col'] = data_day['rr_col'].apply(lambda a:remove_3sd(a))\n",
    "    data_day['length1'] = data_day['rr_col'].apply(lambda a:a[0].shape[0])\n",
    "    data_day = data_day[data_day.length1>30]\n",
    "    data_day['indicator'] = data_day['rr_col'].apply(lambda a:a[1])\n",
    "    data_day['rr_col'] = data_day['rr_col'].apply(lambda a:a[0])\n",
    "    data_day['likelihood'] = data_day['rr_col'].apply(lambda a:a[:,1])\n",
    "    data_day['rr'] = data_day['rr_col'].apply(lambda a:a[:,0])\n",
    "    data_day['rr_col1'] = data_day.apply(lambda a:np.vstack([list(a['rr']),list(a['likelihood'])]).T,axis=1)\n",
    "    data_day['rr_features'] = data_day['rr'].apply(lambda a:get_rr_features(a))\n",
    "    data_day['rr_weighted_features'] = data_day['rr_col1'].apply(lambda a:get_weighted_rr_features(a))\n",
    "    data_day['quality_features'] = data_day['likelihood'].apply(lambda a:get_quality_features(a))\n",
    "    data_day['quality_mag'] = data_day['quality_features'].apply(lambda a:np.sum(a)/len(a))\n",
    "    return data_day\n",
    "\n",
    "def normalize_daywise(feature_matrix,quals1):\n",
    "    for i in range(feature_matrix.shape[1]):\n",
    "        m,s = weighted_avg_and_std(feature_matrix[:,i], quals1)\n",
    "        feature_matrix[:,i]  = (feature_matrix[:,i] - m)/s\n",
    "    return feature_matrix\n",
    "\n",
    "def smooth(y, box_pts=10):\n",
    "    box = np.ones(box_pts)/box_pts\n",
    "    y_smooth = np.convolve(y, box, mode='same')\n",
    "    return y_smooth\n",
    "\n",
    "def parse_day_data_ecg(data_day):\n",
    "    data_day = data_day[['ecg_rr_array','ltime','window']].dropna()\n",
    "    data_day['count_ecg'] = data_day['ecg_rr_array'].apply(lambda a:len(a))\n",
    "    data_day = data_day[data_day.count_ecg>20]\n",
    "    data_day['ecg_rr_array_final'] = data_day['ecg_rr_array']\n",
    "    data_day['ecg_features'] = data_day['ecg_rr_array_final'].apply(lambda a:get_rr_features(smooth(a)))\n",
    "    return data_day\n",
    "\n",
    "def parse_each_day_ppg_ecg(a):\n",
    "    columns = ['window', 'ltime', 'likelihood_max_array', 'activity', 'rr_array',\n",
    "       'time', 'timestamp', 'likelihood_mean', 'localtime', 'ecg_rr_array',\n",
    "       'day', 'version', 'user', 'quality_features', 'activity_features', 'likelihood', 'likelihood_ind', 'length', 'rr', 'rr_col',\n",
    "       'length1', 'indicator', 'rr_col1', 'rr_features',\n",
    "       'rr_weighted_features', 'quality_mag', 'ecg_rr_array_final', 'ecg_features']\n",
    "    ecg_columns = ['window', 'ecg_rr_array_final','ecg_features']\n",
    "    a = a.drop(['stress_likelihood', 'stress_likelihood_ecg'],axis=1)\n",
    "    a_ecg = pd.DataFrame([],columns=ecg_columns)\n",
    "    if a['ecg_rr_array'].dropna().shape[0]>60:\n",
    "        a_ecg = parse_day_data_ecg(deepcopy(a))\n",
    "        a_ecg = a_ecg[ecg_columns]\n",
    "    a_ppg = parse_day_data(a)\n",
    "    a_ppg = parse_for_features(a_ppg)\n",
    "    if a_ppg.shape[0]==0:\n",
    "        return pd.DataFrame([],columns=columns)\n",
    "    a_ppg = pd.merge(a_ppg, a_ecg, how='left',left_on=['window'],right_on=['window'])\n",
    "    if a_ppg.shape[0]<60:\n",
    "        return pd.DataFrame([],columns=columns)\n",
    "    a_ppg = get_ecg_stress(a_ppg)\n",
    "    a_ppg = get_ppg_stress(a_ppg)\n",
    "    return a_ppg\n",
    "\n",
    "def get_ppg_stress(a):\n",
    "    clf = pickle.load(open('../models/stress_ecg_final.p','rb'))\n",
    "    a_ecg = deepcopy(a[['window','rr_weighted_features','quality_mag']].dropna())\n",
    "    quals1 = np.array(list(a_ecg['quality_mag'].values))\n",
    "    feature_matrix = np.array(list(a_ecg['rr_weighted_features']))\n",
    "    if len(feature_matrix)<10:\n",
    "        a['stress_likelihood_ppg'] = np.nan\n",
    "        return a\n",
    "    rr_70th = np.percentile(feature_matrix[:,2],60)\n",
    "    rr_95th = np.percentile(feature_matrix[:,2],99)\n",
    "    index = np.where((feature_matrix[:,2]>rr_70th)&(feature_matrix[:,2]<rr_95th))[0]\n",
    "    for i in range(feature_matrix.shape[1]):\n",
    "        m,s = weighted_avg_and_std(feature_matrix[index,i], quals1[index])\n",
    "        feature_matrix[:,i]  = (feature_matrix[:,i] - m)/s\n",
    "    probs = clf.predict_proba(feature_matrix)[:,1]\n",
    "    a_ecg['stress_likelihood_ppg'] = probs\n",
    "    a_ecg = a_ecg.drop(['rr_weighted_features','quality_mag'],axis=1)\n",
    "    a = pd.merge(a, a_ecg, how='left', left_on=['window'], right_on=['window'])\n",
    "    return a\n",
    "\n",
    "def get_ecg_stress(a):\n",
    "    clf = pickle.load(open('../models/stress_ecg_final.p','rb'))\n",
    "    a_ecg = deepcopy(a[['window','ecg_features']].dropna())\n",
    "    feature_matrix = np.array(list(a_ecg['ecg_features']))\n",
    "    if len(feature_matrix)<10:\n",
    "        a['stress_likelihood_ecg'] = np.nan\n",
    "        return a\n",
    "    rr_70th = np.percentile(feature_matrix[:,2],60)\n",
    "    rr_95th = np.percentile(feature_matrix[:,2],99)\n",
    "    index = np.where((feature_matrix[:,2]>rr_70th)&(feature_matrix[:,2]<rr_95th))[0]\n",
    "    means = np.mean(feature_matrix[index],axis=0)\n",
    "    stds = np.std(feature_matrix[index],axis=0)\n",
    "    feature_matrix = (feature_matrix - means)/stds\n",
    "    probs = clf.predict_proba(feature_matrix)[:,1]\n",
    "    a_ecg['stress_likelihood_ecg'] = probs\n",
    "    a_ecg = a_ecg.drop(['ecg_features'],axis=1)\n",
    "    a = pd.merge(a, a_ecg, how='left', left_on=['window'], right_on=['window'])\n",
    "    return a\n",
    "    \n",
    "def parse_each_participant(directory,d):\n",
    "    data = pickle.load(open(directory+d,'rb')).reset_index(drop=True)\n",
    "    print(data.shape,d)\n",
    "    ema = data[['user','day','window','time','ltime','all_scores','score','label']]\n",
    "    data = data.drop(['all_scores','score','label'],axis=1)\n",
    "    data_all = get_daywise(data)\n",
    "    if len(data_all)==0:\n",
    "        return 0\n",
    "    final_output = Parallel(n_jobs=25,verbose=4)(delayed(parse_each_day_ppg_ecg)(a) for a in data_all)\n",
    "#     final_output = [parse_each_day_ppg_ecg(a) for a in data_all]\n",
    "    final_output = [a for a in final_output if a.shape[0]>0]\n",
    "    if len(final_output)==0:\n",
    "        return 0\n",
    "    final_output = pd.concat(final_output)\n",
    "    final_output['stress_likelihood_ppg_qual'] = final_output['stress_likelihood_ppg']\n",
    "    print(final_output.shape)\n",
    "#     print(final_output.shape,final_output.columns)\n",
    "    pickle.dump([final_output,ema],open(directory1+d,'wb'))\n",
    "    return 0\n",
    "\n",
    "directory = '../../cc3/rice_data/ecg_ppg_25_left3/'\n",
    "directory1 = '../../cc3/rice_data/ecg_ppg_25_left5/'\n",
    "# all_data = Parallel(n_jobs=30,verbose=2)(delayed(parse_each_participant)(directory,d) for d in os.listdir(directory)[:2] if d[-1]=='p')\n",
    "all_data = [parse_each_participant(directory,d) for d in os.listdir(directory) if d[-1]=='p']"
   ]
  },
  {
   "cell_type": "code",
   "execution_count": null,
   "metadata": {},
   "outputs": [],
   "source": [
    "from scipy.stats import iqr,skew,kurtosis\n",
    "from datetime import datetime\n",
    "from copy import deepcopy\n",
    "import math\n",
    "from scipy.stats import pearsonr\n",
    "from sklearn.externals.joblib import Parallel,delayed\n",
    "import warnings\n",
    "import pandas as pd\n",
    "import pickle\n",
    "import os\n",
    "import numpy as np\n",
    "from sklearn.metrics import r2_score\n",
    "from sklearn.preprocessing import StandardScaler\n",
    "import matplotlib.pyplot as plt\n",
    "\n",
    "warnings.filterwarnings('ignore')\n",
    "\n",
    "def weighted_avg_and_std(values, weights):\n",
    "    \"\"\"\n",
    "    Return the weighted average and standard deviation.\n",
    "\n",
    "    values, weights -- Numpy ndarrays with the same shape.\n",
    "    \"\"\"\n",
    "    average = np.average(values, weights=weights)\n",
    "    # Fast and numerically precise:\n",
    "    variance = np.average((values-average)**2, weights=weights)\n",
    "    return average, math.sqrt(variance)\n",
    "\n",
    "def get_rr_features(a):\n",
    "    return np.array([np.var(a),iqr(a),np.mean(a),np.median(a),np.percentile(a,80),np.percentile(a,20),60000/np.median(a)])\n",
    "\n",
    "\n",
    "def get_weighted_rr_features(a):\n",
    "    a = np.repeat(a[:,0],np.int64(np.round(100*a[:,1])))\n",
    "    return np.array([np.var(a),iqr(a),np.mean(a),np.median(a),np.percentile(a,80),np.percentile(a,20),60000/np.median(a)])\n",
    "\n",
    "\n",
    "def get_quality_features(a):\n",
    "    feature = [np.percentile(a,50),np.mean(a),\n",
    "               len(a[a>.2])/60,len(a[a>.6])/60]\n",
    "    return np.array(feature)\n",
    "\n",
    "def get_daywise(data):\n",
    "    return [a for i,a in data.groupby(['user','day'],as_index=False) if a[['likelihood_max_array','rr_array']].dropna().shape[0]>60]\n",
    "\n",
    "def parse_day_data(data_day):\n",
    "    data_day['likelihood_max_array'] = data_day['likelihood_max_array'].apply(lambda a:np.squeeze(a).reshape(-1,3))\n",
    "    data_day['likelihood'] = data_day['likelihood_max_array'].apply(lambda a:np.max(a,axis=1))\n",
    "    data_day['likelihood_ind'] = data_day['likelihood_max_array'].apply(lambda a:np.argmax(a,axis=1))\n",
    "    data_day['rr_array'] = data_day['rr_array'].apply(lambda a:np.squeeze(a).reshape(-1,3))\n",
    "    data_day['length'] = data_day['rr_array'].apply(lambda a:a.shape[0])\n",
    "    data_day = data_day[data_day.length>20]\n",
    "    data_day['time'] = data_day['ltime'].apply(lambda a:datetime.timestamp(a))\n",
    "    indexes = data_day['likelihood_ind'].values\n",
    "    rr_arrays = data_day['rr_array'].values\n",
    "    rrs = []\n",
    "    for i,rr in enumerate(rr_arrays):\n",
    "        index = indexes[i]\n",
    "        frr = np.squeeze(np.array([rr[i,index[i]] for i in range(rr.shape[0])]))\n",
    "        rrs.append(frr)\n",
    "    data_day['rr'] = rrs\n",
    "    data_day['rr_col'] = data_day.apply(lambda a: np.vstack([np.squeeze(a['rr']),np.squeeze(a['likelihood']),np.squeeze(a['activity'])]).T,\n",
    "                     axis=1)\n",
    "    return data_day\n",
    "\n",
    "def remove_3sd(heart_rate_window):\n",
    "    temp = deepcopy(heart_rate_window)\n",
    "    try:\n",
    "        r,tt = weighted_avg_and_std(heart_rate_window[heart_rate_window[:,1]>.25,0],heart_rate_window[heart_rate_window[:,1]>.25,1])\n",
    "        index = np.where((heart_rate_window[:,0]<r+3*tt)&(heart_rate_window[:,0]>r-3*tt))[0]\n",
    "        heart_rate_window = heart_rate_window[index]\n",
    "    except:\n",
    "        pass\n",
    "    if heart_rate_window.shape[0]>10:\n",
    "        return [heart_rate_window,'Available']\n",
    "    else:\n",
    "        return [temp[:10],'Not Available']\n",
    "\n",
    "    \n",
    "def parse_for_features(data_day):\n",
    "    data_day['rr_col'] = data_day['rr_col'].apply(lambda a:a[np.where((a[:,1]>.05)&(a[:,0]>300)&(a[:,0]<1500)&(a[:,2]<.2))[0],:2])\n",
    "    data_day['rr_col'] = data_day['rr_col'].apply(lambda a:remove_3sd(a))\n",
    "    data_day['length1'] = data_day['rr_col'].apply(lambda a:a[0].shape[0])\n",
    "    data_day = data_day[data_day.length1>30]\n",
    "    data_day['indicator'] = data_day['rr_col'].apply(lambda a:a[1])\n",
    "    data_day['rr_col'] = data_day['rr_col'].apply(lambda a:a[0])\n",
    "    data_day['likelihood'] = data_day['rr_col'].apply(lambda a:a[:,1])\n",
    "    data_day['rr'] = data_day['rr_col'].apply(lambda a:a[:,0])\n",
    "    data_day['rr_col1'] = data_day.apply(lambda a:np.vstack([list(a['rr']),list(a['likelihood'])]).T,axis=1)\n",
    "    data_day['rr_features'] = data_day['rr'].apply(lambda a:get_rr_features(a))\n",
    "    data_day['rr_weighted_features'] = data_day['rr_col1'].apply(lambda a:get_weighted_rr_features(a))\n",
    "    data_day['quality_features'] = data_day['likelihood'].apply(lambda a:get_quality_features(a))\n",
    "    data_day['quality_mag'] = data_day['quality_features'].apply(lambda a:np.sum(a)/len(a))\n",
    "    return data_day\n",
    "\n",
    "def normalize_daywise(feature_matrix,quals1):\n",
    "    for i in range(feature_matrix.shape[1]):\n",
    "        m,s = weighted_avg_and_std(feature_matrix[:,i], quals1)\n",
    "        feature_matrix[:,i]  = (feature_matrix[:,i] - m)/s\n",
    "    return feature_matrix\n",
    "\n",
    "\n",
    "def parse_day_data_ecg(data_day):\n",
    "    data_day = data_day[['ecg_rr_array','ltime','window']].dropna()\n",
    "    data_day['count_ecg'] = data_day['ecg_rr_array'].apply(lambda a:len(a))\n",
    "    data_day = data_day[data_day.count_ecg>20]\n",
    "    data_day['ecg_rr_array_final'] = data_day['ecg_rr_array']\n",
    "    data_day['ecg_features'] = data_day['ecg_rr_array_final'].apply(lambda a:get_rr_features(a))\n",
    "    return data_day\n",
    "\n",
    "def parse_each_day_ppg_ecg(a):\n",
    "    columns = ['window', 'ltime', 'likelihood_max_array', 'activity', 'rr_array',\n",
    "       'time', 'timestamp', 'likelihood_mean', 'localtime', 'ecg_rr_array',\n",
    "       'day', 'version', 'user', 'quality_features', 'activity_features', 'likelihood', 'likelihood_ind', 'length', 'rr', 'rr_col',\n",
    "       'length1', 'indicator', 'rr_col1', 'rr_features',\n",
    "       'rr_weighted_features', 'quality_mag','window', 'ecg_rr_array_final', 'ecg_features']\n",
    "    ecg_columns = ['window', 'ecg_rr_array_final','ecg_features']\n",
    "    a = a.drop(['stress_likelihood', 'stress_likelihood_ecg'],axis=1)\n",
    "    a_ecg = pd.DataFrame([],columns=ecg_columns)\n",
    "    if a['ecg_rr_array'].dropna().shape[0]>60:\n",
    "        a_ecg = parse_day_data_ecg(deepcopy(a))\n",
    "        a_ecg = a_ecg[ecg_columns]\n",
    "    a_ppg = parse_day_data(a)\n",
    "    a_ppg = parse_for_features(a_ppg)\n",
    "    if a_ppg.shape[0]==0:\n",
    "        return pd.DataFrame([],columns=columns)\n",
    "#     a_ecg = a_ecg.rename({'window': 'window1'}, axis=1)\n",
    "    a_ppg = pd.merge(a_ppg, a_ecg, how='left', left_on=['window'],right_on=['window'],suffixes=('', '_7'))\n",
    "#     print(a_ppg.columns,'r')\n",
    "    return a_ppg[columns]\n",
    "\n",
    "def get_both_stress(a):\n",
    "    clf = pickle.load(open('../models/stress_ecg_final.p','rb'))\n",
    "    a_ecg = deepcopy(a[['window','ecg_features']].dropna())\n",
    "    print(a_ecg.columns,'--'*20)\n",
    "    feature_matrix = np.array(list(a_ecg['ecg_features']))\n",
    "    rr_70th = np.percentile(feature_matrix[:,2],60)\n",
    "    rr_95th = np.percentile(feature_matrix[:,2],99)\n",
    "    index = np.where((feature_matrix[:,2]>rr_70th)&(feature_matrix[:,2]<rr_95th))[0]\n",
    "    means = np.mean(feature_matrix[index],axis=0)\n",
    "    stds = np.std(feature_matrix[index],axis=0)\n",
    "    feature_matrix = (feature_matrix - means)/stds\n",
    "    probs = clf.predict_proba(feature_matrix)[:,1]\n",
    "    a_ecg['stress_likelihood_ecg'] = probs\n",
    "    a = a.drop(['ecg_features'],axis=1)\n",
    "#     print(a.columns,a_ecg.columns)\n",
    "#     a_ecg = a_ecg.rename({'window': 'window1'}, axis=1)\n",
    "    print(a_ecg.columns)\n",
    "    a = pd.merge(a, a_ecg, how='left', on=['window'])\n",
    "#     a = a.drop(['window1'],axis=1)\n",
    "#     plt.figure(figsize=(16,10))\n",
    "#     plt.plot(a['timestamp'],a['stress_likelihood_ecg'])\n",
    "#     plt.show()\n",
    "    return a\n",
    "    \n",
    "def parse_each_participant(directory,d):\n",
    "    data = pickle.load(open(directory+d,'rb')).reset_index(drop=True)\n",
    "    ema = data[['user','day','window','time','ltime','all_scores','score','label']]\n",
    "    data = data.drop(['all_scores','score','label'],axis=1)\n",
    "    data_all = get_daywise(data)\n",
    "    if len(data_all)==0:\n",
    "        return 0\n",
    "    final_output = Parallel(n_jobs=25,verbose=4)(delayed(parse_each_day_ppg_ecg)(a) for a in data_all)\n",
    "#     final_output = [parse_each_day_ppg_ecg(a) for a in data_all]\n",
    "    final_output = [a for a in final_output if a.shape[0]>0]\n",
    "    if len(final_output)==0:\n",
    "        return 0\n",
    "    final_output = pd.concat(final_output)\n",
    "    print(final_output.columns)\n",
    "    final_output = get_both_stress(final_output)\n",
    "#     pickle.dump([final_output,ema],open(directory1+d,'wb'))\n",
    "    return 0\n",
    "directory = '../../cc3/rice_data/ecg_ppg_25_left3/'\n",
    "directory1 = '../../cc3/rice_data/ecg_ppg_25_left5/'\n",
    "# all_data = Parallel(n_jobs=30,verbose=2)(delayed(parse_each_participant)(directory,d) for d in os.listdir(directory)[:2] if d[-1]=='p')\n",
    "all_data = [parse_each_participant(directory,d) for d in os.listdir(directory) if d[-1]=='p']"
   ]
  },
  {
   "cell_type": "code",
   "execution_count": null,
   "metadata": {},
   "outputs": [],
   "source": [
    "data1 = np.concatenate([a[0] for a in all_data])\n",
    "yld = np.concatenate([a[1] for a in all_data])\n",
    "yld1 = yld[:,:2]\n",
    "yld = yld[:,2:]\n",
    "day_corr = np.concatenate([a[2] for a in all_data])"
   ]
  },
  {
   "cell_type": "code",
   "execution_count": null,
   "metadata": {},
   "outputs": [],
   "source": [
    "import matplotlib.pyplot as plt\n",
    "plt.rcParams.update({'font.size':25})\n",
    "plt.figure(figsize=(16,8))\n",
    "plt.boxplot(yld)\n",
    "plt.ylabel('Minutes')\n",
    "plt.xticks(range(1,yld.shape[1]+1),['ECG YIELD','PPG YIELD'])\n",
    "plt.title('Stress yield across all participant days')\n",
    "plt.show()"
   ]
  },
  {
   "cell_type": "code",
   "execution_count": null,
   "metadata": {},
   "outputs": [],
   "source": [
    "print(day_corr.shape)\n",
    "day_corr = day_corr[~np.isnan(day_corr).any(axis=1)]\n",
    "print(np.sum([a[4] for a in all_data]),'- Participant Days,',np.sum([a[3] for a in all_data]),'- Users')"
   ]
  },
  {
   "cell_type": "code",
   "execution_count": null,
   "metadata": {},
   "outputs": [],
   "source": [
    "import matplotlib.pyplot as plt\n",
    "plt.rcParams.update({'font.size':20})\n",
    "plt.figure(figsize=(16,8))\n",
    "plt.boxplot(day_corr[~np.isnan(day_corr).any(axis=1)][:,np.array([0,1,2])])\n",
    "plt.ylim([-1,1])\n",
    "plt.ylabel('Pearson Correlation')\n",
    "plt.xticks(range(1,day_corr.shape[1]+1),['Original cStress','cStress with Weighted Features and weighted normalization','cStress with Weighted Features'],rotation=10)\n",
    "plt.title('Correlation with ECG For Different Modes of Normalization')\n",
    "plt.show()"
   ]
  },
  {
   "cell_type": "code",
   "execution_count": null,
   "metadata": {},
   "outputs": [],
   "source": [
    "import matplotlib.pyplot as plt\n",
    "plt.rcParams.update({'font.size':20})\n",
    "plt.figure(figsize=(16,8))\n",
    "plt.boxplot(day_corr[~np.isnan(day_corr).any(axis=1)][:,np.array([0,1,2])])\n",
    "plt.ylabel('Pearson Correlation')\n",
    "plt.xticks(range(1,day_corr.shape[1]+1),['Original cStress','cStress with Weighted Features and weighted normalization','cStress with Weighted Features'],rotation=10)\n",
    "plt.title('Correlation with ECG For Different Modes of Normalization')\n",
    "plt.show()"
   ]
  },
  {
   "cell_type": "code",
   "execution_count": null,
   "metadata": {},
   "outputs": [],
   "source": [
    "data_all = pd.DataFrame(data1,columns=['quality','corr_orig','corr_new','corr_new1','corr_between','ppg_yield','ecg_yield'])\n",
    "data_all1 = pd.DataFrame(yld1,columns=['quality','ppg_yield'])\n",
    "\n",
    "corr_25 = data_all.groupby('quality').quantile(.5)\n",
    "x = corr_25.index.values\n",
    "x1 = np.unique(data_all1['quality'].values)\n",
    "y = []\n",
    "for a in x1:\n",
    "    y.append(data_all1[data_all1.quality>=a]['ppg_yield'].sum()/60/np.sum([a[4] for a in all_data]))\n",
    "\n",
    "import matplotlib.pyplot as plt\n",
    "%matplotlib inline\n",
    "plt.rcParams.update({'font.size':20})\n",
    "fig, ax1 = plt.subplots(figsize=(20,12))\n",
    "ax2 = ax1.twinx()\n",
    "ax1.plot(x,corr_25['corr_orig'].loc[x],label='Original Cstress')\n",
    "ax1.plot(x,corr_25['corr_new'].loc[x],label='Weighted Normalization with weighted features')\n",
    "ax1.plot(x,corr_25['corr_new1'].loc[x],label='Original Cstress using Weighted Features')\n",
    "# ax1.plot(x,corr_25['corr_between'].loc[x],label='Original Normalization using auto Features')\n",
    "ax2.plot(x1,y,label='PPG Yield')\n",
    "ax1.grid()\n",
    "# ax1.plot(x,corr_75['corr_orig'].loc[x],label='Original 75th')\n",
    "# ax1.plot(x,corr_75['corr_new'].loc[x],label='Weighted 75th')\n",
    "ax1.legend(fontsize=20)\n",
    "ax1.set_xlabel('Quality Metric')\n",
    "ax2.set_ylabel('Median Hours per Participant Day', color='g')\n",
    "ax1.set_ylabel('Median Correlation Across all Participant Days', color='b')\n",
    "plt.show()\n",
    "#  plt.figure(figsize=(16,8))"
   ]
  },
  {
   "cell_type": "code",
   "execution_count": null,
   "metadata": {},
   "outputs": [],
   "source": [
    "data_all = pd.DataFrame(data1,columns=['quality','corr_orig','corr_new','corr_new1','corr_between','ppg_yield','ecg_yield'])\n",
    "data_all1 = pd.DataFrame(yld1,columns=['quality','ppg_yield'])\n",
    "\n",
    "corr_25 = data_all.groupby('quality').quantile(.5)\n",
    "x = corr_25.index.values\n",
    "x1 = np.unique(data_all1['quality'].values)\n",
    "y = []\n",
    "for a in x1:\n",
    "    y.append(data_all1[data_all1.quality>=a]['ppg_yield'].sum()/60/np.sum([a[4] for a in all_data]))\n",
    "\n",
    "import matplotlib.pyplot as plt\n",
    "%matplotlib inline\n",
    "plt.rcParams.update({'font.size':20})\n",
    "fig, ax1 = plt.subplots(figsize=(20,12))\n",
    "ax2 = ax1.twinx()\n",
    "ax1.plot(x,corr_25['corr_orig'].loc[x],label='Original Cstress')\n",
    "ax1.plot(x,corr_25['corr_new'].loc[x],label='Weighted Normalization with weighted features')\n",
    "ax1.plot(x,corr_25['corr_new1'].loc[x],label='Original Cstress using Weighted Features')\n",
    "# ax1.plot(x,corr_25['corr_between'].loc[x],label='Original Normalization using auto Features')\n",
    "ax2.plot(x1,y,label='PPG Yield')\n",
    "ax1.grid()\n",
    "# ax1.plot(x,corr_75['corr_orig'].loc[x],label='Original 75th')\n",
    "# ax1.plot(x,corr_75['corr_new'].loc[x],label='Weighted 75th')\n",
    "ax1.legend(fontsize=20)\n",
    "ax1.set_xlabel('Quality Metric')\n",
    "ax2.set_ylabel('Median Hours per Participant Day', color='g')\n",
    "ax1.set_ylabel('Median Correlation Across all Participant Days', color='b')\n",
    "plt.show()\n",
    "\n",
    "\n",
    "# plt.figure(figsize=(16,8))\n",
    "\n"
   ]
  },
  {
   "cell_type": "code",
   "execution_count": null,
   "metadata": {},
   "outputs": [],
   "source": [
    "import matplotlib.pyplot as plt\n",
    "%matplotlib inline\n",
    "fig, ax = plt.subplots(figsize=(16,8))\n",
    "plt.suptitle('')\n",
    "c = data_all.boxplot(column=['corr_new'], by='quality', ax=ax,showfliers=True)\n",
    "plt.ylim([-3,1])\n",
    "plt.xticks(rotation=100)"
   ]
  },
  {
   "cell_type": "code",
   "execution_count": null,
   "metadata": {},
   "outputs": [],
   "source": [
    "import matplotlib.pyplot as plt\n",
    "%matplotlib inline\n",
    "fig, ax = plt.subplots(figsize=(16,8))\n",
    "plt.suptitle('')\n",
    "c = data_all.boxplot(column=['ppg_yield'], by='quality', ax=ax)"
   ]
  },
  {
   "cell_type": "code",
   "execution_count": null,
   "metadata": {},
   "outputs": [],
   "source": [
    "data_all.groupby('quality').quantile([.25,.75]).loc[(0.2, 0.25)]"
   ]
  },
  {
   "cell_type": "code",
   "execution_count": null,
   "metadata": {},
   "outputs": [],
   "source": [
    "import sklearn"
   ]
  },
  {
   "cell_type": "code",
   "execution_count": null,
   "metadata": {},
   "outputs": [],
   "source": [
    "sklearn.show_versions()"
   ]
  },
  {
   "cell_type": "code",
   "execution_count": null,
   "metadata": {},
   "outputs": [],
   "source": [
    "data_all1['quality']"
   ]
  },
  {
   "cell_type": "code",
   "execution_count": null,
   "metadata": {},
   "outputs": [],
   "source": [
    "import pickle\n",
    "pickle.load(open('../models/stress_model_ecg_2.p','rb'))"
   ]
  },
  {
   "cell_type": "code",
   "execution_count": null,
   "metadata": {},
   "outputs": [],
   "source": []
  }
 ],
 "metadata": {
  "kernelspec": {
   "display_name": "CC3",
   "language": "python",
   "name": "cc3"
  },
  "language_info": {
   "codemirror_mode": {
    "name": "ipython",
    "version": 3
   },
   "file_extension": ".py",
   "mimetype": "text/x-python",
   "name": "python",
   "nbconvert_exporter": "python",
   "pygments_lexer": "ipython3",
   "version": "3.6.8"
  }
 },
 "nbformat": 4,
 "nbformat_minor": 4
}
