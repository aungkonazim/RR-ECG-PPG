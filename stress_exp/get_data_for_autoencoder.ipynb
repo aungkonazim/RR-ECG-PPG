{
 "cells": [
  {
   "cell_type": "code",
   "execution_count": 179,
   "metadata": {},
   "outputs": [
    {
     "name": "stderr",
     "output_type": "stream",
     "text": [
      "[Parallel(n_jobs=30)]: Using backend LokyBackend with 30 concurrent workers.\n",
      "[Parallel(n_jobs=30)]: Done  22 out of  60 | elapsed:    1.7s remaining:    2.9s\n",
      "[Parallel(n_jobs=30)]: Done  43 out of  60 | elapsed:    5.2s remaining:    2.1s\n",
      "[Parallel(n_jobs=30)]: Done  60 out of  60 | elapsed:   20.4s finished\n"
     ]
    }
   ],
   "source": [
    "from scipy.stats import iqr,skew,kurtosis,variation\n",
    "from datetime import datetime\n",
    "from copy import deepcopy\n",
    "import math\n",
    "from scipy.stats import pearsonr\n",
    "from sklearn.externals.joblib import Parallel,delayed\n",
    "import warnings\n",
    "import pandas as pd\n",
    "import pickle\n",
    "import os\n",
    "import numpy as np\n",
    "%matplotlib inline\n",
    "import matplotlib.pyplot as plt\n",
    "from sklearn.feature_selection import SelectKBest,f_classif\n",
    "from sklearn.decomposition import PCA\n",
    "from pprint import pprint\n",
    "from sklearn.metrics import f1_score,r2_score,classification_report,roc_auc_score\n",
    "from sklearn.model_selection import ParameterGrid\n",
    "from sklearn.ensemble import RandomForestClassifier,AdaBoostClassifier,RandomForestRegressor\n",
    "from sklearn.svm import SVC\n",
    "from sklearn.pipeline import Pipeline\n",
    "from sklearn.decomposition import PCA\n",
    "from sklearn.metrics import confusion_matrix,f1_score,precision_score,recall_score,accuracy_score\n",
    "import itertools\n",
    "from sklearn.model_selection import ParameterGrid, cross_val_predict, GroupKFold,GridSearchCV,StratifiedKFold\n",
    "from sklearn import preprocessing\n",
    "from sklearn.tree import DecisionTreeClassifier\n",
    "from sklearn.linear_model import LogisticRegression\n",
    "from sklearn.metrics import classification_report\n",
    "from sklearn import metrics\n",
    "import warnings\n",
    "from sklearn.metrics import roc_curve, auc, roc_auc_score, make_scorer\n",
    "warnings.filterwarnings('ignore')\n",
    "\n",
    "def get_daywise(data,ema):\n",
    "    df_col = []\n",
    "    for day in np.unique(ema['day'].values):\n",
    "        df = data[data.day.isin([day])]\n",
    "        if df.shape[0]<60:\n",
    "            continue\n",
    "        df_day = ema[ema.day.isin([day])]\n",
    "        if df_day.shape[0]<1:\n",
    "            continue\n",
    "        df_col.append([df,df_day])\n",
    "    return df_col\n",
    "\n",
    "from pandas.core.window import _flex_binary_moment, _Rolling_and_Expanding\n",
    "\n",
    "def weighted_mean(self, weights, **kwargs):\n",
    "    weights = self._shallow_copy(weights)\n",
    "    window = self._get_window(weights)\n",
    "\n",
    "    def _get_weighted_mean(X, Y):\n",
    "        X = X.astype('float64')\n",
    "        Y = Y.astype('float64')\n",
    "        sum_f = lambda x: x.rolling(window, self.min_periods, center=self.center).sum(**kwargs)\n",
    "        return sum_f(X * Y) / sum_f(Y)\n",
    "\n",
    "    return _flex_binary_moment(self._selected_obj, weights._selected_obj,\n",
    "                               _get_weighted_mean, pairwise=True)\n",
    "\n",
    "\n",
    "def get_xy(a,ema):\n",
    "    a = a[['time','ltime','quality_mag','stress_likelihood_ppg_qual']].dropna().sort_values('time').reset_index(drop=True)\n",
    "    a['quality_mag_1'] = a['quality_mag']\n",
    "    _Rolling_and_Expanding.weighted_mean = weighted_mean\n",
    "#     a['stress_likelihood_ppg_qual'] = a['stress_likelihood_ppg_qual'].rolling(window = 5).weighted_mean(a['quality_mag_1'])\n",
    "    X_f = np.array(list(a['quality_mag'].values))\n",
    "    t = np.array(list(a['time'].values))\n",
    "    X_s = np.array(list(a['stress_likelihood_ppg_qual'].values))\n",
    "    X_s = X_s[t.argsort()]\n",
    "    X_f = X_f[t.argsort()]\n",
    "    t = t[t.argsort()]\n",
    "    ema = ema.sort_values('time').reset_index(drop=True)\n",
    "    X = []\n",
    "    y = []\n",
    "    nn = 5\n",
    "    for i,row in ema.iterrows():\n",
    "        time = row['time']\n",
    "        diff = np.abs(t - time).min()\n",
    "        if diff>400:\n",
    "            continue\n",
    "        index = np.abs(t - time).argmin()\n",
    "        if index<nn:\n",
    "            continue\n",
    "        if index<nn:\n",
    "            X.append([X_s[0:index],X_f[0:index]])\n",
    "        else:\n",
    "            X.append([X_s[index-nn:index],X_f[index-nn:index]])\n",
    "        y.append(row['label'])\n",
    "    return X,y\n",
    "\n",
    "def get_features1(x1):\n",
    "    x = x1[0]\n",
    "    temp = []\n",
    "    temp.append(x[-1])\n",
    "    temp.append(x[0])\n",
    "    temp.append(x[len(x)//2])\n",
    "    temp.append(iqr(x))\n",
    "    temp.append(skew(x))\n",
    "    temp.append(kurtosis(x))\n",
    "    temp.append(iqr(x[:len(x)//2]))\n",
    "    temp.append(skew(x[:len(x)//2]))\n",
    "    temp.append(kurtosis(x[:len(x)//2]))\n",
    "    temp.append(iqr(x[len(x)//2:]))\n",
    "    temp.append(skew(x[len(x)//2:]))\n",
    "    temp.append(kurtosis(x[len(x)//2:]))\n",
    "#     x = x1[1]\n",
    "#     temp.append(x[-1])\n",
    "#     temp.append(x[0])\n",
    "#     temp.append(x[len(x)//2])\n",
    "#     temp.append(iqr(x))\n",
    "#     temp.append(skew(x))\n",
    "#     temp.append(kurtosis(x))\n",
    "#     temp.append(iqr(x[:len(x)//2]))\n",
    "#     temp.append(skew(x[:len(x)//2]))\n",
    "#     temp.append(kurtosis(x[:len(x)//2]))\n",
    "#     temp.append(iqr(x[len(x)//2:]))\n",
    "#     temp.append(skew(x[len(x)//2:]))\n",
    "#     temp.append(kurtosis(x[len(x)//2:]))\n",
    "#     temp.append(variation(x))\n",
    "    return np.array(temp)\n",
    "\n",
    "def f1Bias_scorer_CV(probs, y, ret_bias=False):\n",
    "\n",
    "    precision, recall, thresholds = metrics.precision_recall_curve(y, probs)\n",
    "\n",
    "    f1 = 0.0\n",
    "    for i in range(0, len(thresholds)):\n",
    "        if not (precision[i] == 0 and recall[i] == 0):\n",
    "            f = 2 * (precision[i] * recall[i]) / (precision[i] + recall[i])\n",
    "            if f > f1:\n",
    "                f1 = f\n",
    "                bias = thresholds[i]\n",
    "\n",
    "    if ret_bias:\n",
    "        return f1, bias\n",
    "    else:\n",
    "        return f1\n",
    "\n",
    "def my_score_auc(y_true,y_pred):\n",
    "    fpr, tpr, thresholds = roc_curve(y_true, y_pred)\n",
    "    return auc(fpr,tpr)\n",
    "\n",
    "def get_classification_report(X,y):\n",
    "    my_score = make_scorer(my_score_auc,needs_threshold=True)\n",
    "    n = np.int64(np.min([len(y)-np.sum(y),np.sum(y)]))\n",
    "#     if n>3:\n",
    "#         n=3\n",
    "    paramGrid = {\n",
    "#             'rf__kernel':['linear'],\n",
    "            'rf__C': np.logspace(-3,3,10),\n",
    "            'rf__class_weight':[{0:1,1:4/2},{0:1,1:3/2},{0:1,1:5/2},{0:1,1:1}],\n",
    "#             'pca__n_components':[3,4,2],\n",
    "#             'rf__probability':[True],\n",
    "            'rf__solver': ['lbfgs']\n",
    "        }\n",
    "    clf = Pipeline([('rf',LogisticRegression())])\n",
    "    grid_search = GridSearchCV(clf, paramGrid, n_jobs=-1,cv=StratifiedKFold(n_splits=n).split(X, y),\n",
    "                               scoring=my_score,verbose=1, return_train_score=False)\n",
    "    grid_search.fit(X,y)\n",
    "#     print(grid_search.best_score_)\n",
    "    clf = grid_search.best_estimator_\n",
    "    probs = cross_val_predict(clf,X,y,cv=StratifiedKFold(n_splits=n).split(X, y),n_jobs=5,method='predict_proba')[:,1]\n",
    "    pp = deepcopy(probs)\n",
    "    a,b = f1Bias_scorer_CV(probs, y, ret_bias=True)\n",
    "    print(roc_auc_score(y,probs))\n",
    "    probs[probs>=b] = 1\n",
    "    probs[probs<b] = 0\n",
    "    y_pred = probs\n",
    "    print(confusion_matrix(y,y_pred),classification_report(y,y_pred))\n",
    "    return y_pred,probs\n",
    "\n",
    "def parse_each_participant(directory,d):\n",
    "    data1 = pickle.load(open(directory+d,'rb'))\n",
    "    data = data1[0].sort_values('ltime').reset_index(drop=True)\n",
    "    ema = data1[1].dropna()\n",
    "    if ema.shape[0]<14:\n",
    "        return [],[],[],[]\n",
    "    data_all = get_daywise(data,ema)\n",
    "    if len(data_all)<4:\n",
    "        return [],[],[],[]\n",
    "    X,Y,groups = [],[],[]\n",
    "    for a,b in data_all:\n",
    "        try:\n",
    "            x,y = get_xy(a,b)\n",
    "        except Exception as e:\n",
    "            print(e)\n",
    "            continue\n",
    "        X.extend(x)\n",
    "        Y.extend(y)\n",
    "        groups.extend(d)\n",
    "    if np.sum(Y)<3 or len(X)<10:\n",
    "        return [],[],[],[]\n",
    "    qual = np.array([np.array(x[1]) for x in X])\n",
    "    X = np.array([get_features1(x) for x in X])\n",
    "    y = np.array(Y)\n",
    "    try:\n",
    "        y_pred,probs = get_classification_report(X,y)\n",
    "    except:\n",
    "        return [],[],[],[]\n",
    "    return y,y_pred,qual,probs\n",
    "\n",
    "directory1 = '../../cc3/rice_data/ecg_ppg_25_left4/'\n",
    "a = Parallel(n_jobs=30,verbose=3)(delayed(parse_each_participant)(directory1,d) for d in os.listdir(directory1) if d[-1]=='p')\n",
    "# a = [parse_each_participant(directory1,d) for d in os.listdir(directory1) if d[-1]=='p']"
   ]
  },
  {
   "cell_type": "code",
   "execution_count": 180,
   "metadata": {},
   "outputs": [],
   "source": [
    "scores,Y,P,yields = [],[],[],[]\n",
    "for y,y_pred,qual,probs in a:\n",
    "    if len(y)==0:\n",
    "        continue\n",
    "    Y.extend(list(y))\n",
    "    P.extend(list(y_pred))\n",
    "    yields.append(np.array([sum(y),len(y[y==0])]))\n",
    "    scores.append(np.array([roc_auc_score(y,probs),precision_score(y,y_pred),recall_score(y,y_pred),f1_score(y,y_pred),accuracy_score(y,y_pred)]))\n",
    "scores = np.array(scores)"
   ]
  },
  {
   "cell_type": "code",
   "execution_count": 181,
   "metadata": {},
   "outputs": [
    {
     "data": {
      "text/plain": [
       "(29, 5)"
      ]
     },
     "execution_count": 181,
     "metadata": {},
     "output_type": "execute_result"
    }
   ],
   "source": [
    "scores.shape"
   ]
  },
  {
   "cell_type": "code",
   "execution_count": 182,
   "metadata": {},
   "outputs": [
    {
     "data": {
      "image/png": "[encoded data removed]",
      "text/plain": [
       "<Figure size 1152x576 with 1 Axes>"
      ]
     },
     "metadata": {
      "needs_background": "light"
     },
     "output_type": "display_data"
    },
    {
     "name": "stdout",
     "output_type": "stream",
     "text": [
      "array([[0.60714286, 0.45454545, 0.71428571, 0.55555556, 0.57894737],\n",
      "       [0.69230769, 0.27272727, 1.        , 0.42857143, 0.5       ],\n",
      "       [0.87058824, 0.8       , 0.8       , 0.8       , 0.90909091],\n",
      "       [0.7       , 0.33333333, 1.        , 0.5       , 0.53846154],\n",
      "       [0.5       , 0.6       , 1.        , 0.75      , 0.6       ],\n",
      "       [0.84166667, 0.75      , 0.75      , 0.75      , 0.89473684],\n",
      "       [0.83333333, 0.66666667, 1.        , 0.8       , 0.8       ],\n",
      "       [0.64338235, 0.41176471, 0.875     , 0.56      , 0.56      ],\n",
      "       [0.5       , 0.40540541, 1.        , 0.57692308, 0.40540541],\n",
      "       [0.75961538, 0.66666667, 0.75      , 0.70588235, 0.76190476],\n",
      "       [0.5625    , 0.48275862, 0.875     , 0.62222222, 0.52777778],\n",
      "       [0.52941176, 0.52941176, 1.        , 0.69230769, 0.54285714],\n",
      "       [0.78571429, 0.75      , 0.85714286, 0.8       , 0.78571429],\n",
      "       [0.88888889, 0.6       , 1.        , 0.75      , 0.83333333],\n",
      "       [0.66666667, 0.53846154, 1.        , 0.7       , 0.625     ],\n",
      "       [0.70138889, 0.7       , 0.77777778, 0.73684211, 0.70588235],\n",
      "       [0.70879121, 0.78571429, 0.84615385, 0.81481481, 0.75      ],\n",
      "       [0.5       , 0.33333333, 1.        , 0.5       , 0.33333333],\n",
      "       [0.56060606, 0.25      , 0.66666667, 0.36363636, 0.5       ],\n",
      "       [0.5       , 0.33333333, 1.        , 0.5       , 0.33333333],\n",
      "       [0.66666667, 0.6       , 1.        , 0.75      , 0.66666667],\n",
      "       [0.61607143, 0.54545455, 0.85714286, 0.66666667, 0.6       ],\n",
      "       [0.83333333, 0.91666667, 1.        , 0.95652174, 0.92857143],\n",
      "       [0.75      , 0.57142857, 0.8       , 0.66666667, 0.73333333],\n",
      "       [0.5       , 0.63157895, 1.        , 0.77419355, 0.63157895],\n",
      "       [0.9       , 0.88235294, 1.        , 0.9375    , 0.92      ],\n",
      "       [0.57142857, 0.5       , 1.        , 0.66666667, 0.53846154],\n",
      "       [0.58888889, 0.36842105, 0.77777778, 0.5       , 0.51724138],\n",
      "       [0.68650794, 0.5862069 , 0.94444444, 0.72340426, 0.66666667]])\n"
     ]
    }
   ],
   "source": [
    "from pprint import pprint\n",
    "plt.figure(figsize=(16,8))\n",
    "plt.boxplot(scores)\n",
    "plt.xticks(range(1,6,1),['ROC AUC',\n",
    "                        'Precision',\n",
    "                        'Recall',\n",
    "                        'F1',\n",
    "                         'Accuracy'])\n",
    "plt.show()\n",
    "pprint(scores)"
   ]
  },
  {
   "cell_type": "code",
   "execution_count": 183,
   "metadata": {},
   "outputs": [
    {
     "name": "stdout",
     "output_type": "stream",
     "text": [
      "              precision    recall  f1-score   support\n",
      "\n",
      "         0.0       0.88      0.43      0.58       335\n",
      "         1.0       0.54      0.92      0.68       245\n",
      "\n",
      "    accuracy                           0.64       580\n",
      "   macro avg       0.71      0.67      0.63       580\n",
      "weighted avg       0.74      0.64      0.62       580\n",
      " [[144 191]\n",
      " [ 20 225]]\n"
     ]
    }
   ],
   "source": [
    "print(classification_report(Y,P),confusion_matrix(Y,P))"
   ]
  },
  {
   "cell_type": "code",
   "execution_count": 191,
   "metadata": {},
   "outputs": [
    {
     "data": {
      "text/plain": [
       "[]"
      ]
     },
     "execution_count": 191,
     "metadata": {},
     "output_type": "execute_result"
    },
    {
     "data": {
      "image/png": "[encoded data removed]",
      "text/plain": [
       "<Figure size 1440x720 with 1 Axes>"
      ]
     },
     "metadata": {
      "needs_background": "light"
     },
     "output_type": "display_data"
    }
   ],
   "source": [
    "### %matplotlib inline\n",
    "plt.rcParams.update({'font.size':25})\n",
    "scores = scores[scores[:,0].argsort()]\n",
    "import matplotlib.pyplot as plt\n",
    "fig,ax = plt.subplots(1,1,figsize=(20,10),sharex=True)\n",
    "ax.bar(np.arange(0,4*scores.shape[0],4)[scores[:,0]<=.5],scores[scores[:,0]<=.5,0],.5,color='r')\n",
    "ax.bar(np.arange(0,4*scores.shape[0],4)[scores[:,0]>.5],scores[scores[:,0]>.5,0],.5,color='g')\n",
    "ax.bar(np.arange(1,4*scores.shape[0],4),scores[:,-2],.5,color='b')\n",
    "ax.set_title('EMA prediction Results')\n",
    "# ax[0,1].bar(np.arange(scores.shape[0]),scores[:,1],.5)\n",
    "# ax[1,0].bar(np.arange(scores.shape[0]),scores[:,2],.5)\n",
    "# ax[1,1].bar(np.arange(scores.shape[0]),scores[:,3],.5,color='r')\n",
    "ax.set_xlabel('Participants')\n",
    "ax.set_xticks([])\n",
    "# ax.set_xlabel('Participant Id')"
   ]
  },
  {
   "cell_type": "code",
   "execution_count": 198,
   "metadata": {},
   "outputs": [
    {
     "data": {
      "image/png": "[encoded data removed]",
      "text/plain": [
       "<Figure size 1152x576 with 1 Axes>"
      ]
     },
     "metadata": {
      "needs_background": "light"
     },
     "output_type": "display_data"
    }
   ],
   "source": [
    "yields = np.array(yields)\n",
    "plt.figure(figsize=(16,8))\n",
    "plt.bar(np.array(range(len(yields))),yields[:,0])\n",
    "plt.bar(np.array(range(len(yields))),yields[:,1],bottom=yields[:,0])\n",
    "plt.show()\n",
    "# plt.colorbar()\n",
    "# yields"
   ]
  },
  {
   "cell_type": "code",
   "execution_count": 190,
   "metadata": {},
   "outputs": [
    {
     "data": {
      "text/plain": [
       "array([0.67120349, 0.56090455, 0.90659972, 0.6740819 , 0.64442408])"
      ]
     },
     "execution_count": 190,
     "metadata": {},
     "output_type": "execute_result"
    }
   ],
   "source": [
    "np.mean(scores,axis=0)"
   ]
  },
  {
   "cell_type": "code",
   "execution_count": 187,
   "metadata": {},
   "outputs": [
    {
     "ename": "ValueError",
     "evalue": "too many values to unpack (expected 3)",
     "output_type": "error",
     "traceback": [
      "\u001b[0;31m---------------------------------------------------------------------------\u001b[0m",
      "\u001b[0;31mValueError\u001b[0m                                Traceback (most recent call last)",
      "\u001b[0;32m<ipython-input-187-1f18fd3899a5>\u001b[0m in \u001b[0;36m<module>\u001b[0;34m\u001b[0m\n\u001b[0;32m----> 1\u001b[0;31m \u001b[0;32mfor\u001b[0m \u001b[0my\u001b[0m\u001b[0;34m,\u001b[0m\u001b[0my_pred\u001b[0m\u001b[0;34m,\u001b[0m\u001b[0mqual\u001b[0m \u001b[0;32min\u001b[0m \u001b[0ma\u001b[0m\u001b[0;34m:\u001b[0m\u001b[0;34m\u001b[0m\u001b[0;34m\u001b[0m\u001b[0m\n\u001b[0m\u001b[1;32m      2\u001b[0m     \u001b[0;32mif\u001b[0m \u001b[0mlen\u001b[0m\u001b[0;34m(\u001b[0m\u001b[0my\u001b[0m\u001b[0;34m)\u001b[0m\u001b[0;34m==\u001b[0m\u001b[0;36m0\u001b[0m\u001b[0;34m:\u001b[0m\u001b[0;34m\u001b[0m\u001b[0;34m\u001b[0m\u001b[0m\n\u001b[1;32m      3\u001b[0m         \u001b[0;32mcontinue\u001b[0m\u001b[0;34m\u001b[0m\u001b[0;34m\u001b[0m\u001b[0m\n\u001b[1;32m      4\u001b[0m     \u001b[0mtemp\u001b[0m \u001b[0;34m=\u001b[0m \u001b[0;34m[\u001b[0m\u001b[0;34m]\u001b[0m\u001b[0;34m\u001b[0m\u001b[0;34m\u001b[0m\u001b[0m\n\u001b[1;32m      5\u001b[0m     \u001b[0mqual_mean\u001b[0m \u001b[0;34m=\u001b[0m \u001b[0mnp\u001b[0m\u001b[0;34m.\u001b[0m\u001b[0marray\u001b[0m\u001b[0;34m(\u001b[0m\u001b[0;34m[\u001b[0m\u001b[0mnp\u001b[0m\u001b[0;34m.\u001b[0m\u001b[0mmean\u001b[0m\u001b[0;34m(\u001b[0m\u001b[0ma\u001b[0m\u001b[0;34m)\u001b[0m \u001b[0;32mfor\u001b[0m \u001b[0ma\u001b[0m \u001b[0;32min\u001b[0m \u001b[0mqual\u001b[0m\u001b[0;34m]\u001b[0m\u001b[0;34m)\u001b[0m\u001b[0;34m\u001b[0m\u001b[0;34m\u001b[0m\u001b[0m\n",
      "\u001b[0;31mValueError\u001b[0m: too many values to unpack (expected 3)"
     ]
    }
   ],
   "source": [
    "\n",
    "for y,y_pred,qual in a:\n",
    "    if len(y)==0:\n",
    "        continue\n",
    "    temp = []\n",
    "    qual_mean = np.array([np.mean(a) for a in qual])\n",
    "    qual_std = np.array([np.std(a) for a in qual])\n",
    "    for j in range(len(y)):\n",
    "        temp.append([10*y[j]+y_pred[j],qual_mean[j],qual_std[j]])\n",
    "    df = pd.DataFrame(temp,columns=['indicator','mean_s','std_s'])\n",
    "    fig, ax = plt.subplots(figsize=(16,8))\n",
    "    print(confusion_matrix(y,y_pred))\n",
    "    plt.suptitle('')\n",
    "    c = df.boxplot(column=['mean_s'], by='indicator', ax=ax,showfliers=False)\n",
    "    print(df.groupby('indicator').count())\n",
    "    plt.xticks(rotation=100)\n",
    "    plt.title(roc_auc_score(y,y_pred))\n",
    "    plt.show()"
   ]
  },
  {
   "cell_type": "code",
   "execution_count": null,
   "metadata": {},
   "outputs": [],
   "source": []
  },
  {
   "cell_type": "code",
   "execution_count": null,
   "metadata": {},
   "outputs": [],
   "source": []
  }
 ],
 "metadata": {
  "kernelspec": {
   "display_name": "CC3",
   "language": "python",
   "name": "cc3"
  },
  "language_info": {
   "codemirror_mode": {
    "name": "ipython",
    "version": 3
   },
   "file_extension": ".py",
   "mimetype": "text/x-python",
   "name": "python",
   "nbconvert_exporter": "python",
   "pygments_lexer": "ipython3",
   "version": "3.6.8"
  }
 },
 "nbformat": 4,
 "nbformat_minor": 2
}
